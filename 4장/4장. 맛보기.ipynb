{
 "cells": [
  {
   "cell_type": "code",
   "execution_count": 1,
   "metadata": {},
   "outputs": [
    {
     "name": "stdout",
     "output_type": "stream",
     "text": [
      "750 μs ± 12.9 μs per loop (mean ± std. dev. of 7 runs, 1,000 loops each)\n",
      "38.7 ms ± 1.3 ms per loop (mean ± std. dev. of 7 runs, 10 loops each)\n"
     ]
    }
   ],
   "source": [
    "import numpy as np\n",
    "my_arr = np.arange(1000000) #arange:넘파이 배열 생성 함수(연속된 숫자 배열)\n",
    "my_list = list(range(1000000))\n",
    "%timeit my_arr2 = my_arr*2\n",
    "%timeit my_list2 = [x * 2 for x in my_list]\n",
    "# %timeit은 주피터 노트북의 특별한 명령어(magic command)로:\n",
    "# 코드의 실행 시간을 여러 번 측정하여 평균을 보여줌\n",
    "# 표준편차도 함께 보여줌\n",
    "# 실제 성능 비교가 가능\n",
    "\n",
    "# my_list = [1, 2, 3]\n",
    "# print(my_list * 2)  # [1, 2, 3, 1, 2, 3]  # 리스트가 반복됨\n",
    "# # 각 원소에 2를 곱하려면 리스트 컴프리헨션 사용해야 함\n",
    "# my_list2 = [x * 2 for x in my_list]  # [2, 4, 6]\n",
    "\n",
    "# # NumPy 배열은 직접 곱셈 가능\n",
    "# my_arr = np.array([1, 2, 3])\n",
    "# print(my_arr * 2)  # array([2, 4, 6])  # 각 원소에 2가 곱해짐\n"
   ]
  }
 ],
 "metadata": {
  "kernelspec": {
   "display_name": "base",
   "language": "python",
   "name": "python3"
  },
  "language_info": {
   "codemirror_mode": {
    "name": "ipython",
    "version": 3
   },
   "file_extension": ".py",
   "mimetype": "text/x-python",
   "name": "python",
   "nbconvert_exporter": "python",
   "pygments_lexer": "ipython3",
   "version": "3.12.7"
  }
 },
 "nbformat": 4,
 "nbformat_minor": 2
}
