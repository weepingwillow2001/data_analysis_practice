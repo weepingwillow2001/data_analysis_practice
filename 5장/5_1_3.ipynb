{
  "nbformat": 4,
  "nbformat_minor": 0,
  "metadata": {
    "colab": {
      "provenance": [],
      "authorship_tag": "ABX9TyO8BAN7UNX9YPNKQOFScuyf",
      "include_colab_link": true
    },
    "kernelspec": {
      "name": "python3",
      "display_name": "Python 3"
    },
    "language_info": {
      "name": "python"
    }
  },
  "cells": [
    {
      "cell_type": "markdown",
      "metadata": {
        "id": "view-in-github",
        "colab_type": "text"
      },
      "source": [
        "<a href=\"https://colab.research.google.com/github/weepingwillow2001/data_analysis_practice/blob/main/5%EC%9E%A5/5_1_3.ipynb\" target=\"_parent\"><img src=\"https://colab.research.google.com/assets/colab-badge.svg\" alt=\"Open In Colab\"/></a>"
      ]
    },
    {
      "cell_type": "code",
      "execution_count": 10,
      "metadata": {
        "colab": {
          "base_uri": "https://localhost:8080/"
        },
        "id": "ZH4NLZdIsQpC",
        "outputId": "7dee7129-a0e6-4d7c-9f5b-66e32ec5ef0c"
      },
      "outputs": [
        {
          "output_type": "stream",
          "name": "stdout",
          "text": [
            "Index(['a', 'b', 'c'], dtype='object')\n",
            "Index(['a', 'b'], dtype='object')\n",
            "Index([0, 1, 2], dtype='int64')\n",
            "True\n",
            "0    1.5\n",
            "1   -2.5\n",
            "2    0.0\n",
            "dtype: float64\n",
            "Index(['Ohio', 'Nevada'], dtype='object')\n"
          ]
        },
        {
          "output_type": "execute_result",
          "data": {
            "text/plain": [
              "False"
            ]
          },
          "metadata": {},
          "execution_count": 10
        }
      ],
      "source": [
        "import pandas as pd\n",
        "from pandas import Series, DataFrame\n",
        "import numpy as np\n",
        "# 문자열 인덱스 생성\n",
        "obj = pd.Series(np.arange(3), index=['a', 'b', 'c'])\n",
        "index = obj.index\n",
        "print(index)  # Index(['a', 'b', 'c'], dtype='object')\n",
        "\n",
        "# 인덱스 슬라이싱\n",
        "print(index[0:2])  # Index(['a', 'b'], dtype='object')\n",
        "\n",
        "# 색인 객체는 변경이 불가능!!\n",
        "# index[1] = \"d\"  # TypeError 발생 (새로 \"할당\" 불가)\n",
        "# 1번 위치의 인덱스를 \"d\" 로 할당하라는 뜻\n",
        "index[0] == \"a\" #True (비교문)\n",
        "\n",
        "# 숫자 인덱스 생성\n",
        "labels = pd.Index(np.arange(3))\n",
        "print(labels)  # Int64Index([0, 1, 2], dtype='int64')\n",
        "\n",
        "# 인덱스 재사용\n",
        "obj2 = pd.Series([1.5, -2.5, 0], index=labels)\n",
        "print(obj2.index is labels)  # True\n",
        "print(obj2)\n",
        "# 0    1.5\n",
        "# 1   -2.5\n",
        "# 2    0.0\n",
        "\n",
        "\n",
        "populations = {\"Ohio\": {2000: 1.5, 2001: 1.7, 2002: 3.6},\n",
        "               \"Nevada\": {2001: 2.4, 2002: 2.9}}\n",
        "frame3 = pd.DataFrame(populations)\n",
        "# DataFrame의 인덱스와 컬럼 확인\n",
        "print(frame3.columns)  # Index(['Ohio', 'Nevada'], dtype='object', name='state')\n",
        "\n",
        "# 값 존재 여부 확인\n",
        "\"Ohio\" in frame3.columns  # True\n",
        "2003 in frame3.index  # False"
      ]
    }
  ]
}