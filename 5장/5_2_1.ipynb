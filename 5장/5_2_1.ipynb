{
  "nbformat": 4,
  "nbformat_minor": 0,
  "metadata": {
    "colab": {
      "provenance": [],
      "authorship_tag": "ABX9TyMJ4nUza3b1xxV+LU6Xi9ZR",
      "include_colab_link": true
    },
    "kernelspec": {
      "name": "python3",
      "display_name": "Python 3"
    },
    "language_info": {
      "name": "python"
    }
  },
  "cells": [
    {
      "cell_type": "markdown",
      "metadata": {
        "id": "view-in-github",
        "colab_type": "text"
      },
      "source": [
        "<a href=\"https://colab.research.google.com/github/weepingwillow2001/data_analysis_practice/blob/main/5%EC%9E%A5/5_2_1.ipynb\" target=\"_parent\"><img src=\"https://colab.research.google.com/assets/colab-badge.svg\" alt=\"Open In Colab\"/></a>"
      ]
    },
    {
      "cell_type": "code",
      "execution_count": 1,
      "metadata": {
        "colab": {
          "base_uri": "https://localhost:8080/"
        },
        "id": "uU1iRM21GRyx",
        "outputId": "67f8c74c-35f6-4ea3-bfba-5d401e3460fa"
      },
      "outputs": [
        {
          "output_type": "stream",
          "name": "stdout",
          "text": [
            "d    4.5\n",
            "b    7.2\n",
            "a   -5.3\n",
            "c    3.6\n",
            "dtype: float64\n"
          ]
        }
      ],
      "source": [
        "#reindex\n",
        "\n",
        "import pandas as pd\n",
        "import numpy as np\n",
        "# Series 객체의 인덱스를 \"변경\"하거나 새 인덱스를 \"추가\"할 수 있음!!\n",
        "\n",
        "# Index 객체는 기본적으로 불변(immutable)한 특성이지만 이를 우회함!!\n",
        "obj = pd.Series([4.5, 7.2, -5.3, 3.6], index=['d', 'b', 'a', 'c'])\n",
        "print(obj)\n",
        "# d    4.5\n",
        "# b    7.2\n",
        "# a   -5.3\n",
        "# c    3.6\n",
        "# dtype: float64"
      ]
    },
    {
      "cell_type": "code",
      "source": [
        "# reindex로 새로운 순서로 인덱스 재정렬\n",
        "\n",
        "obj2 = obj.reindex(['a', 'b', 'c', 'd', 'e'])\n",
        "print(obj2)\n",
        "# a   -5.3\n",
        "# b    7.2\n",
        "# c    3.6\n",
        "# d    4.5\n",
        "# e    NaN\n",
        "# dtype: float64"
      ],
      "metadata": {
        "colab": {
          "base_uri": "https://localhost:8080/"
        },
        "id": "xIrido2MGvcw",
        "outputId": "ca1e0dfd-68f8-4098-ec2d-51765dee8007"
      },
      "execution_count": 2,
      "outputs": [
        {
          "output_type": "stream",
          "name": "stdout",
          "text": [
            "a   -5.3\n",
            "b    7.2\n",
            "c    3.6\n",
            "d    4.5\n",
            "e    NaN\n",
            "dtype: float64\n"
          ]
        }
      ]
    },
    {
      "cell_type": "code",
      "source": [
        "# ffill 메서드로 누락된 값 채우기\n",
        "# forward fill: \"앞\"의 값으로 누락된 값 채움\n",
        "\n",
        "obj3 = pd.Series(['blue', 'purple', 'yellow'], index=[0, 2, 4])\n",
        "print(obj3)\n",
        "# 0      blue\n",
        "# 2    purple\n",
        "# 4    yellow\n",
        "# dtype: object"
      ],
      "metadata": {
        "colab": {
          "base_uri": "https://localhost:8080/"
        },
        "id": "IHzTaNNuIdzh",
        "outputId": "8fa13151-9f58-4b4f-b197-d994ea3b05c2"
      },
      "execution_count": 3,
      "outputs": [
        {
          "output_type": "stream",
          "name": "stdout",
          "text": [
            "0      blue\n",
            "2    purple\n",
            "4    yellow\n",
            "dtype: object\n"
          ]
        }
      ]
    },
    {
      "cell_type": "code",
      "source": [
        "# reindex와 ffill 메서드 사용하여 누락된 값을 앞의 값으로 채우기\n",
        "print(obj3.reindex(np.arange(6), method='ffill'))\n",
        "# 0      blue\n",
        "# 1      blue  # 앞의 값 blue\n",
        "# 2    purple\n",
        "# 3    purple  # 앞의 값 purple\n",
        "# 4    yellow\n",
        "# 5    yellow  # 앞의 값 yellow\n",
        "# dtype: object\n",
        "\n",
        "#반대는 bfill: backward fill, 실무에선 ffill이 더 자주 사용됨"
      ],
      "metadata": {
        "colab": {
          "base_uri": "https://localhost:8080/"
        },
        "id": "G9Kj4vpDJNJS",
        "outputId": "4efb4ddc-2652-49c7-d07d-e12f2f8e27f6"
      },
      "execution_count": 4,
      "outputs": [
        {
          "output_type": "stream",
          "name": "stdout",
          "text": [
            "0      blue\n",
            "1      blue\n",
            "2    purple\n",
            "3    purple\n",
            "4    yellow\n",
            "5    yellow\n",
            "dtype: object\n"
          ]
        }
      ]
    },
    {
      "cell_type": "code",
      "source": [
        "# DataFrame에 reindex 적용\n",
        "\n",
        "frame = pd.DataFrame(np.arange(9).reshape((3, 3)),\n",
        "                    index=['a', 'c', 'd'],\n",
        "                    columns=['Ohio', 'Texas', 'California'])\n",
        "print(frame)\n",
        "#    Ohio  Texas  California\n",
        "# a     0      1          2\n",
        "# c     3      4          5\n",
        "# d     6      7          8"
      ],
      "metadata": {
        "colab": {
          "base_uri": "https://localhost:8080/"
        },
        "id": "zaSw8zQ2J05x",
        "outputId": "6b33e9f8-92af-4b2b-87e3-23c4ad5e0a11"
      },
      "execution_count": 9,
      "outputs": [
        {
          "output_type": "stream",
          "name": "stdout",
          "text": [
            "   Ohio  Texas  California\n",
            "a     0      1           2\n",
            "c     3      4           5\n",
            "d     6      7           8\n"
          ]
        }
      ]
    },
    {
      "cell_type": "code",
      "source": [
        "# 새로운 인덱스 추가\n",
        "frame2 = frame.reindex(index=['a', 'b', 'c', 'd'])\n",
        "print(frame2)\n",
        "#    Ohio  Texas  California\n",
        "# a   0.0    1.0        2.0\n",
        "# b   NaN    NaN        NaN\n",
        "# c   3.0    4.0        5.0\n",
        "# d   6.0    7.0        8.0"
      ],
      "metadata": {
        "colab": {
          "base_uri": "https://localhost:8080/"
        },
        "id": "qbMGxRLHJ9KT",
        "outputId": "cc63e908-fa5a-4df1-a194-7e20d743510e"
      },
      "execution_count": 10,
      "outputs": [
        {
          "output_type": "stream",
          "name": "stdout",
          "text": [
            "   Ohio  Texas  California\n",
            "a   0.0    1.0         2.0\n",
            "b   NaN    NaN         NaN\n",
            "c   3.0    4.0         5.0\n",
            "d   6.0    7.0         8.0\n"
          ]
        }
      ]
    },
    {
      "cell_type": "code",
      "source": [
        "# 열(columns)도 reindex로 재정렬 가능!!\n",
        "states = ['Texas', 'Utah', 'California']\n",
        "print(frame.reindex(columns=states))\n",
        "#    Texas  Utah  California\n",
        "# a      1   NaN          2\n",
        "# c      4   NaN          5\n",
        "# d      7   NaN          8"
      ],
      "metadata": {
        "colab": {
          "base_uri": "https://localhost:8080/"
        },
        "id": "Wq33lx5XM6s-",
        "outputId": "cbbaf8bb-822d-49e2-f5d6-34dcc6e8782c"
      },
      "execution_count": 11,
      "outputs": [
        {
          "output_type": "stream",
          "name": "stdout",
          "text": [
            "   Texas  Utah  California\n",
            "a      1   NaN           2\n",
            "c      4   NaN           5\n",
            "d      7   NaN           8\n"
          ]
        }
      ]
    },
    {
      "cell_type": "code",
      "source": [
        "# axis 파라미터 사용\n",
        "print(frame.reindex(states, axis='columns'))  #  states로 재구성할 축이 열임을 지정\n",
        "#    Texas  Utah  California\n",
        "# a      1   NaN          2\n",
        "# c      4   NaN          5\n",
        "# d      7   NaN          8"
      ],
      "metadata": {
        "colab": {
          "base_uri": "https://localhost:8080/"
        },
        "id": "HssZPWWHNU3D",
        "outputId": "aeb79e02-ad1d-4880-cf5c-c1cf0a8b6f1e"
      },
      "execution_count": 12,
      "outputs": [
        {
          "output_type": "stream",
          "name": "stdout",
          "text": [
            "   Texas  Utah  California\n",
            "a      1   NaN           2\n",
            "c      4   NaN           5\n",
            "d      7   NaN           8\n"
          ]
        }
      ]
    },
    {
      "cell_type": "code",
      "source": [
        "# loc를 사용한 선택과 재배열\n",
        "# loc은 iloc 과 달리 \"이름\"으로 판단\n",
        "print(frame.loc[['a', 'c', 'd'], ['California', 'Texas']])  #loc[[행], [열]]\n",
        "#    California  Texas\n",
        "# a           2      1\n",
        "# d           8      7\n",
        "# c           5      4"
      ],
      "metadata": {
        "colab": {
          "base_uri": "https://localhost:8080/"
        },
        "id": "gMId_01bNXqA",
        "outputId": "706ad683-c83a-4fba-b29a-ccff3dba000c"
      },
      "execution_count": 13,
      "outputs": [
        {
          "output_type": "stream",
          "name": "stdout",
          "text": [
            "   California  Texas\n",
            "a           2      1\n",
            "c           5      4\n",
            "d           8      7\n"
          ]
        }
      ]
    }
  ]
}