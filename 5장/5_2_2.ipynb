{
  "nbformat": 4,
  "nbformat_minor": 0,
  "metadata": {
    "colab": {
      "provenance": [],
      "authorship_tag": "ABX9TyOD7Ooo2fwvwm7ENvZALkmJ",
      "include_colab_link": true
    },
    "kernelspec": {
      "name": "python3",
      "display_name": "Python 3"
    },
    "language_info": {
      "name": "python"
    }
  },
  "cells": [
    {
      "cell_type": "markdown",
      "metadata": {
        "id": "view-in-github",
        "colab_type": "text"
      },
      "source": [
        "<a href=\"https://colab.research.google.com/github/weepingwillow2001/data_analysis_practice/blob/main/5%EC%9E%A5/5_2_2.ipynb\" target=\"_parent\"><img src=\"https://colab.research.google.com/assets/colab-badge.svg\" alt=\"Open In Colab\"/></a>"
      ]
    },
    {
      "cell_type": "code",
      "execution_count": 1,
      "metadata": {
        "colab": {
          "base_uri": "https://localhost:8080/"
        },
        "id": "yO49fwNTYG-q",
        "outputId": "48012ba3-e31e-47f9-d393-dbed74e35b9a"
      },
      "outputs": [
        {
          "output_type": "stream",
          "name": "stdout",
          "text": [
            "a    0.0\n",
            "b    1.0\n",
            "c    2.0\n",
            "d    3.0\n",
            "e    4.0\n",
            "dtype: float64\n"
          ]
        }
      ],
      "source": [
        "#drop: 행, 열 삭제\n",
        "\n",
        "import numpy as np\n",
        "import pandas as pd\n",
        "from pandas import Series, DataFrame\n",
        "\n",
        "obj = pd.Series(np.arange(5.), index=['a', 'b', 'c', 'd', 'e'])\n",
        "print(obj)\n",
        "# a    0.0\n",
        "# b    1.0\n",
        "# c    2.0\n",
        "# d    3.0\n",
        "# e    4.0\n",
        "# dtype: float64"
      ]
    },
    {
      "cell_type": "code",
      "source": [
        "# 'c' 인덱스 삭제\n",
        "new_obj = obj.drop('c')\n",
        "print(new_obj)\n",
        "# a    0.0\n",
        "# b    1.0\n",
        "# d    3.0\n",
        "# e    4.0\n",
        "# dtype: float64"
      ],
      "metadata": {
        "colab": {
          "base_uri": "https://localhost:8080/"
        },
        "id": "-iFZa_8rcPsi",
        "outputId": "15595389-a992-480a-b963-802af8863515"
      },
      "execution_count": 2,
      "outputs": [
        {
          "output_type": "stream",
          "name": "stdout",
          "text": [
            "a    0.0\n",
            "b    1.0\n",
            "d    3.0\n",
            "e    4.0\n",
            "dtype: float64\n"
          ]
        }
      ]
    },
    {
      "cell_type": "code",
      "source": [
        "# 여러 인덱스 삭제\n",
        "print(obj.drop(['d', 'c']))\n",
        "# a    0.0\n",
        "# b    1.0\n",
        "# e    4.0\n",
        "# dtype: float64"
      ],
      "metadata": {
        "colab": {
          "base_uri": "https://localhost:8080/"
        },
        "id": "IJ0qNroacm3A",
        "outputId": "73ed74f1-11c8-44d2-e890-d734064818de"
      },
      "execution_count": 3,
      "outputs": [
        {
          "output_type": "stream",
          "name": "stdout",
          "text": [
            "a    0.0\n",
            "b    1.0\n",
            "e    4.0\n",
            "dtype: float64\n"
          ]
        }
      ]
    },
    {
      "cell_type": "code",
      "source": [
        "# DataFrame 예제\n",
        "data = pd.DataFrame(np.arange(16).reshape((4, 4)),\n",
        "                   index=['Ohio', 'Colorado', 'Utah', 'New York'],\n",
        "                   columns=['one', 'two', 'three', 'four'])\n",
        "print(data)\n",
        "#           one  two  three  four\n",
        "# Ohio        0    1      2     3\n",
        "# Colorado    4    5      6     7\n",
        "# Utah        8    9     10    11\n",
        "# New York   12   13     14    15"
      ],
      "metadata": {
        "colab": {
          "base_uri": "https://localhost:8080/"
        },
        "id": "PQrqI6__eLpA",
        "outputId": "b7f1fd7f-c13a-47be-c74d-899cd1bb7c45"
      },
      "execution_count": 4,
      "outputs": [
        {
          "output_type": "stream",
          "name": "stdout",
          "text": [
            "          one  two  three  four\n",
            "Ohio        0    1      2     3\n",
            "Colorado    4    5      6     7\n",
            "Utah        8    9     10    11\n",
            "New York   12   13     14    15\n"
          ]
        }
      ]
    },
    {
      "cell_type": "code",
      "source": [
        "# 행(index) 삭제\n",
        "print(data.drop(index=['Colorado', 'Ohio']))\n",
        "#           one  two  three  four\n",
        "# Utah        8    9     10    11\n",
        "# New York   12   13     14    15"
      ],
      "metadata": {
        "colab": {
          "base_uri": "https://localhost:8080/"
        },
        "id": "gCLOnAtReMjH",
        "outputId": "4b6d0e19-5561-49a5-bd38-7d53b3144f64"
      },
      "execution_count": 5,
      "outputs": [
        {
          "output_type": "stream",
          "name": "stdout",
          "text": [
            "          one  two  three  four\n",
            "Utah        8    9     10    11\n",
            "New York   12   13     14    15\n"
          ]
        }
      ]
    },
    {
      "cell_type": "code",
      "source": [
        "# 열(columns) 삭제\n",
        "print(data.drop(columns='two'))\n",
        "#           one  three  four\n",
        "# Ohio        0      2     3\n",
        "# Colorado    4      6     7\n",
        "# Utah        8     10    11\n",
        "# New York   12     14    15"
      ],
      "metadata": {
        "colab": {
          "base_uri": "https://localhost:8080/"
        },
        "id": "bQzBdm2eeQiP",
        "outputId": "f09760a4-29a9-4037-80e2-62c6a500275e"
      },
      "execution_count": 10,
      "outputs": [
        {
          "output_type": "stream",
          "name": "stdout",
          "text": [
            "          one  three  four\n",
            "Ohio        0      2     3\n",
            "Colorado    4      6     7\n",
            "Utah        8     10    11\n",
            "New York   12     14    15\n"
          ]
        }
      ]
    },
    {
      "cell_type": "code",
      "source": [
        "# axis 파라미터를 사용한 열 삭제\n",
        "print(data.drop('two', axis = 'columns'))\n",
        "#           one  three  four\n",
        "# Ohio        0      2     3\n",
        "# Colorado    4      6     7\n",
        "# Utah        8     10    11\n",
        "# New York   12     14    15"
      ],
      "metadata": {
        "colab": {
          "base_uri": "https://localhost:8080/"
        },
        "id": "cvjZBsAqeSdi",
        "outputId": "55088518-1337-4bbe-d3ad-9baf7ceb2159"
      },
      "execution_count": 8,
      "outputs": [
        {
          "output_type": "stream",
          "name": "stdout",
          "text": [
            "          one  three  four\n",
            "Ohio        0      2     3\n",
            "Colorado    4      6     7\n",
            "Utah        8     10    11\n",
            "New York   12     14    15\n"
          ]
        }
      ]
    },
    {
      "cell_type": "code",
      "source": [
        "# 여러 열 삭제\n",
        "print(data.drop(['two', 'four'], axis='columns'))\n",
        "#           one  three\n",
        "# Ohio        0      2\n",
        "# Colorado    4      6\n",
        "# Utah        8     10\n",
        "# New York   12     14"
      ],
      "metadata": {
        "colab": {
          "base_uri": "https://localhost:8080/"
        },
        "id": "8EnBqdg0eUWA",
        "outputId": "bbb22953-52ab-4918-e9b1-5725e36d69cf"
      },
      "execution_count": 9,
      "outputs": [
        {
          "output_type": "stream",
          "name": "stdout",
          "text": [
            "          one  three\n",
            "Ohio        0      2\n",
            "Colorado    4      6\n",
            "Utah        8     10\n",
            "New York   12     14\n"
          ]
        }
      ]
    }
  ]
}