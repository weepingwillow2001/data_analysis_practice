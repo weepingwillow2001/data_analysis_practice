{
  "nbformat": 4,
  "nbformat_minor": 0,
  "metadata": {
    "colab": {
      "provenance": [],
      "authorship_tag": "ABX9TyOdOA9IHtXDY9dLV/Tp5HMi",
      "include_colab_link": true
    },
    "kernelspec": {
      "name": "python3",
      "display_name": "Python 3"
    },
    "language_info": {
      "name": "python"
    }
  },
  "cells": [
    {
      "cell_type": "markdown",
      "metadata": {
        "id": "view-in-github",
        "colab_type": "text"
      },
      "source": [
        "<a href=\"https://colab.research.google.com/github/weepingwillow2001/data_analysis_practice/blob/main/5%EC%9E%A5/5_2_3.ipynb\" target=\"_parent\"><img src=\"https://colab.research.google.com/assets/colab-badge.svg\" alt=\"Open In Colab\"/></a>"
      ]
    },
    {
      "cell_type": "code",
      "execution_count": null,
      "metadata": {
        "colab": {
          "base_uri": "https://localhost:8080/"
        },
        "id": "EhfbqOJ89Xsd",
        "outputId": "68f20c1c-006c-4b99-ff9b-f946bd4691f9"
      },
      "outputs": [
        {
          "output_type": "stream",
          "name": "stdout",
          "text": [
            "a    0.0\n",
            "b    1.0\n",
            "c    2.0\n",
            "d    3.0\n",
            "dtype: float64\n"
          ]
        }
      ],
      "source": [
        "import pandas as pd\n",
        "import numpy as np\n",
        "from pandas import Series, DataFrame\n",
        "\n",
        "obj = pd.Series(np.arange(4.), index=[\"a\", \"b\", \"c\", \"d\"])\n",
        "print(obj)"
      ]
    },
    {
      "cell_type": "code",
      "source": [
        "# 단일 라벨 인덱싱\n",
        "\n",
        "print(obj[\"b\"])  # 결과: 1.0\n",
        "print(obj[\"c\"])  # 결과: 2.0"
      ],
      "metadata": {
        "colab": {
          "base_uri": "https://localhost:8080/"
        },
        "id": "RqOUOKom_IQ1",
        "outputId": "2b8d19e2-ca3d-4f00-f773-042777cf8df3"
      },
      "execution_count": null,
      "outputs": [
        {
          "output_type": "stream",
          "name": "stdout",
          "text": [
            "1.0\n",
            "2.0\n"
          ]
        }
      ]
    },
    {
      "cell_type": "code",
      "source": [
        "# 슬라이싱\n",
        "\n",
        "print(obj[2:4])\n",
        "# 출력:\n",
        "# c    2.0\n",
        "# d    3.0\n",
        "# dtype: float64"
      ],
      "metadata": {
        "colab": {
          "base_uri": "https://localhost:8080/"
        },
        "id": "ZkQVMZEY__px",
        "outputId": "a2373b8c-2380-4e2c-f685-810acdc1fb37"
      },
      "execution_count": null,
      "outputs": [
        {
          "output_type": "stream",
          "name": "stdout",
          "text": [
            "c    2.0\n",
            "d    3.0\n",
            "dtype: float64\n"
          ]
        }
      ]
    },
    {
      "cell_type": "code",
      "source": [
        "# 라벨 리스트로 인덱싱\n",
        "\n",
        "print(obj[[\"b\", \"a\", \"d\"]])\n",
        "# 출력:\n",
        "# b    1.0\n",
        "# a    0.0\n",
        "# d    3.0\n",
        "# dtype: float64"
      ],
      "metadata": {
        "colab": {
          "base_uri": "https://localhost:8080/"
        },
        "id": "upjOKJhRASzu",
        "outputId": "474d896e-5ba2-407b-e342-0d5b2e5ad799"
      },
      "execution_count": null,
      "outputs": [
        {
          "output_type": "stream",
          "name": "stdout",
          "text": [
            "b    1.0\n",
            "a    0.0\n",
            "d    3.0\n",
            "dtype: float64\n"
          ]
        }
      ]
    },
    {
      "cell_type": "code",
      "source": [
        "print(obj[[1, 3]])  #1행과 3행\n",
        "# 출력:\n",
        "# b    1.0\n",
        "# d    3.0\n",
        "# dtype: float64"
      ],
      "metadata": {
        "colab": {
          "base_uri": "https://localhost:8080/"
        },
        "id": "pZuSW97GAg2l",
        "outputId": "e5b183a9-5948-45d6-f176-5d2ef8a4b855"
      },
      "execution_count": null,
      "outputs": [
        {
          "output_type": "stream",
          "name": "stdout",
          "text": [
            "b    1.0\n",
            "d    3.0\n",
            "dtype: float64\n"
          ]
        },
        {
          "output_type": "stream",
          "name": "stderr",
          "text": [
            "<ipython-input-5-f32f50b79a27>:1: FutureWarning: Series.__getitem__ treating keys as positions is deprecated. In a future version, integer keys will always be treated as labels (consistent with DataFrame behavior). To access a value by position, use `ser.iloc[pos]`\n",
            "  print(obj[[1, 3]])\n"
          ]
        }
      ]
    },
    {
      "cell_type": "code",
      "source": [
        "# 불리언 필터링\n",
        "\n",
        "print(obj[obj < 2])\n",
        "# 출력:\n",
        "# a    0.0\n",
        "# b    1.0\n",
        "# dtype: float64"
      ],
      "metadata": {
        "colab": {
          "base_uri": "https://localhost:8080/"
        },
        "id": "YjqTbr9PA2OW",
        "outputId": "43e35df4-2d4d-4828-d4d0-b7a1678d9339"
      },
      "execution_count": null,
      "outputs": [
        {
          "output_type": "stream",
          "name": "stdout",
          "text": [
            "a    0.0\n",
            "b    1.0\n",
            "dtype: float64\n"
          ]
        }
      ]
    },
    {
      "cell_type": "code",
      "source": [
        "# loc 메서드 사용\n",
        "\n",
        "print(obj.loc[[\"b\", \"a\", \"d\"]])  #\"이름\"으로 판단, b-a-d 순서로 출력됨!\n",
        "# 출력:\n",
        "# b    1.0\n",
        "# a    0.0\n",
        "# d    3.0\n",
        "# dtype: float64"
      ],
      "metadata": {
        "colab": {
          "base_uri": "https://localhost:8080/"
        },
        "id": "DTMbQqurA846",
        "outputId": "32b67d9a-0e01-4f1a-cb62-976e92a4e6e7"
      },
      "execution_count": null,
      "outputs": [
        {
          "output_type": "stream",
          "name": "stdout",
          "text": [
            "b    1.0\n",
            "a    0.0\n",
            "d    3.0\n",
            "dtype: float64\n"
          ]
        }
      ]
    },
    {
      "cell_type": "code",
      "source": [
        "# \"정수\" 인덱스를 가진 Series 생성\n",
        "\n",
        "obj1 = pd.Series([1, 2, 3], index=[2, 0, 1])\n",
        "print(obj1)\n",
        "# 출력:\n",
        "# 2    1\n",
        "# 0    2\n",
        "# 1    3\n",
        "# dtype: int64\n"
      ],
      "metadata": {
        "colab": {
          "base_uri": "https://localhost:8080/"
        },
        "id": "LqqnYXA9Cm5Y",
        "outputId": "009e6baf-e515-475f-e30e-09554150c8ce"
      },
      "execution_count": null,
      "outputs": [
        {
          "output_type": "stream",
          "name": "stdout",
          "text": [
            "2    1\n",
            "0    2\n",
            "1    3\n",
            "dtype: int64\n"
          ]
        }
      ]
    },
    {
      "cell_type": "code",
      "source": [
        "# 정수 위치로 슬라이싱\n",
        "\n",
        "print(obj1[[0, 1, 2]])   # 0-1-2 순서로 출력됨\n",
        "# 출력:\n",
        "# 0    2\n",
        "# 1    3\n",
        "# 2    1\n",
        "# dtype: int64\n"
      ],
      "metadata": {
        "colab": {
          "base_uri": "https://localhost:8080/"
        },
        "id": "GmGAGBBMCpFx",
        "outputId": "f3c3368d-a324-45d1-e068-0a245e88b00a"
      },
      "execution_count": null,
      "outputs": [
        {
          "output_type": "stream",
          "name": "stdout",
          "text": [
            "0    2\n",
            "1    3\n",
            "2    1\n",
            "dtype: int64\n"
          ]
        }
      ]
    },
    {
      "cell_type": "code",
      "source": [
        "# \"문자열\" 인덱스를 가진 Series 생성\n",
        "\n",
        "obj2 = pd.Series([1, 2, 3], index=[\"a\", \"b\", \"c\"])\n",
        "print(obj2)\n",
        "# 출력:\n",
        "# a    1\n",
        "# b    2\n",
        "# c    3\n",
        "# dtype: int64\n"
      ],
      "metadata": {
        "colab": {
          "base_uri": "https://localhost:8080/"
        },
        "id": "qbaKyrrXCqjL",
        "outputId": "96c9069f-9e7f-4612-af60-2a555f6202d3"
      },
      "execution_count": null,
      "outputs": [
        {
          "output_type": "stream",
          "name": "stdout",
          "text": [
            "a    1\n",
            "b    2\n",
            "c    3\n",
            "dtype: int64\n"
          ]
        }
      ]
    },
    {
      "cell_type": "code",
      "source": [
        "# 문자열 인덱스로 슬라이싱\n",
        "\n",
        "print(obj2[[\"a\", \"b\", \"c\"]])\n",
        "# 출력:\n",
        "# a    1\n",
        "# b    2\n",
        "# c    3\n",
        "# dtype: int64"
      ],
      "metadata": {
        "colab": {
          "base_uri": "https://localhost:8080/"
        },
        "id": "FwBzy3zqCtm5",
        "outputId": "40782b58-be88-4d4f-bc1c-6cfebcc82c0e"
      },
      "execution_count": null,
      "outputs": [
        {
          "output_type": "stream",
          "name": "stdout",
          "text": [
            "a    1\n",
            "b    2\n",
            "c    3\n",
            "dtype: int64\n"
          ]
        }
      ]
    },
    {
      "cell_type": "code",
      "source": [
        "# 값 수정하기\n",
        "\n",
        "obj2.loc[[\"b\",\"c\"]] = 5\n",
        "print(obj2)\n",
        "# 출력:\n",
        "# a    1\n",
        "# b    5\n",
        "# c    5\n",
        "# dtype: int64"
      ],
      "metadata": {
        "colab": {
          "base_uri": "https://localhost:8080/"
        },
        "id": "YI9qBcYrCvXB",
        "outputId": "27b805f9-1b8f-4b94-db46-c7e08e61b9b8"
      },
      "execution_count": null,
      "outputs": [
        {
          "output_type": "stream",
          "name": "stdout",
          "text": [
            "a    1\n",
            "b    5\n",
            "c    5\n",
            "dtype: int64\n"
          ]
        }
      ]
    },
    {
      "cell_type": "code",
      "source": [
        "# DataFrame 생성 및 인덱싱\n",
        "data = pd.DataFrame(np.arange(16).reshape(4, 4),\n",
        "                   index=[\"Ohio\", \"Colorado\", \"Utah\", \"New York\"],\n",
        "                   columns=[\"one\", \"two\", \"three\", \"four\"])\n",
        "print(data)\n",
        "# 출력:\n",
        "#           one  two  three  four\n",
        "# Ohio        0    1      2     3\n",
        "# Colorado    4    5      6     7\n",
        "# Utah        8    9     10    11\n",
        "# New York   12   13     14    15"
      ],
      "metadata": {
        "colab": {
          "base_uri": "https://localhost:8080/"
        },
        "id": "6LiVWCQlCxAn",
        "outputId": "19361166-f95d-4166-f08b-509918df276b"
      },
      "execution_count": null,
      "outputs": [
        {
          "output_type": "stream",
          "name": "stdout",
          "text": [
            "          one  two  three  four\n",
            "Ohio        0    1      2     3\n",
            "Colorado    4    5      6     7\n",
            "Utah        8    9     10    11\n",
            "New York   12   13     14    15\n"
          ]
        }
      ]
    },
    {
      "cell_type": "code",
      "source": [
        "# 열 선택\n",
        "\n",
        "print(data[\"two\"])\n",
        "# 출력:\n",
        "# Ohio         1\n",
        "# Colorado     5\n",
        "# Utah         9\n",
        "# New York    13\n",
        "# Name: two, dtype: int64"
      ],
      "metadata": {
        "colab": {
          "base_uri": "https://localhost:8080/"
        },
        "id": "MDKYJDIhCyLR",
        "outputId": "d550b36a-ae0d-4e81-926a-4edcf738d2f6"
      },
      "execution_count": null,
      "outputs": [
        {
          "output_type": "stream",
          "name": "stdout",
          "text": [
            "Ohio         1\n",
            "Colorado     5\n",
            "Utah         9\n",
            "New York    13\n",
            "Name: two, dtype: int64\n"
          ]
        }
      ]
    },
    {
      "cell_type": "code",
      "source": [
        "# 여러 열 선택\n",
        "\n",
        "print(data[[\"three\", \"one\"]])\n",
        "# 출력:\n",
        "#           three  one\n",
        "# Ohio          2    0\n",
        "# Colorado      6    4\n",
        "# Utah         10    8\n",
        "# New York     14   12"
      ],
      "metadata": {
        "colab": {
          "base_uri": "https://localhost:8080/"
        },
        "id": "SY9ModNHCzbM",
        "outputId": "b8bfdc4d-ca86-468c-c423-8d4c3b1a4659"
      },
      "execution_count": null,
      "outputs": [
        {
          "output_type": "stream",
          "name": "stdout",
          "text": [
            "          three  one\n",
            "Ohio          2    0\n",
            "Colorado      6    4\n",
            "Utah         10    8\n",
            "New York     14   12\n"
          ]
        }
      ]
    },
    {
      "cell_type": "code",
      "source": [
        "# 행 선택\n",
        "\n",
        "print(data.loc[[\"Colorado\"], : ] )   # df 형태 유지"
      ],
      "metadata": {
        "colab": {
          "base_uri": "https://localhost:8080/"
        },
        "id": "VdBLhmXHE2mC",
        "outputId": "3f4043b6-e26c-49d2-c988-4b9a6a596dac"
      },
      "execution_count": null,
      "outputs": [
        {
          "output_type": "stream",
          "name": "stdout",
          "text": [
            "          one  two  three  four\n",
            "Colorado    4    5      6     7\n"
          ]
        }
      ]
    },
    {
      "cell_type": "code",
      "source": [
        "# 여러 행 선택\n",
        "\n",
        "print(data.loc[[\"Ohio\", \"Utah\"]])"
      ],
      "metadata": {
        "colab": {
          "base_uri": "https://localhost:8080/"
        },
        "id": "r8oVNJgwF9-C",
        "outputId": "31ec300b-6b6e-40fc-c339-fec2344c96af"
      },
      "execution_count": null,
      "outputs": [
        {
          "output_type": "stream",
          "name": "stdout",
          "text": [
            "      one  two  three  four\n",
            "Ohio    0    1      2     3\n",
            "Utah    8    9     10    11\n"
          ]
        }
      ]
    },
    {
      "cell_type": "code",
      "source": [
        "# 슬라이싱으로 \"행\" 선택하기\n",
        "\n",
        "print(data[:2])\n",
        "# 출력:\n",
        "#           one  two  three  four\n",
        "# Ohio        0    1      2     3\n",
        "# Colorado    4    5      6     7"
      ],
      "metadata": {
        "collapsed": true,
        "id": "J1l7k05Bs-jm"
      },
      "execution_count": null,
      "outputs": []
    },
    {
      "cell_type": "code",
      "source": [
        "# 조건을 사용한 행 선택\n",
        "\n",
        "print(data[data[\"three\"] > 5])   # 'three' 열의 값이 5보다 큰 모든 행을 선택합니다\n",
        "# 출력:\n",
        "#           one  two  three  four\n",
        "# Colorado    4    5      6     7\n",
        "# Utah        8    9     10    11\n",
        "# New York   12   13     14    15"
      ],
      "metadata": {
        "id": "7qFNgjsOtVy4"
      },
      "execution_count": null,
      "outputs": []
    },
    {
      "cell_type": "code",
      "source": [
        "# 비교 연산자를 사용한 \"불리언\" 마스킹\n",
        "\n",
        "print(data < 5)\n",
        "# 출력:\n",
        "#             one    two  three   four\n",
        "# Ohio       True   True   True   True\n",
        "# Colorado   True  False  False  False\n",
        "# Utah      False  False  False  False\n",
        "# New York  False  False  False  False"
      ],
      "metadata": {
        "id": "tCCPUAGDtp81"
      },
      "execution_count": null,
      "outputs": []
    },
    {
      "cell_type": "code",
      "source": [
        "# 불리언 DataFrame에서 True 값을 가진 위치에 0을 할당\n",
        "\n",
        "data[data < 5] = 0\n",
        "print(data)\n",
        "# 출력:\n",
        "#           one  two  three  four\n",
        "# Ohio        0    0      0     0\n",
        "# Colorado    0    5      6     7\n",
        "# Utah        8    9     10    11\n",
        "# New York   12   13     14    15"
      ],
      "metadata": {
        "id": "viWQklbxtvC9"
      },
      "execution_count": null,
      "outputs": []
    },
    {
      "cell_type": "code",
      "source": [
        "import pandas as pd\n",
        "import numpy as np\n",
        "from pandas import Series, DataFrame\n",
        "# 샘플 금융 데이터셋 생성\n",
        "data1 = pd.DataFrame({\n",
        "    '시가': [150.2, 235.6, 320.8, 45.7],\n",
        "    '고가': [153.5, 242.1, 328.6, 48.2],\n",
        "    '저가': [148.1, 232.4, 315.3, 44.6],\n",
        "    '종가': [152.8, 240.5, 322.1, 47.9]\n",
        "}, index=['애플', '마이크로소프트', '구글', '엑손모빌'])\n",
        "\n",
        "print(data1)"
      ],
      "metadata": {
        "colab": {
          "base_uri": "https://localhost:8080/"
        },
        "id": "5FV5INIIvZ8p",
        "outputId": "22f59b72-b408-4c5e-d454-897e4c1f3a6c"
      },
      "execution_count": 3,
      "outputs": [
        {
          "output_type": "stream",
          "name": "stdout",
          "text": [
            "            시가     고가     저가     종가\n",
            "애플       150.2  153.5  148.1  152.8\n",
            "마이크로소프트  235.6  242.1  232.4  240.5\n",
            "구글       320.8  328.6  315.3  322.1\n",
            "엑손모빌      45.7   48.2   44.6   47.9\n"
          ]
        }
      ]
    },
    {
      "cell_type": "code",
      "source": [
        "# loc을 사용한 데이터 접근\n",
        "\n",
        "# 단일 행 선택 (애플에 대한 모든 데이터)\n",
        "apple_data = data1.loc['애플']\n",
        "print(\"애플 주식 데이터:\")\n",
        "print(apple_data)\n",
        "\n",
        "# 특정 주식과 특정 열 선택\n",
        "tech_prices = data1.loc[['애플', '마이크로소프트'], ['시가', '종가']]\n",
        "print(\"\\n기술 주식의 시가와 종가:\")\n",
        "print(tech_prices)\n",
        "\n",
        "# loc과 조건 함께 사용\n",
        "high_value_stocks = data1.loc[data1['종가'] > 200]\n",
        "print(\"\\n종가가 200 이상인 주식:\")\n",
        "print(high_value_stocks)"
      ],
      "metadata": {
        "colab": {
          "base_uri": "https://localhost:8080/"
        },
        "id": "bees8u7MxNI9",
        "outputId": "e9615393-d00e-429b-d368-859c2153b283"
      },
      "execution_count": 6,
      "outputs": [
        {
          "output_type": "stream",
          "name": "stdout",
          "text": [
            "애플 주식 데이터:\n",
            "시가    150.2\n",
            "고가    153.5\n",
            "저가    148.1\n",
            "종가    152.8\n",
            "Name: 애플, dtype: float64\n",
            "\n",
            "기술 주식의 시가와 종가:\n",
            "            시가     종가\n",
            "애플       150.2  152.8\n",
            "마이크로소프트  235.6  240.5\n",
            "\n",
            "종가가 200 이상인 주식:\n",
            "            시가     고가     저가     종가\n",
            "마이크로소프트  235.6  242.1  232.4  240.5\n",
            "구글       320.8  328.6  315.3  322.1\n"
          ]
        }
      ]
    },
    {
      "cell_type": "code",
      "source": [
        "# iloc 사용하여 데이터 접근\n",
        "\n",
        "# 첫 번째 행 가져오기\n",
        "first_stock = data1.iloc[0]\n",
        "print(\"첫 번째 주식 데이터:\")\n",
        "print(first_stock)\n",
        "\n",
        "# 위치로 특정 행과 열 가져오기\n",
        "selected_data = data1.iloc[[1, 2], [0, 3]]  # 1행, 2행, 0열, 3열\n",
        "print(\"\\n선택된 데이터 (마이크로소프트와 구글의 시가와 종가):\")\n",
        "print(selected_data)\n",
        "\n",
        "# 더 복잡한 슬라이싱\n",
        "slice_data = data1.iloc[0:2, 1:3]  # 처음 두 행, 1열과 2열\n",
        "print(\"\\n데이터 슬라이스 (처음 두 주식의 고가와 저가):\")\n",
        "print(slice_data)\n"
      ],
      "metadata": {
        "colab": {
          "base_uri": "https://localhost:8080/"
        },
        "id": "FizEjLKz0Uxs",
        "outputId": "9c6f9862-4a14-477e-870c-15e0dbab8511"
      },
      "execution_count": 7,
      "outputs": [
        {
          "output_type": "stream",
          "name": "stdout",
          "text": [
            "첫 번째 주식 데이터:\n",
            "시가    150.2\n",
            "고가    153.5\n",
            "저가    148.1\n",
            "종가    152.8\n",
            "Name: 애플, dtype: float64\n",
            "\n",
            "선택된 데이터 (마이크로소프트와 구글의 시가와 종가):\n",
            "            시가     종가\n",
            "마이크로소프트  235.6  240.5\n",
            "구글       320.8  322.1\n",
            "\n",
            "데이터 슬라이스 (처음 두 주식의 고가와 저가):\n",
            "            고가     저가\n",
            "애플       153.5  148.1\n",
            "마이크로소프트  242.1  232.4\n"
          ]
        }
      ]
    },
    {
      "cell_type": "code",
      "source": [
        "# loc, iloc 함께 사용\n",
        "\n",
        "# 종가가 시가보다 높은 \"행\"을 찾은 다음 고가와 저가 \"열\" 선택\n",
        "profitable_days = data1.loc[data1['종가'] > data1['시가'], ['고가', '저가']]\n",
        "print(\"시가보다 높게 마감한 주식의 고가와 저가:\")\n",
        "print(profitable_days)\n",
        "\n",
        "# loc만 불리언 배열 사용 가능!!"
      ],
      "metadata": {
        "colab": {
          "base_uri": "https://localhost:8080/"
        },
        "id": "ZIXvmnIg4RWs",
        "outputId": "0f3fc584-7043-4f10-d497-7c217cf05fae"
      },
      "execution_count": 9,
      "outputs": [
        {
          "output_type": "stream",
          "name": "stdout",
          "text": [
            "시가보다 높게 마감한 주식의 고가와 저가:\n",
            "            고가     저가\n",
            "애플       153.5  148.1\n",
            "마이크로소프트  242.1  232.4\n",
            "구글       328.6  315.3\n",
            "엑손모빌      48.2   44.6\n"
          ]
        }
      ]
    },
    {
      "cell_type": "code",
      "source": [
        "# 위치 기반 접근이 필요하면 항상 iloc 사용\n",
        "# 레이블 기반 접근이 필요하면 항상 loc 사용\n",
        "# 가능하면 의미가 명확한 인덱스 사용 (정수 인덱스를 사용할 때는 특히 주의)"
      ],
      "metadata": {
        "id": "D3_vYQjcCHt0"
      },
      "execution_count": null,
      "outputs": []
    },
    {
      "cell_type": "code",
      "source": [
        "# 잘못된 방법 (변경사항이 반영되지 않을 수 있음)\n",
        "portfolio.loc[portfolio['risk_score'] > 7]['weight'] = 0.05\n",
        "\n",
        "# 올바른 방법: \"단일\" .loc 연산을 사용\n",
        "portfolio.loc[portfolio['risk_score'] > 7, 'weight'] = 0.05\n",
        "# 대괄호 하나 안에서 쉼표로 행과 열을 구분!"
      ],
      "metadata": {
        "id": "o6eWcUHgJhje"
      },
      "execution_count": null,
      "outputs": []
    }
  ]
}