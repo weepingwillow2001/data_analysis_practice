{
  "nbformat": 4,
  "nbformat_minor": 0,
  "metadata": {
    "colab": {
      "provenance": [],
      "authorship_tag": "ABX9TyO511EwwJsld2ZWGNDLVI09",
      "include_colab_link": true
    },
    "kernelspec": {
      "name": "python3",
      "display_name": "Python 3"
    },
    "language_info": {
      "name": "python"
    }
  },
  "cells": [
    {
      "cell_type": "markdown",
      "metadata": {
        "id": "view-in-github",
        "colab_type": "text"
      },
      "source": [
        "<a href=\"https://colab.research.google.com/github/weepingwillow2001/data_analysis_practice/blob/main/5%EC%9E%A5/5_2_4.ipynb\" target=\"_parent\"><img src=\"https://colab.research.google.com/assets/colab-badge.svg\" alt=\"Open In Colab\"/></a>"
      ]
    },
    {
      "cell_type": "code",
      "execution_count": 2,
      "metadata": {
        "id": "oO0sdiIFK6-Y",
        "colab": {
          "base_uri": "https://localhost:8080/"
        },
        "outputId": "b6498718-8881-474a-9aee-06a2b94b2ade"
      },
      "outputs": [
        {
          "output_type": "stream",
          "name": "stdout",
          "text": [
            "a    5.2\n",
            "c    1.1\n",
            "d    NaN\n",
            "e    0.0\n",
            "f    NaN\n",
            "g    NaN\n",
            "dtype: float64\n"
          ]
        }
      ],
      "source": [
        "import pandas as pd\n",
        "import numpy as np\n",
        "from pandas import Series, DataFrame\n",
        "\n",
        "# 두 Series 생성\n",
        "s1 = pd.Series([7.3, -2.5, 3.4, 1.5], index=[\"a\", \"c\", \"d\", \"e\"])\n",
        "s2 = pd.Series([-2.1, 3.6, -1.5, 4.0, 3.1], index=[\"a\", \"c\", \"e\", \"f\", \"g\"])\n",
        "\n",
        "# 두 Series 더하기\n",
        "result = s1 + s2\n",
        "print(result)"
      ]
    },
    {
      "cell_type": "code",
      "source": [
        "# 두 개의 서로 다른 DataFrame 생성\n",
        "df1 = pd.DataFrame(np.arange(9.).reshape((3, 3)), columns=list(\"bcd\"),\n",
        "                 index=[\"Ohio\", \"Texas\", \"Colorado\"])\n",
        "df2 = pd.DataFrame(np.arange(12.).reshape((4, 3)), columns=list(\"bde\"),\n",
        "                 index=[\"Utah\", \"Ohio\", \"Texas\", \"Oregon\"])\n",
        "\n",
        "# df1 출력\n",
        "print(df1)\n",
        "\n",
        "# df2 출력\n",
        "print(df2)\n",
        "\n",
        "# 두 DataFrame을 더하면 겹치는 인덱스와 컬럼만 연산 수행, 나머지는 NaN\n",
        "print(df1 + df2)"
      ],
      "metadata": {
        "colab": {
          "base_uri": "https://localhost:8080/"
        },
        "id": "LisN5GcA_O6F",
        "outputId": "2018d3ce-5c56-476a-c8bf-1838a93e52a1"
      },
      "execution_count": 3,
      "outputs": [
        {
          "output_type": "stream",
          "name": "stdout",
          "text": [
            "            b    c    d\n",
            "Ohio      0.0  1.0  2.0\n",
            "Texas     3.0  4.0  5.0\n",
            "Colorado  6.0  7.0  8.0\n",
            "          b     d     e\n",
            "Utah    0.0   1.0   2.0\n",
            "Ohio    3.0   4.0   5.0\n",
            "Texas   6.0   7.0   8.0\n",
            "Oregon  9.0  10.0  11.0\n",
            "            b   c     d   e\n",
            "Colorado  NaN NaN   NaN NaN\n",
            "Ohio      3.0 NaN   6.0 NaN\n",
            "Oregon    NaN NaN   NaN NaN\n",
            "Texas     9.0 NaN  12.0 NaN\n",
            "Utah      NaN NaN   NaN NaN\n"
          ]
        }
      ]
    },
    {
      "cell_type": "code",
      "source": [
        "# 하나의 열만 가진 두 개의 DataFrame 생성\n",
        "# 공통 열이 전혀 없는 경우\n",
        "df1 = pd.DataFrame({\"A\": [1, 2]})    # 딕셔너리 형태도 가능!\n",
        "df2 = pd.DataFrame({\"B\": [3, 4]})\n",
        "\n",
        "# df1 출력\n",
        "print(df1)\n",
        "\n",
        "# df2 출력\n",
        "print(df2)\n",
        "\n",
        "# 두 DataFrame 더하기\n",
        "print(df1 + df2)\n",
        "\n",
        "# 겹치는 열이 없기 때문에 모든 값이 NaN(Not a Number)으로 채워짐"
      ],
      "metadata": {
        "colab": {
          "base_uri": "https://localhost:8080/"
        },
        "id": "a9qctb7zA6us",
        "outputId": "6d4c5d85-b0f4-45be-9092-580882039041"
      },
      "execution_count": 4,
      "outputs": [
        {
          "output_type": "stream",
          "name": "stdout",
          "text": [
            "   A\n",
            "0  1\n",
            "1  2\n",
            "   B\n",
            "0  3\n",
            "1  4\n",
            "    A   B\n",
            "0 NaN NaN\n",
            "1 NaN NaN\n"
          ]
        }
      ]
    },
    {
      "cell_type": "code",
      "source": [
        "# 두 개의 DataFrame 생성\n",
        "df1 = pd.DataFrame(np.arange(12.).reshape((3, 4)), columns=list(\"abcd\"))\n",
        "df2 = pd.DataFrame(np.arange(20.).reshape((4, 5)), columns=list(\"abcde\"))\n",
        "\n",
        "# df2의 'b' 열에 NaN 값 할당(np.nan)\n",
        "df2.loc[1, 'b'] = np.nan\n",
        "\n",
        "# df1 출력\n",
        "print(df1)\n",
        "\n",
        "# df2 출력\n",
        "print(df2)\n",
        "\n",
        "# 두 DataFrame 더하기 (NaN + 값 = NaN!!!)\n",
        "print(df1 + df2)\n",
        "\n",
        "# add 메서드와 fill_value 사용하여 NaN 값 처리\n",
        "print(df1.add(df2, fill_value=0))\n",
        "#       a     b     c     d     e\n",
        "# 0   0.0   2.0   4.0   6.0   4.0\n",
        "# 1   9.0   5.0  13.0  15.0   9.0\n",
        "# 2  18.0  20.0  22.0  24.0  14.0\n",
        "# 3  15.0  16.0  17.0  18.0  19.0"
      ],
      "metadata": {
        "colab": {
          "base_uri": "https://localhost:8080/"
        },
        "id": "hS2m0n5VEIFr",
        "outputId": "a51085b9-2e21-4d0c-8d61-49e2d6c8310a"
      },
      "execution_count": 6,
      "outputs": [
        {
          "output_type": "stream",
          "name": "stdout",
          "text": [
            "     a    b     c     d\n",
            "0  0.0  1.0   2.0   3.0\n",
            "1  4.0  5.0   6.0   7.0\n",
            "2  8.0  9.0  10.0  11.0\n",
            "      a     b     c     d     e\n",
            "0   0.0   1.0   2.0   3.0   4.0\n",
            "1   5.0   NaN   7.0   8.0   9.0\n",
            "2  10.0  11.0  12.0  13.0  14.0\n",
            "3  15.0  16.0  17.0  18.0  19.0\n",
            "      a     b     c     d   e\n",
            "0   0.0   2.0   4.0   6.0 NaN\n",
            "1   9.0   NaN  13.0  15.0 NaN\n",
            "2  18.0  20.0  22.0  24.0 NaN\n",
            "3   NaN   NaN   NaN   NaN NaN\n",
            "      a     b     c     d     e\n",
            "0   0.0   2.0   4.0   6.0   4.0\n",
            "1   9.0   5.0  13.0  15.0   9.0\n",
            "2  18.0  20.0  22.0  24.0  14.0\n",
            "3  15.0  16.0  17.0  18.0  19.0\n"
          ]
        }
      ]
    },
    {
      "cell_type": "code",
      "source": [
        "# 모든 요소에 대해 1을 나누는 연산\n",
        "print(1 / df1)\n",
        "\n",
        "# rdiv 메서드로 동일한 작업 수행 (r은 'reverse'의 의미)\n",
        "print(df1.rdiv(1))"
      ],
      "metadata": {
        "colab": {
          "base_uri": "https://localhost:8080/"
        },
        "id": "pMBDO4C1LjbL",
        "outputId": "1052c938-f0b4-497a-e686-386dd8fbb958"
      },
      "execution_count": 7,
      "outputs": [
        {
          "output_type": "stream",
          "name": "stdout",
          "text": [
            "       a         b         c         d\n",
            "0    inf  1.000000  0.500000  0.333333\n",
            "1  0.250  0.200000  0.166667  0.142857\n",
            "2  0.125  0.111111  0.100000  0.090909\n",
            "       a         b         c         d\n",
            "0    inf  1.000000  0.500000  0.333333\n",
            "1  0.250  0.200000  0.166667  0.142857\n",
            "2  0.125  0.111111  0.100000  0.090909\n"
          ]
        }
      ]
    },
    {
      "cell_type": "code",
      "source": [
        "# df2의 열을 기준으로 df1을 재색인하고 누락된 열(e)은 0으로 채움\n",
        "\n",
        "print(df1.reindex(columns=df2.columns, fill_value=0))"
      ],
      "metadata": {
        "colab": {
          "base_uri": "https://localhost:8080/"
        },
        "id": "z_WKqjAWLtTE",
        "outputId": "6808e666-f33f-4498-d025-7e0d19c4c654"
      },
      "execution_count": 8,
      "outputs": [
        {
          "output_type": "stream",
          "name": "stdout",
          "text": [
            "     a    b     c     d  e\n",
            "0  0.0  1.0   2.0   3.0  0\n",
            "1  4.0  5.0   6.0   7.0  0\n",
            "2  8.0  9.0  10.0  11.0  0\n"
          ]
        }
      ]
    },
    {
      "cell_type": "code",
      "source": [
        "# 브로드캐스팅 - 넘파이\n",
        "# 2차원 배열에서 1차원 배열을 빼면, 1차원 배열이 각 행에 대해 브로드캐스팅됨\n",
        "\n",
        "arr = np.arange(12.).reshape((3, 4))\n",
        "print(arr)\n",
        "\n",
        "print(arr[0])\n",
        "\n",
        "print(arr - arr[0])   # 각 행 숫자에서 0행의 숫자 빼기\n",
        "# array([[0., 0., 0., 0.],\n",
        "#        [4., 4., 4., 4.],\n",
        "#        [8., 8., 8., 8.]])"
      ],
      "metadata": {
        "colab": {
          "base_uri": "https://localhost:8080/"
        },
        "id": "loY2ubtoR8u-",
        "outputId": "3be2f3d3-7ed9-4aa2-cd24-b4e0cda0819b"
      },
      "execution_count": 9,
      "outputs": [
        {
          "output_type": "stream",
          "name": "stdout",
          "text": [
            "[[ 0.  1.  2.  3.]\n",
            " [ 4.  5.  6.  7.]\n",
            " [ 8.  9. 10. 11.]]\n",
            "[0. 1. 2. 3.]\n",
            "[[0. 0. 0. 0.]\n",
            " [4. 4. 4. 4.]\n",
            " [8. 8. 8. 8.]]\n"
          ]
        }
      ]
    },
    {
      "cell_type": "code",
      "source": [
        "#브로드캐스팅 - 판다스\n",
        "\n",
        "frame = pd.DataFrame(np.arange(12.).reshape((4, 3)),\n",
        "                    columns=list(\"bde\"),\n",
        "                    index=[\"Utah\", \"Ohio\", \"Texas\", \"Oregon\"])\n",
        "print(frame)\n",
        "\n",
        "series = frame.iloc[0]\n",
        "print(series)"
      ],
      "metadata": {
        "colab": {
          "base_uri": "https://localhost:8080/"
        },
        "id": "i8XEp4SaSYoJ",
        "outputId": "b8468d72-e21b-42ef-e7a0-344e1be71661"
      },
      "execution_count": 10,
      "outputs": [
        {
          "output_type": "stream",
          "name": "stdout",
          "text": [
            "          b     d     e\n",
            "Utah    0.0   1.0   2.0\n",
            "Ohio    3.0   4.0   5.0\n",
            "Texas   6.0   7.0   8.0\n",
            "Oregon  9.0  10.0  11.0\n",
            "b    0.0\n",
            "d    1.0\n",
            "e    2.0\n",
            "Name: Utah, dtype: float64\n"
          ]
        }
      ]
    },
    {
      "cell_type": "code",
      "source": [
        "# Series의 색인을 DataFrame의 열에 맞추고 나서 행으로 브로드캐스팅함\n",
        "# 넘파이 경우와 같은 원리로 작동!\n",
        "\n",
        "print(frame - series)\n",
        "#         b    d    e\n",
        "# Utah    0.0  0.0  0.0\n",
        "# Ohio    3.0  3.0  3.0\n",
        "# Texas   6.0  6.0  6.0\n",
        "# Oregon  9.0  9.0  9.0"
      ],
      "metadata": {
        "colab": {
          "base_uri": "https://localhost:8080/"
        },
        "id": "1Q5_aq3lS4KF",
        "outputId": "cbf28c17-6e0f-4593-c463-549e0e8969a3"
      },
      "execution_count": 11,
      "outputs": [
        {
          "output_type": "stream",
          "name": "stdout",
          "text": [
            "          b    d    e\n",
            "Utah    0.0  0.0  0.0\n",
            "Ohio    3.0  3.0  3.0\n",
            "Texas   6.0  6.0  6.0\n",
            "Oregon  9.0  9.0  9.0\n"
          ]
        }
      ]
    },
    {
      "cell_type": "code",
      "source": [
        "# Series의 색인이 DataFrame의 열과 \"다른\" 경우\n",
        "\n",
        "series2 = pd.Series(np.arange(3), index=[\"b\", \"e\", \"f\"])\n",
        "print(series2)\n",
        "\n",
        "print(frame + series2)\n",
        "#         b     d     e     f\n",
        "# Utah    0.0   NaN   3.0   NaN\n",
        "# Ohio    3.0   NaN   6.0   NaN\n",
        "# Texas   6.0   NaN   9.0   NaN\n",
        "# Oregon  9.0   NaN  12.0   NaN\n",
        "\n",
        "# 공통 열('b', 'e')에 대해서만 연산 수행\n",
        "# DataFrame에만 있는 'd' 열은 모두 NaN (값 + NaN = NaN !!)\n",
        "# Series2에만 있는 'f' 열은 결과에 포함되지만 값은 모두 NaN (NaN + 값 = NaN !!)"
      ],
      "metadata": {
        "colab": {
          "base_uri": "https://localhost:8080/"
        },
        "id": "-zXxcSIOWu5G",
        "outputId": "ac5f7af5-299c-49be-e11f-6e41e5f3c455"
      },
      "execution_count": 12,
      "outputs": [
        {
          "output_type": "stream",
          "name": "stdout",
          "text": [
            "b    0\n",
            "e    1\n",
            "f    2\n",
            "dtype: int64\n",
            "          b   d     e   f\n",
            "Utah    0.0 NaN   3.0 NaN\n",
            "Ohio    3.0 NaN   6.0 NaN\n",
            "Texas   6.0 NaN   9.0 NaN\n",
            "Oregon  9.0 NaN  12.0 NaN\n"
          ]
        }
      ]
    },
    {
      "cell_type": "code",
      "source": [
        "# \"행\"을 기준으로 연산을 수행하고 싶을 때: axis=\"index\" 이용\n",
        "\n",
        "series3 = frame[\"d\"]\n",
        "print(series3)\n",
        "# Utah      1.0\n",
        "# Ohio      4.0\n",
        "# Texas     7.0\n",
        "# Oregon   10.0\n",
        "# Name: d, dtype: float64\n",
        "\n",
        "print(frame.sub(series3, axis=\"index\"))\n",
        "#         b    d    e\n",
        "# Utah   -1.0  0.0  1.0\n",
        "# Ohio   -1.0  0.0  1.0\n",
        "# Texas  -1.0  0.0  1.0\n",
        "# Oregon -1.0  0.0  1.0"
      ],
      "metadata": {
        "id": "Li7R2cFdXFKB"
      },
      "execution_count": null,
      "outputs": []
    }
  ]
}