{
  "nbformat": 4,
  "nbformat_minor": 0,
  "metadata": {
    "colab": {
      "provenance": [],
      "authorship_tag": "ABX9TyPc0hjK5VgxYf+bamLBKOTA",
      "include_colab_link": true
    },
    "kernelspec": {
      "name": "python3",
      "display_name": "Python 3"
    },
    "language_info": {
      "name": "python"
    }
  },
  "cells": [
    {
      "cell_type": "markdown",
      "metadata": {
        "id": "view-in-github",
        "colab_type": "text"
      },
      "source": [
        "<a href=\"https://colab.research.google.com/github/weepingwillow2001/data_analysis_practice/blob/main/5%EC%9E%A5/5_2_5.ipynb\" target=\"_parent\"><img src=\"https://colab.research.google.com/assets/colab-badge.svg\" alt=\"Open In Colab\"/></a>"
      ]
    },
    {
      "cell_type": "code",
      "execution_count": 4,
      "metadata": {
        "colab": {
          "base_uri": "https://localhost:8080/"
        },
        "id": "2yHcWIVHfhHD",
        "outputId": "f5df969e-d225-41ae-9b6a-8657e851271e"
      },
      "outputs": [
        {
          "output_type": "stream",
          "name": "stdout",
          "text": [
            "               b         d         e\n",
            "Utah   -0.922565  1.234670  0.019758\n",
            "Ohio   -0.470120  1.028218 -0.414347\n",
            "Texas  -1.696344 -1.260162 -0.041918\n",
            "Oregon  0.524000  1.435083  0.215026\n",
            "               b         d         e\n",
            "Utah    0.922565  1.234670  0.019758\n",
            "Ohio    0.470120  1.028218  0.414347\n",
            "Texas   1.696344  1.260162  0.041918\n",
            "Oregon  0.524000  1.435083  0.215026\n"
          ]
        }
      ],
      "source": [
        "import pandas as pd\n",
        "import numpy as np\n",
        "from pandas import Series, DataFrame\n",
        "\n",
        "frame = pd.DataFrame(np.random.standard_normal((4, 3)),\n",
        "                     columns=list(\"bde\"),\n",
        "                     index=[\"Utah\", \"Ohio\", \"Texas\", \"Oregon\"])\n",
        "print(frame)\n",
        "print(np.abs(frame))"
      ]
    },
    {
      "cell_type": "code",
      "source": [
        "# apply: DataFrame의 각 \"열\"(column)에 대해 함수를 적용\n",
        "def f1(x):\n",
        "    return x.max() - x.min()\n",
        "\n",
        "print(frame.apply(f1))\n",
        "# 각 열의 최대값에서 최소값을 뺀 결과가 계산됩니다.\n",
        "# 결과적으로 각 열의 데이터 범위를 나타내는 Series가 출력됩니다.\n",
        "\n",
        "# f1 - 함수 자체를 참조 (함수 객체)\n",
        "# f1() - 함수를 호출하고 그 결과를 반환"
      ],
      "metadata": {
        "colab": {
          "base_uri": "https://localhost:8080/"
        },
        "id": "3nXx6Rk1zXtC",
        "outputId": "9d0a97d9-1396-4fd1-a865-b214ab44e7e8"
      },
      "execution_count": 5,
      "outputs": [
        {
          "output_type": "stream",
          "name": "stdout",
          "text": [
            "b    2.220345\n",
            "d    2.695245\n",
            "e    0.629373\n",
            "dtype: float64\n"
          ]
        }
      ]
    },
    {
      "cell_type": "code",
      "source": [
        "print(frame.apply(f1, axis=\"columns\"))  # \"행\" 의 최대, 최소값 차이\n",
        "# apply 메서드 경우만 \"반대로\" 생각!!!"
      ],
      "metadata": {
        "colab": {
          "base_uri": "https://localhost:8080/"
        },
        "id": "MHHHZb1l2qga",
        "outputId": "e9854d99-fada-4dff-db62-17077c54642e"
      },
      "execution_count": 6,
      "outputs": [
        {
          "output_type": "stream",
          "name": "stdout",
          "text": [
            "Utah      2.157236\n",
            "Ohio      1.498339\n",
            "Texas     1.654426\n",
            "Oregon    1.220057\n",
            "dtype: float64\n"
          ]
        }
      ]
    },
    {
      "cell_type": "code",
      "source": [
        "def f2(x):\n",
        "    return pd.Series([x.min(), x.max()], index=[\"min\", \"max\"])\n",
        "\n",
        "print(frame.apply(f2))"
      ],
      "metadata": {
        "colab": {
          "base_uri": "https://localhost:8080/"
        },
        "id": "TOKCh-Lw2x2k",
        "outputId": "f3a286d6-3eb2-4f8d-ee5e-c87f8421ae2a"
      },
      "execution_count": 7,
      "outputs": [
        {
          "output_type": "stream",
          "name": "stdout",
          "text": [
            "            b         d         e\n",
            "min -1.696344 -1.260162 -0.414347\n",
            "max  0.524000  1.435083  0.215026\n"
          ]
        }
      ]
    },
    {
      "cell_type": "code",
      "source": [
        "def my_format(x):\n",
        "    return f\"{x:.2f}\"  # f-string :문자열 안에 변수나 표현식의 값을 삽입하여 새로운 문자열을 만드는 것\n",
        "    # '변수 x의 값을 소수점 이하 2자리까지 부동소수점 수 형식으로 나타내라'\n",
        "\n",
        "print(frame.applymap(my_format))\n",
        "# applymap:  DataFrame의 \"모든 개별 원소\"에 함수를 적용"
      ],
      "metadata": {
        "colab": {
          "base_uri": "https://localhost:8080/"
        },
        "id": "CGadDl7524Rd",
        "outputId": "1c56c5d5-9d9f-4cb8-836a-ae2490d22416"
      },
      "execution_count": 8,
      "outputs": [
        {
          "output_type": "stream",
          "name": "stdout",
          "text": [
            "            b      d      e\n",
            "Utah    -0.92   1.23   0.02\n",
            "Ohio    -0.47   1.03  -0.41\n",
            "Texas   -1.70  -1.26  -0.04\n",
            "Oregon   0.52   1.44   0.22\n"
          ]
        },
        {
          "output_type": "stream",
          "name": "stderr",
          "text": [
            "<ipython-input-8-254de0a90af7>:4: FutureWarning: DataFrame.applymap has been deprecated. Use DataFrame.map instead.\n",
            "  print(frame.applymap(my_format))\n"
          ]
        }
      ]
    },
    {
      "cell_type": "code",
      "source": [
        "print(frame[\"e\"].map(my_format))\n",
        "# map: \"Series\"의 모든 요소에 함수 적용\n",
        "# frame[\"e\"]가 Series 형태로 출력되므로!"
      ],
      "metadata": {
        "colab": {
          "base_uri": "https://localhost:8080/"
        },
        "id": "srKYWavX27DP",
        "outputId": "ada8d393-3078-422d-cfa0-747588ba4c87"
      },
      "execution_count": 9,
      "outputs": [
        {
          "output_type": "stream",
          "name": "stdout",
          "text": [
            "Utah       0.02\n",
            "Ohio      -0.41\n",
            "Texas     -0.04\n",
            "Oregon     0.22\n",
            "Name: e, dtype: object\n"
          ]
        }
      ]
    }
  ]
}