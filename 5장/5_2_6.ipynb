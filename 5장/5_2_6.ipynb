{
  "nbformat": 4,
  "nbformat_minor": 0,
  "metadata": {
    "colab": {
      "provenance": [],
      "authorship_tag": "ABX9TyMBMGXTFmsf6R0or0Ric4J6",
      "include_colab_link": true
    },
    "kernelspec": {
      "name": "python3",
      "display_name": "Python 3"
    },
    "language_info": {
      "name": "python"
    }
  },
  "cells": [
    {
      "cell_type": "markdown",
      "metadata": {
        "id": "view-in-github",
        "colab_type": "text"
      },
      "source": [
        "<a href=\"https://colab.research.google.com/github/weepingwillow2001/data_analysis_practice/blob/main/5%EC%9E%A5/5_2_6.ipynb\" target=\"_parent\"><img src=\"https://colab.research.google.com/assets/colab-badge.svg\" alt=\"Open In Colab\"/></a>"
      ]
    },
    {
      "cell_type": "code",
      "execution_count": 1,
      "metadata": {
        "colab": {
          "base_uri": "https://localhost:8080/"
        },
        "id": "bHHGvl9yAo9A",
        "outputId": "79801985-3f4c-4ae1-81d4-f9bcaf68ee58"
      },
      "outputs": [
        {
          "output_type": "stream",
          "name": "stdout",
          "text": [
            "d    0\n",
            "a    1\n",
            "b    2\n",
            "c    3\n",
            "dtype: int64\n",
            "a    1\n",
            "b    2\n",
            "c    3\n",
            "d    0\n",
            "dtype: int64\n"
          ]
        }
      ],
      "source": [
        "import pandas as pd\n",
        "import numpy as np\n",
        "from pandas import Series, DataFrame\n",
        "\n",
        "# 인덱스를 지정하여 Series 생성\n",
        "obj = pd.Series(np.arange(4), index=[\"d\", \"a\", \"b\", \"c\"])\n",
        "print(obj)\n",
        "\n",
        "# \"인덱스\"를 기준으로 정렬: sort_index()\n",
        "print(obj.sort_index())"
      ]
    },
    {
      "cell_type": "code",
      "source": [
        "# \"값\"을 기준으로 Series 정렬: sort_values()\n",
        "\n",
        "obj = pd.Series([4, 7, -3, 2])\n",
        "print(obj.sort_values())\n",
        "# 2   -3\n",
        "# 3    2\n",
        "# 0    4\n",
        "# 1    7\n",
        "# dtype: int64"
      ],
      "metadata": {
        "colab": {
          "base_uri": "https://localhost:8080/"
        },
        "id": "Xw7h9cnXCm_n",
        "outputId": "dd891bb4-443e-41ed-90ef-e0cf326cd426"
      },
      "execution_count": 2,
      "outputs": [
        {
          "output_type": "stream",
          "name": "stdout",
          "text": [
            "2   -3\n",
            "3    2\n",
            "0    4\n",
            "1    7\n",
            "dtype: int64\n"
          ]
        }
      ]
    },
    {
      "cell_type": "code",
      "source": [
        "# NaN 값이 있는 경우 \"값\" 기준 정렬: 기본은 NaN 값 \"뒤\"로!\n",
        "\n",
        "obj = pd.Series([4, np.nan, 7, np.nan, -3, 2])\n",
        "print(obj.sort_values())\n",
        "# 4   -3.0\n",
        "# 5    2.0\n",
        "# 0    4.0\n",
        "# 2    7.0\n",
        "# 1    NaN\n",
        "# 3    NaN\n",
        "# dtype: float64\n",
        "\n",
        "# NaN 값의 위치 지정: na_position\n",
        "\n",
        "print(obj.sort_values(na_position=\"first\"))  # first: NaN을 \"앞\"으로\n",
        "# 1    NaN\n",
        "# 3    NaN\n",
        "# 4   -3.0\n",
        "# 5    2.0\n",
        "# 0    4.0\n",
        "# 2    7.0\n",
        "# dtype: float64"
      ],
      "metadata": {
        "colab": {
          "base_uri": "https://localhost:8080/"
        },
        "id": "PWOq0SG0DBL6",
        "outputId": "bd6594b9-5495-495e-b684-8000ca31200f"
      },
      "execution_count": 3,
      "outputs": [
        {
          "output_type": "stream",
          "name": "stdout",
          "text": [
            "4   -3.0\n",
            "5    2.0\n",
            "0    4.0\n",
            "2    7.0\n",
            "1    NaN\n",
            "3    NaN\n",
            "dtype: float64\n",
            "1    NaN\n",
            "3    NaN\n",
            "4   -3.0\n",
            "5    2.0\n",
            "0    4.0\n",
            "2    7.0\n",
            "dtype: float64\n"
          ]
        }
      ]
    },
    {
      "cell_type": "code",
      "source": [
        "# DataFrame 생성\n",
        "\n",
        "frame = pd.DataFrame(np.arange(8).reshape((2, 4)),\n",
        "                     index=[\"three\", \"one\"],\n",
        "                     columns=[\"d\", \"a\", \"b\", \"c\"])\n",
        "print(frame)\n",
        "\n",
        "# 행(인덱스)를 기준으로 정렬\n",
        "print(frame.sort_index())\n",
        "#        d  a  b  c\n",
        "# one    4  5  6  7\n",
        "# three  0  1  2  3\n",
        "\n",
        "# 열을 기준으로 정렬\n",
        "print(frame.sort_index(axis=\"columns\"))  # abcd 순\n",
        "#        a  b  c  d\n",
        "# three  1  2  3  0\n",
        "# one    5  6  7  4\n",
        "\n",
        "# 내림차순으로 정렬\n",
        "print(frame.sort_index(axis=\"columns\", ascending=False))  # a->z: ascending\n",
        "# 알파벳 순서(열)이 거꾸로 됨!"
      ],
      "metadata": {
        "colab": {
          "base_uri": "https://localhost:8080/"
        },
        "id": "BrFqRE68EfgU",
        "outputId": "4bb343af-72e0-434a-fa8e-0a1fdc913036"
      },
      "execution_count": 5,
      "outputs": [
        {
          "output_type": "stream",
          "name": "stdout",
          "text": [
            "       d  a  b  c\n",
            "three  0  1  2  3\n",
            "one    4  5  6  7\n",
            "       d  a  b  c\n",
            "one    4  5  6  7\n",
            "three  0  1  2  3\n",
            "       a  b  c  d\n",
            "three  1  2  3  0\n",
            "one    5  6  7  4\n",
            "       d  c  b  a\n",
            "three  0  3  2  1\n",
            "one    4  7  6  5\n"
          ]
        }
      ]
    },
    {
      "cell_type": "code",
      "source": [
        "# 하나의 열을 기준으로 정렬\n",
        "frame = pd.DataFrame({\"b\": [4, 7, -3, 2], \"a\": [0, 1, 0, 1]})\n",
        "print(frame)\n",
        "#    b  a\n",
        "# 0  4  0\n",
        "# 1  7  1\n",
        "# 2 -3  0\n",
        "# 3  2  1\n",
        "\n",
        "print(frame.sort_values(\"b\"))  # b 열의 \"값\"을 기준으로 정렬\n",
        "#    b  a\n",
        "# 2 -3  0\n",
        "# 3  2  1\n",
        "# 0  4  0\n",
        "# 1  7  1\n",
        "\n",
        "# 여러 열을 기준으로 정렬\n",
        "print(frame.sort_values([\"a\", \"b\"])) # a, b 열의 \"값\"을 기준으로 정렬\n",
        "#    b  a\n",
        "# 2 -3  0\n",
        "# 0  4  0\n",
        "# 3  2  1\n",
        "# 1  7  1"
      ],
      "metadata": {
        "colab": {
          "base_uri": "https://localhost:8080/"
        },
        "id": "qJ6z1B4TIapU",
        "outputId": "1b4be7f6-b27c-4b45-8469-3d1fbe79bab9"
      },
      "execution_count": 6,
      "outputs": [
        {
          "output_type": "stream",
          "name": "stdout",
          "text": [
            "   b  a\n",
            "0  4  0\n",
            "1  7  1\n",
            "2 -3  0\n",
            "3  2  1\n",
            "   b  a\n",
            "2 -3  0\n",
            "3  2  1\n",
            "0  4  0\n",
            "1  7  1\n",
            "   b  a\n",
            "2 -3  0\n",
            "0  4  0\n",
            "3  2  1\n",
            "1  7  1\n"
          ]
        }
      ]
    },
    {
      "cell_type": "code",
      "source": [
        "# Series \"순위\" 매기기: rank\n",
        "obj = pd.Series([7, -5, 7, 4, 2, 0, 4], index = [\"TSLA\", \"GLD\", \"RGTI\", \"SCHD\", \"REMX\", \"SIVR\", \"NVDA\"])\n",
        "print(obj.rank())   # 각 인덱스에 해당하는 숫자의 \"등수\" 출력(오름차순)\n",
        "# TSLA    6.5    # 두 값이 같은 경우 각 순위 더해서 2로 나눔!!\n",
        "# GLD     1.0\n",
        "# RGTI    6.5\n",
        "# SCHD    4.5\n",
        "# REMX    3.0\n",
        "# SIVR    2.0\n",
        "# NVDA    4.5\n",
        "\n",
        "# 순위 매기는 방법 지정 (first: 동점인 경우 \"먼저\" 나온 데이터에 우선순위)\n",
        "print(obj.rank(method=\"first\"))\n",
        "# TSLA    6.0\n",
        "# GLD     1.0\n",
        "# RGTI    7.0\n",
        "# SCHD    4.0  # 먼저 나왔으므로 4\n",
        "# REMX    3.0\n",
        "# SIVR    2.0\n",
        "# NVDA    5.0  # 나중에 나왔으므로 5\n",
        "\n",
        "# 내림차순으로 순위 매기기\n",
        "print(obj.rank(ascending=False))\n",
        "# TSLA    1.5  # (1 + 2) / 2\n",
        "# GLD     7.0\n",
        "# RGTI    1.5\n",
        "# SCHD    3.5\n",
        "# REMX    5.0\n",
        "# SIVR    6.0\n",
        "# NVDA    3.5"
      ],
      "metadata": {
        "colab": {
          "base_uri": "https://localhost:8080/"
        },
        "id": "WlX_FYokIdAJ",
        "outputId": "2179d92d-eef0-41b8-d449-d80d316f75d8"
      },
      "execution_count": 9,
      "outputs": [
        {
          "output_type": "stream",
          "name": "stdout",
          "text": [
            "TSLA    6.5\n",
            "GLD     1.0\n",
            "RGTI    6.5\n",
            "SCHD    4.5\n",
            "REMX    3.0\n",
            "SIVR    2.0\n",
            "NVDA    4.5\n",
            "dtype: float64\n",
            "TSLA    6.0\n",
            "GLD     1.0\n",
            "RGTI    7.0\n",
            "SCHD    4.0\n",
            "REMX    3.0\n",
            "SIVR    2.0\n",
            "NVDA    5.0\n",
            "dtype: float64\n",
            "TSLA    1.5\n",
            "GLD     7.0\n",
            "RGTI    1.5\n",
            "SCHD    3.5\n",
            "REMX    5.0\n",
            "SIVR    6.0\n",
            "NVDA    3.5\n",
            "dtype: float64\n"
          ]
        }
      ]
    },
    {
      "cell_type": "code",
      "source": [
        "\n",
        "# DataFrame의 열별 \"순위\" 매기기\n",
        "frame = pd.DataFrame({\"b\": [4.3, 7, -3, 2],\n",
        "                      \"a\": [0, 1, 0, 1],\n",
        "                      \"c\": [-2, 5, 8, -2.5]})\n",
        "print(frame)\n",
        "#      b  a    c\n",
        "# 0  4.3  0 -2.0\n",
        "# 1  7.0  1  5.0\n",
        "# 2 -3.0  0  8.0\n",
        "# 3  2.0  1 -2.5\n",
        "print(frame.rank(axis=\"columns\"))  # \"apply 메서드\"와 마찬가지로 columns, index 뜻 반대!\n",
        "#      b    a    c\n",
        "# 0  3.0  2.0  1.0    #\"행\" 기준으로 순위 배열\n",
        "# 1  3.0  1.0  2.0\n",
        "# 2  1.0  2.0  3.0\n",
        "# 3  3.0  2.0  1.0\n",
        "print(frame.rank(axis=\"index\"))\n",
        "#      b    a    c\n",
        "# 0  3.0  1.5  2.0    #\"열\" 기준으로 순위 배열\n",
        "# 1  4.0  3.5  3.0\n",
        "# 2  1.0  1.5  4.0\n",
        "# 3  2.0  3.5  1.0"
      ],
      "metadata": {
        "colab": {
          "base_uri": "https://localhost:8080/"
        },
        "id": "DZzldi1-Ns22",
        "outputId": "d8fa03cb-d1fc-4f01-d34f-1b86b8cb7fb6"
      },
      "execution_count": 12,
      "outputs": [
        {
          "output_type": "stream",
          "name": "stdout",
          "text": [
            "     b  a    c\n",
            "0  4.3  0 -2.0\n",
            "1  7.0  1  5.0\n",
            "2 -3.0  0  8.0\n",
            "3  2.0  1 -2.5\n",
            "     b    a    c\n",
            "0  3.0  2.0  1.0\n",
            "1  3.0  1.0  2.0\n",
            "2  1.0  2.0  3.0\n",
            "3  3.0  2.0  1.0\n",
            "     b    a    c\n",
            "0  3.0  1.5  2.0\n",
            "1  4.0  3.5  3.0\n",
            "2  1.0  1.5  4.0\n",
            "3  2.0  3.5  1.0\n"
          ]
        }
      ]
    }
  ]
}