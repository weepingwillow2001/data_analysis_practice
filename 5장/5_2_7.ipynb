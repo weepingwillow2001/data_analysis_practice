{
  "nbformat": 4,
  "nbformat_minor": 0,
  "metadata": {
    "colab": {
      "provenance": [],
      "authorship_tag": "ABX9TyPqGTenIAkU2bUz6TEWgAjx",
      "include_colab_link": true
    },
    "kernelspec": {
      "name": "python3",
      "display_name": "Python 3"
    },
    "language_info": {
      "name": "python"
    }
  },
  "cells": [
    {
      "cell_type": "markdown",
      "metadata": {
        "id": "view-in-github",
        "colab_type": "text"
      },
      "source": [
        "<a href=\"https://colab.research.google.com/github/weepingwillow2001/data_analysis_practice/blob/main/5%EC%9E%A5/5_2_7.ipynb\" target=\"_parent\"><img src=\"https://colab.research.google.com/assets/colab-badge.svg\" alt=\"Open In Colab\"/></a>"
      ]
    },
    {
      "cell_type": "code",
      "source": [
        "import numpy as np\n",
        "import pandas as pd\n",
        "from pandas import Series, DataFrame\n",
        "\n",
        "# 중복된 색인 값을 갖는 Series 객체\n",
        "\n",
        "obj = pd.Series(np.arange(5), index=[\"a\", \"a\", \"b\", \"b\", \"c\"]) # index \"a\" 중복\n",
        "print(obj)"
      ],
      "metadata": {
        "colab": {
          "base_uri": "https://localhost:8080/"
        },
        "id": "FxZxPmfObxIg",
        "outputId": "4f8f8122-4e0b-40c2-dfcd-51871493bca2"
      },
      "execution_count": 1,
      "outputs": [
        {
          "output_type": "stream",
          "name": "stdout",
          "text": [
            "a    0\n",
            "a    1\n",
            "b    2\n",
            "b    3\n",
            "c    4\n",
            "dtype: int64\n"
          ]
        }
      ]
    },
    {
      "cell_type": "code",
      "source": [
        "print(obj[\"a\"])  # 중복되는 색인값이 있을 때는 하나의 Series 객체를 반환\n",
        "# a    0\n",
        "# a    1\n",
        "# dtype: int64\n",
        "\n",
        "print(obj[\"c\"])\n",
        "# 4"
      ],
      "metadata": {
        "colab": {
          "base_uri": "https://localhost:8080/"
        },
        "id": "EHyzVp_5dNxi",
        "outputId": "e0375d9c-6e2a-4c33-b3f8-30bef80bb6b4"
      },
      "execution_count": 2,
      "outputs": [
        {
          "output_type": "stream",
          "name": "stdout",
          "text": [
            "a    0\n",
            "a    1\n",
            "dtype: int64\n",
            "4\n"
          ]
        }
      ]
    },
    {
      "cell_type": "code",
      "source": [
        "df = pd.DataFrame(np.random.standard_normal((5, 3)),\n",
        "                 index=[\"a\", \"a\", \"b\", \"b\", \"c\"])\n",
        "print(df)\n",
        "#           0         1         2\n",
        "# a  0.274992  0.228913  1.352917\n",
        "# a  0.886429 -2.001637 -0.371843\n",
        "# b  1.669025 -0.438570 -0.539741\n",
        "# b  0.476985  3.248944 -1.021228\n",
        "# c -0.577887  0.124121  0.302614"
      ],
      "metadata": {
        "colab": {
          "base_uri": "https://localhost:8080/"
        },
        "id": "ZWYkPfZJda7T",
        "outputId": "9e0caf69-8006-4dfe-dd3a-3d83ff6b6752"
      },
      "execution_count": 3,
      "outputs": [
        {
          "output_type": "stream",
          "name": "stdout",
          "text": [
            "          0         1         2\n",
            "a -0.802188  0.084266  0.839447\n",
            "a -0.151280  0.485114 -1.723554\n",
            "b  1.145129 -0.111468 -0.979878\n",
            "b -0.040602 -0.907498  1.911565\n",
            "c  0.383943 -0.023876 -0.460839\n"
          ]
        }
      ]
    },
    {
      "cell_type": "code",
      "source": [
        "print(df.loc[\"b\"])\n",
        "#           0         1         2\n",
        "# b  1.669025 -0.438570 -0.539741\n",
        "# b  0.476985  3.248944 -1.021228\n",
        "\n",
        "print(df.loc[\"c\"])\n",
        "#          0        1        2\n",
        "# c -0.577887  0.12412  0.302614"
      ],
      "metadata": {
        "colab": {
          "base_uri": "https://localhost:8080/"
        },
        "id": "7MAxe1YVdcrs",
        "outputId": "48541a96-72e7-4a18-9ab0-91577f73c973"
      },
      "execution_count": 4,
      "outputs": [
        {
          "output_type": "stream",
          "name": "stdout",
          "text": [
            "          0         1         2\n",
            "b  1.145129 -0.111468 -0.979878\n",
            "b -0.040602 -0.907498  1.911565\n",
            "0    0.383943\n",
            "1   -0.023876\n",
            "2   -0.460839\n",
            "Name: c, dtype: float64\n"
          ]
        }
      ]
    }
  ]
}