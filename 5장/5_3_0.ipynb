{
  "nbformat": 4,
  "nbformat_minor": 0,
  "metadata": {
    "colab": {
      "provenance": [],
      "authorship_tag": "ABX9TyPPB/8bTzlZzEaBd8PZx6Dr",
      "include_colab_link": true
    },
    "kernelspec": {
      "name": "python3",
      "display_name": "Python 3"
    },
    "language_info": {
      "name": "python"
    }
  },
  "cells": [
    {
      "cell_type": "markdown",
      "metadata": {
        "id": "view-in-github",
        "colab_type": "text"
      },
      "source": [
        "<a href=\"https://colab.research.google.com/github/weepingwillow2001/data_analysis_practice/blob/main/5%EC%9E%A5/5_3_0.ipynb\" target=\"_parent\"><img src=\"https://colab.research.google.com/assets/colab-badge.svg\" alt=\"Open In Colab\"/></a>"
      ]
    },
    {
      "cell_type": "code",
      "execution_count": 2,
      "metadata": {
        "colab": {
          "base_uri": "https://localhost:8080/"
        },
        "id": "A8RJXrtC0WLN",
        "outputId": "bbaf3fd6-8ed8-4cdb-fb58-17e8096464e6"
      },
      "outputs": [
        {
          "output_type": "stream",
          "name": "stdout",
          "text": [
            "    one  two\n",
            "a  1.40  NaN\n",
            "b  7.10 -4.5\n",
            "c   NaN  NaN\n",
            "d  0.75 -1.3\n"
          ]
        }
      ],
      "source": [
        "import numpy as np\n",
        "import pandas as pd\n",
        "from pandas import DataFrame, Series\n",
        "\n",
        "df = pd.DataFrame([[1.4, np.nan], [7.1, -4.5],\n",
        "                  [np.nan, np.nan], [0.75, -1.3]],\n",
        "                  index=[\"a\", \"b\", \"c\", \"d\"],\n",
        "                  columns=[\"one\", \"two\"])\n",
        "print(df)"
      ]
    },
    {
      "cell_type": "code",
      "source": [
        "# sum 메서드: 기본적으로 \"NaN(결측치) 값을 무시\"하고 계산!! 즉, skipna=True가 기본 설정!\n",
        "print(df.sum())"
      ],
      "metadata": {
        "colab": {
          "base_uri": "https://localhost:8080/"
        },
        "id": "TNE1f3sZ1rJY",
        "outputId": "2437f98c-3679-4d3a-9480-2079315a7f23"
      },
      "execution_count": 3,
      "outputs": [
        {
          "output_type": "stream",
          "name": "stdout",
          "text": [
            "one    9.25\n",
            "two   -5.80\n",
            "dtype: float64\n"
          ]
        }
      ]
    },
    {
      "cell_type": "code",
      "source": [
        "# axis=\"columns\" 또는 axis=1 사용하여 행 방향 합계 계산\n",
        "print(df.sum(axis=\"columns\")) # 행 방향"
      ],
      "metadata": {
        "colab": {
          "base_uri": "https://localhost:8080/"
        },
        "id": "kObmoPxo1xno",
        "outputId": "f2581733-9ba9-4210-cecf-d32f85605b57"
      },
      "execution_count": 4,
      "outputs": [
        {
          "output_type": "stream",
          "name": "stdout",
          "text": [
            "a    1.40\n",
            "b    2.60\n",
            "c    0.00\n",
            "d   -0.55\n",
            "dtype: float64\n"
          ]
        }
      ]
    },
    {
      "cell_type": "code",
      "source": [
        "# skipna 옵션 활용 (index 방향) # 열 방향\n",
        "print(df.sum(axis=\"index\", skipna=False))  # NaN + 값 = NaN"
      ],
      "metadata": {
        "colab": {
          "base_uri": "https://localhost:8080/"
        },
        "id": "Mq4Lzyib19Og",
        "outputId": "9554fffe-0992-4f19-a5be-d6e265ac8108"
      },
      "execution_count": 5,
      "outputs": [
        {
          "output_type": "stream",
          "name": "stdout",
          "text": [
            "one   NaN\n",
            "two   NaN\n",
            "dtype: float64\n"
          ]
        }
      ]
    },
    {
      "cell_type": "code",
      "source": [
        "# skipna 옵션 활용 (columns 방향)\n",
        "print(df.sum(axis=\"columns\", skipna=False)) # NaN + 값 = NaN"
      ],
      "metadata": {
        "colab": {
          "base_uri": "https://localhost:8080/"
        },
        "id": "r3Q1MCRo2LLI",
        "outputId": "2dcfb70d-47de-456b-dc7b-ce9942098c52"
      },
      "execution_count": 6,
      "outputs": [
        {
          "output_type": "stream",
          "name": "stdout",
          "text": [
            "a     NaN\n",
            "b    2.60\n",
            "c     NaN\n",
            "d   -0.55\n",
            "dtype: float64\n"
          ]
        }
      ]
    },
    {
      "cell_type": "code",
      "source": [
        "# \"평균\" 계산: mean\n",
        "print(df.mean(axis=\"columns\")) # 행 방향"
      ],
      "metadata": {
        "colab": {
          "base_uri": "https://localhost:8080/"
        },
        "id": "T2Wc4Xws2UgG",
        "outputId": "39f56724-f9fb-4f33-ed54-7a7b586e89ba"
      },
      "execution_count": 12,
      "outputs": [
        {
          "output_type": "stream",
          "name": "stdout",
          "text": [
            "a    1.400\n",
            "b    1.300\n",
            "c      NaN\n",
            "d   -0.275\n",
            "dtype: float64\n"
          ]
        }
      ]
    },
    {
      "cell_type": "code",
      "source": [
        "# \"최댓값 위치\" 찾기: idxmax\n",
        "print(df.idxmax())"
      ],
      "metadata": {
        "colab": {
          "base_uri": "https://localhost:8080/"
        },
        "id": "YQpPbYcN2VMh",
        "outputId": "f724c84c-8512-42b0-dc20-3d6ce6b02ddc"
      },
      "execution_count": 11,
      "outputs": [
        {
          "output_type": "stream",
          "name": "stdout",
          "text": [
            "one    b\n",
            "two    d\n",
            "dtype: object\n"
          ]
        }
      ]
    },
    {
      "cell_type": "code",
      "source": [
        "# \"누적합\" 계산: cumsum\n",
        "print(df.cumsum())"
      ],
      "metadata": {
        "colab": {
          "base_uri": "https://localhost:8080/"
        },
        "id": "x9bCAt5T2X4j",
        "outputId": "9912e219-aad8-40db-c66a-6d238b5f6f74"
      },
      "execution_count": 10,
      "outputs": [
        {
          "output_type": "stream",
          "name": "stdout",
          "text": [
            "    one  two\n",
            "a  1.40  NaN\n",
            "b  8.50 -4.5\n",
            "c   NaN  NaN\n",
            "d  9.25 -5.8\n"
          ]
        }
      ]
    },
    {
      "cell_type": "code",
      "source": [
        "# \"통계 요약\": describe\n",
        "print(df.describe())"
      ],
      "metadata": {
        "colab": {
          "base_uri": "https://localhost:8080/"
        },
        "id": "OWU59eNy2ZSF",
        "outputId": "c5f45388-2867-4331-f776-5558a7a73212"
      },
      "execution_count": 9,
      "outputs": [
        {
          "output_type": "stream",
          "name": "stdout",
          "text": [
            "            one       two\n",
            "count  3.000000  2.000000\n",
            "mean   3.083333 -2.900000\n",
            "std    3.493685  2.262742\n",
            "min    0.750000 -4.500000\n",
            "25%    1.075000 -3.700000\n",
            "50%    1.400000 -2.900000\n",
            "75%    4.250000 -2.100000\n",
            "max    7.100000 -1.300000\n"
          ]
        }
      ]
    },
    {
      "cell_type": "code",
      "source": [
        "# Series에서 describe 사용 예\n",
        "obj = pd.Series([\"a\", \"a\", \"b\", \"c\"] * 4)\n",
        "print(obj.describe())"
      ],
      "metadata": {
        "colab": {
          "base_uri": "https://localhost:8080/"
        },
        "id": "dgGyPGrA2a7q",
        "outputId": "a482be88-7b6b-4cc2-e11d-abd9f7303c63"
      },
      "execution_count": 8,
      "outputs": [
        {
          "output_type": "stream",
          "name": "stdout",
          "text": [
            "count     16\n",
            "unique     3\n",
            "top        a\n",
            "freq       8\n",
            "dtype: object\n"
          ]
        }
      ]
    },
    {
      "cell_type": "code",
      "source": [
        "# axis='columns' 또는 axis=1: 행 방향으로 계산합니다. 즉, 각 행마다 계산 결과가 나옵니다.\n",
        "# axis='index' 또는 axis=0: 열 방향으로 계산합니다. 즉, 각 열마다 계산 결과가 나옵니다.\n",
        "\n",
        "# 집계 함수 (Aggregation)\n",
        "    # sum(): 합계 계산\n",
        "    # mean(): 평균 계산\n",
        "    # median(): 중앙값 계산\n",
        "    # min(), max(): 최소/최대값 계산\n",
        "    # count(): 비결측치 개수 세기\n",
        "    # std(), var(): 표준편차, 분산 계산\n",
        "    # quantile(): 분위수 계산\n",
        "    # describe(): 여러 통계량 한번에 계산\n",
        "# 변환 함수 (Transformation)\n",
        "    # apply(): 사용자 정의 함수 적용\n",
        "    # transform(): 그룹 연산 후 원본 크기로 결과 반환\n",
        "    # rank(): 순위 계산\n",
        "    # pct_change(): 백분율 변화 계산 (주가 수익률 계산 시 유용)\n",
        "    # diff(): 차분 계산 (시계열 분석에 유용)\n",
        "    # cumsum(), cumprod(): 누적합, 누적곱\n",
        "    # cummax(), cummin(): 누적 최대/최소\n",
        "# 불린 집계 (Boolean Aggregation)\n",
        "    # all(): 모든 값이 True인지 검사\n",
        "    # any(): 하나라도 True가 있는지 검사\n",
        "# 그룹 연산\n",
        "    # groupby()"
      ],
      "metadata": {
        "id": "ONDnXbIk4SHQ"
      },
      "execution_count": null,
      "outputs": []
    }
  ]
}