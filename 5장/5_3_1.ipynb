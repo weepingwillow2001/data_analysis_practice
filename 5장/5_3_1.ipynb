{
  "nbformat": 4,
  "nbformat_minor": 0,
  "metadata": {
    "colab": {
      "provenance": [],
      "authorship_tag": "ABX9TyOocjtTd2jgCWgHxuOEqxmf",
      "include_colab_link": true
    },
    "kernelspec": {
      "name": "python3",
      "display_name": "Python 3"
    },
    "language_info": {
      "name": "python"
    }
  },
  "cells": [
    {
      "cell_type": "markdown",
      "metadata": {
        "id": "view-in-github",
        "colab_type": "text"
      },
      "source": [
        "<a href=\"https://colab.research.google.com/github/weepingwillow2001/data_analysis_practice/blob/main/5%EC%9E%A5/5_3_1.ipynb\" target=\"_parent\"><img src=\"https://colab.research.google.com/assets/colab-badge.svg\" alt=\"Open In Colab\"/></a>"
      ]
    },
    {
      "cell_type": "code",
      "execution_count": null,
      "metadata": {
        "id": "jh4AYWFXZggd"
      },
      "outputs": [],
      "source": [
        "# correlation(corr), covariance(cov)\n",
        "\n",
        "import numpy as np\n",
        "import pandas as pd\n",
        "from pandas import Series, DataFrame\n",
        "import matplotlib.pyplot as plt # 시각화"
      ]
    },
    {
      "cell_type": "code",
      "source": [
        "import yfinance as yf  # 야후 파이낸스 자료 가져옴\n",
        "\n",
        "# 주가 및 거래량 데이터 불러오기\n",
        "symbols = ['RGTI', 'TSLA', 'GLD', 'SIVR']  # 티커\n",
        "start_date = '2024-12-01'\n",
        "end_date = '2025-03-14'\n",
        "\n",
        "# yfinance로 데이터 가져오기\n",
        "data = yf.download(symbols, start=start_date, end=end_date)\n",
        "\n",
        "# 주가와 거래량 분리\n",
        "price = data['Close']  # 종가\n",
        "volume = data['Volume']  # 거래량\n",
        "\n",
        "# 수익률 계산\n",
        "returns = price.pct_change()\n",
        "print(returns.tail())"
      ],
      "metadata": {
        "colab": {
          "base_uri": "https://localhost:8080/"
        },
        "id": "teZqfaxDfp1v",
        "outputId": "55399187-42f6-479a-da5f-b131f237fa78"
      },
      "execution_count": 6,
      "outputs": [
        {
          "output_type": "stream",
          "name": "stderr",
          "text": [
            "[*********************100%***********************]  4 of 4 completed"
          ]
        },
        {
          "output_type": "stream",
          "name": "stdout",
          "text": [
            "Ticker           GLD      RGTI      SIVR      TSLA\n",
            "Date                                              \n",
            "2025-03-07  0.000522  0.098707 -0.002894 -0.002961\n",
            "2025-03-10 -0.008756 -0.154011 -0.017736 -0.154262\n",
            "2025-03-11  0.011728  0.017699  0.030860  0.037947\n",
            "2025-03-12  0.004347  0.111801  0.008917  0.075939\n",
            "2025-03-13  0.017756 -0.022346  0.013889 -0.029868\n"
          ]
        },
        {
          "output_type": "stream",
          "name": "stderr",
          "text": [
            "\n"
          ]
        }
      ]
    },
    {
      "cell_type": "code",
      "source": [
        "# \"특정\" 종목의 수익률(returns) 간 공분산(cov) 계산: returns[].cov\n",
        "print(returns[\"GLD\"].cov(returns[\"SIVR\"]))"
      ],
      "metadata": {
        "colab": {
          "base_uri": "https://localhost:8080/"
        },
        "id": "4sez7Lw5f0xB",
        "outputId": "673d0ea7-04d3-4095-e721-e9a1bc534f57"
      },
      "execution_count": 8,
      "outputs": [
        {
          "output_type": "stream",
          "name": "stdout",
          "text": [
            "8.855675477116023e-05\n"
          ]
        }
      ]
    },
    {
      "cell_type": "code",
      "source": [
        "# \"모든\" 종목의 가격(price) 간 공분산 행렬\n",
        "print(price.cov())"
      ],
      "metadata": {
        "colab": {
          "base_uri": "https://localhost:8080/"
        },
        "id": "ueEJANb_f2T6",
        "outputId": "85a6c566-6482-4ad8-d536-bb4591c4e7c5"
      },
      "execution_count": 9,
      "outputs": [
        {
          "output_type": "stream",
          "name": "stdout",
          "text": [
            "Ticker         GLD       RGTI       SIVR         TSLA\n",
            "Ticker                                               \n",
            "GLD     127.687711  -1.647033  10.872807  -527.442814\n",
            "RGTI     -1.647033  14.814077  -1.268022    69.869438\n",
            "SIVR     10.872807  -1.268022   1.234369   -47.199088\n",
            "TSLA   -527.442814  69.869438 -47.199088  3699.284749\n"
          ]
        }
      ]
    },
    {
      "cell_type": "code",
      "source": [
        "# \"특정\" 종목 \"수익률\" 간 상관관계(corr) 계산: returns[].corr\n",
        "print(returns[\"GLD\"].corr(returns[\"SIVR\"]))"
      ],
      "metadata": {
        "colab": {
          "base_uri": "https://localhost:8080/"
        },
        "id": "3RGUTwc9fweV",
        "outputId": "94a4f33d-c8d9-4ac0-95cf-f6489d91071b"
      },
      "execution_count": 10,
      "outputs": [
        {
          "output_type": "stream",
          "name": "stdout",
          "text": [
            "0.7398221687160503\n"
          ]
        }
      ]
    },
    {
      "cell_type": "code",
      "source": [
        "# \"모든\" 종목 간 상관관계 행렬\n",
        "print(returns.corr())"
      ],
      "metadata": {
        "colab": {
          "base_uri": "https://localhost:8080/"
        },
        "id": "eA0G7fXxfymR",
        "outputId": "41358a0e-f4c8-4a90-8907-332d2b89c410"
      },
      "execution_count": 11,
      "outputs": [
        {
          "output_type": "stream",
          "name": "stdout",
          "text": [
            "Ticker       GLD      RGTI      SIVR      TSLA\n",
            "Ticker                                        \n",
            "GLD     1.000000  0.265336  0.739822  0.139398\n",
            "RGTI    0.265336  1.000000  0.302714  0.251645\n",
            "SIVR    0.739822  0.302714  1.000000  0.291465\n",
            "TSLA    0.139398  0.251645  0.291465  1.000000\n"
          ]
        }
      ]
    },
    {
      "cell_type": "code",
      "source": [
        "# corr()는 DataFrame \"내\" 열들 사이의 모든 조합에 대한 상관관계를 계산\n",
        "\n",
        "# corrwith()는 DataFrame의 각 열과 \"외부\" Series(또는 다른 DataFrame)와의 상관관계를 계산\n",
        "\n",
        "# 특정 Series(returns[\"RGTI\"])와 다른 모든 열의 상관관계\n",
        "print(returns.corrwith(returns[\"RGTI\"]))"
      ],
      "metadata": {
        "colab": {
          "base_uri": "https://localhost:8080/"
        },
        "id": "kwAhVNWWgB3a",
        "outputId": "3ec097cd-4b26-44d6-b2f1-67ba76d774f0"
      },
      "execution_count": 12,
      "outputs": [
        {
          "output_type": "stream",
          "name": "stdout",
          "text": [
            "Ticker\n",
            "GLD     0.265336\n",
            "RGTI    1.000000\n",
            "SIVR    0.302714\n",
            "TSLA    0.251645\n",
            "dtype: float64\n"
          ]
        }
      ]
    },
    {
      "cell_type": "code",
      "source": [
        "# 주가 변화율(price.pct_change())과 거래량 변화율 간의 상관관계\n",
        "print(returns.corrwith(volume.pct_change()))\n",
        "\n",
        "#  DataFrame의 각 열과 다른 DataFrame의 각 열 간의 상관관계를 계산"
      ],
      "metadata": {
        "colab": {
          "base_uri": "https://localhost:8080/"
        },
        "id": "-KJuZjqLgDkv",
        "outputId": "4f0f3292-c41c-47b7-8a3d-7d0cdedd86fd"
      },
      "execution_count": 13,
      "outputs": [
        {
          "output_type": "stream",
          "name": "stdout",
          "text": [
            "Ticker\n",
            "GLD     0.206757\n",
            "RGTI    0.246047\n",
            "SIVR   -0.055312\n",
            "TSLA   -0.357691\n",
            "dtype: float64\n"
          ]
        }
      ]
    }
  ]
}