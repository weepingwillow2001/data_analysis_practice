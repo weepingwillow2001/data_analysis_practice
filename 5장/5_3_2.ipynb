{
  "nbformat": 4,
  "nbformat_minor": 0,
  "metadata": {
    "colab": {
      "provenance": [],
      "authorship_tag": "ABX9TyN6NQMlvuJtw5VluTYDb+eJ",
      "include_colab_link": true
    },
    "kernelspec": {
      "name": "python3",
      "display_name": "Python 3"
    },
    "language_info": {
      "name": "python"
    }
  },
  "cells": [
    {
      "cell_type": "markdown",
      "metadata": {
        "id": "view-in-github",
        "colab_type": "text"
      },
      "source": [
        "<a href=\"https://colab.research.google.com/github/weepingwillow2001/data_analysis_practice/blob/main/5%EC%9E%A5/5_3_2.ipynb\" target=\"_parent\"><img src=\"https://colab.research.google.com/assets/colab-badge.svg\" alt=\"Open In Colab\"/></a>"
      ]
    },
    {
      "cell_type": "code",
      "execution_count": null,
      "metadata": {
        "id": "zL2pPKiOua6N"
      },
      "outputs": [],
      "source": [
        "# 유일값, 값 세기, 멤버십"
      ]
    },
    {
      "cell_type": "code",
      "source": [
        "# Series에서 중복되는 값을 제거하고 유일한 값만 반환: unique()\n",
        "import pandas as pd\n",
        "obj = pd.Series([\"c\", \"a\", \"d\", \"a\", \"a\", \"b\", \"b\", \"c\", \"c\"])\n",
        "\n",
        "# unique 함수는 Series에서 중복되는 값을 제거하고 유일한 값만 반환\n",
        "uniques = obj.unique()\n",
        "print(uniques)\n",
        "# 유일값을 정렬된 순서로 반환하지 않지만 원한다면 uniques.sort()를 사용해서 나중에 정렬할 수 있다"
      ],
      "metadata": {
        "colab": {
          "base_uri": "https://localhost:8080/"
        },
        "id": "YbEy_syovEYk",
        "outputId": "fc6c79fa-49a8-40e8-bd2f-890ee91b45c1"
      },
      "execution_count": 2,
      "outputs": [
        {
          "output_type": "stream",
          "name": "stdout",
          "text": [
            "['c' 'a' 'd' 'b']\n"
          ]
        }
      ]
    },
    {
      "cell_type": "code",
      "source": [
        "# value_counts는 Series에서 \"개수(빈도)\"를 계산해 반환\n",
        "print(obj.value_counts())\n",
        "# value_counts에서 반환하는 Series는 빈도를 기준으로 \"내림차순\" 정렬한다(기본)"
      ],
      "metadata": {
        "colab": {
          "base_uri": "https://localhost:8080/"
        },
        "id": "7Id9XimHvZIm",
        "outputId": "039d1de6-853e-43a4-d5b1-040ee11a0a27"
      },
      "execution_count": 3,
      "outputs": [
        {
          "output_type": "stream",
          "name": "stdout",
          "text": [
            "c    3\n",
            "a    3\n",
            "b    2\n",
            "d    1\n",
            "Name: count, dtype: int64\n"
          ]
        }
      ]
    },
    {
      "cell_type": "code",
      "source": [
        "# value_counts 메서드는 판다스의 최상위 메서드이며 어떤 배열이나 순차 자료구조에서도 사용할 수 있다\n",
        "\n",
        "print(pd.value_counts(obj.to_numpy(), sort=False))\n",
        "# 시리즈를 넘파이 행렬로 바꾸고 행렬 내 빈도를 계산"
      ],
      "metadata": {
        "colab": {
          "base_uri": "https://localhost:8080/"
        },
        "id": "hLR7HCI-wU-z",
        "outputId": "a85c6795-83e3-40aa-812f-713155b150b8"
      },
      "execution_count": 4,
      "outputs": [
        {
          "output_type": "stream",
          "name": "stdout",
          "text": [
            "c    3\n",
            "a    3\n",
            "d    1\n",
            "b    2\n",
            "Name: count, dtype: int64\n"
          ]
        },
        {
          "output_type": "stream",
          "name": "stderr",
          "text": [
            "<ipython-input-4-a9ce13e0ad6d>:3: FutureWarning: pandas.value_counts is deprecated and will be removed in a future version. Use pd.Series(obj).value_counts() instead.\n",
            "  print(pd.value_counts(obj.to_numpy(), sort=False))\n"
          ]
        }
      ]
    },
    {
      "cell_type": "code",
      "source": [
        "# isin 메서드는 어떤 값이 Series에 \"존재\"하는지 나타내는 \"불리언\" 벡터를 반환한다\n",
        "# Series나 DataFrame의 열에서 값을 골라내고 싶을 때 유용하게 사용할 수 있다\n",
        "print(obj)\n",
        "mask = obj.isin([\"b\", \"c\"])\n",
        "print(mask)"
      ],
      "metadata": {
        "colab": {
          "base_uri": "https://localhost:8080/"
        },
        "id": "DKLSvzGdwYEg",
        "outputId": "061e13a9-4708-4244-e2e6-36ca5963c725"
      },
      "execution_count": 5,
      "outputs": [
        {
          "output_type": "stream",
          "name": "stdout",
          "text": [
            "0    c\n",
            "1    a\n",
            "2    d\n",
            "3    a\n",
            "4    a\n",
            "5    b\n",
            "6    b\n",
            "7    c\n",
            "8    c\n",
            "dtype: object\n",
            "0     True\n",
            "1    False\n",
            "2    False\n",
            "3    False\n",
            "4    False\n",
            "5     True\n",
            "6     True\n",
            "7     True\n",
            "8     True\n",
            "dtype: bool\n"
          ]
        }
      ]
    },
    {
      "cell_type": "code",
      "source": [
        "print(obj[mask]) # 마스크에서 \"True인 위치의 값만\" 선택합니다."
      ],
      "metadata": {
        "colab": {
          "base_uri": "https://localhost:8080/"
        },
        "id": "bEFrD5bDwdht",
        "outputId": "1bf677a4-948b-48df-95b7-ef9bf7d8aff1"
      },
      "execution_count": 6,
      "outputs": [
        {
          "output_type": "stream",
          "name": "stdout",
          "text": [
            "0    c\n",
            "5    b\n",
            "6    b\n",
            "7    c\n",
            "8    c\n",
            "dtype: object\n"
          ]
        }
      ]
    },
    {
      "cell_type": "code",
      "source": [
        "# isin과 관련 있는 Index.get_indexer 메서드는 여러 값이 들어 있는 배열에서 유일한 값의 색인 배열을 구할 수 있다\n",
        "to_match = pd.Series([\"c\", \"a\", \"b\", \"b\", \"c\", \"a\"]) # 맵핑하려는 값들의 시리즈\n",
        "unique_vals = pd.Series([\"c\", \"b\", \"a\"]) # 맵핑 기준이 되는 고유 값들\n",
        "indices = pd.Index(unique_vals).get_indexer(to_match) # to_match의 각 값이 unique_vals의 어떤 위치(인덱스)에 있는지 반환합니다.\n",
        "print(indices)"
      ],
      "metadata": {
        "colab": {
          "base_uri": "https://localhost:8080/"
        },
        "id": "zYIa0dL3yhu2",
        "outputId": "ba8f258a-3420-49db-997c-5f906cb701f7"
      },
      "execution_count": 7,
      "outputs": [
        {
          "output_type": "stream",
          "name": "stdout",
          "text": [
            "[0 2 1 1 0 2]\n"
          ]
        }
      ]
    },
    {
      "cell_type": "code",
      "source": [
        "# DataFrame의 여러 열에 대해서 히스토그램을 계산해야 하는 경우\n",
        "data = pd.DataFrame({\"Qu1\": [1, 3, 4, 3, 4],\n",
        "                    \"Qu2\": [2, 3, 1, 2, 3],\n",
        "                    \"Qu3\": [1, 5, 2, 4, 4]},\n",
        "                   index=['a', 'b', 'c', 'd', 'e'])\n",
        "print(data)"
      ],
      "metadata": {
        "colab": {
          "base_uri": "https://localhost:8080/"
        },
        "id": "mbBhrdCH0K6r",
        "outputId": "74ed3230-36b7-4dc9-f6d5-e55afd000939"
      },
      "execution_count": 15,
      "outputs": [
        {
          "output_type": "stream",
          "name": "stdout",
          "text": [
            "   Qu1  Qu2  Qu3\n",
            "a    1    2    1\n",
            "b    3    3    5\n",
            "c    4    1    2\n",
            "d    3    2    4\n",
            "e    4    3    4\n"
          ]
        }
      ]
    },
    {
      "cell_type": "code",
      "source": [
        "# 다음과 같이 단일 열에 대한 값 개수를 계산할 수 있다\n",
        "print(data[\"Qu1\"].value_counts().sort_index()) # sort_index(): 빈도를 기준으로 \"오름차순\" 정렬하는 메서드"
      ],
      "metadata": {
        "colab": {
          "base_uri": "https://localhost:8080/"
        },
        "id": "Ged2K72y0PYn",
        "outputId": "d8b1703d-8ec2-4609-88b2-9399ee4da2f8"
      },
      "execution_count": 16,
      "outputs": [
        {
          "output_type": "stream",
          "name": "stdout",
          "text": [
            "Qu1\n",
            "1    1\n",
            "3    2\n",
            "4    2\n",
            "Name: count, dtype: int64\n"
          ]
        }
      ]
    },
    {
      "cell_type": "code",
      "source": [
        "# 모든 열에서 위와 같은 계산을 하려면 DataFrame의 apply 메서드에 pandas.value_counts를 넘기면 된다\n",
        "result = data.apply(pd.value_counts).fillna(0)\n",
        "print(result)"
      ],
      "metadata": {
        "colab": {
          "base_uri": "https://localhost:8080/"
        },
        "id": "ESks5-_j0Rw2",
        "outputId": "30955d19-3b2c-44c0-d563-5ee660c3803e"
      },
      "execution_count": 17,
      "outputs": [
        {
          "output_type": "stream",
          "name": "stdout",
          "text": [
            "   Qu1  Qu2  Qu3\n",
            "1  1.0  1.0  1.0\n",
            "2  0.0  2.0  1.0\n",
            "3  2.0  2.0  0.0\n",
            "4  2.0  0.0  2.0\n",
            "5  0.0  0.0  1.0\n"
          ]
        },
        {
          "output_type": "stream",
          "name": "stderr",
          "text": [
            "<ipython-input-17-d7d45d8e3f2b>:2: FutureWarning: pandas.value_counts is deprecated and will be removed in a future version. Use pd.Series(obj).value_counts() instead.\n",
            "  result = data.apply(pd.value_counts).fillna(0)\n"
          ]
        }
      ]
    },
    {
      "cell_type": "code",
      "source": [
        "# DataFrame.value_counts: DataFrame의 각 \"행\"을 \"튜플\"로 간주해 빈도를 계산\n",
        "data = pd.DataFrame({\"a\": [1, 1, 1, 2, 2], \"b\": [0, 0, 1, 0, 0]})\n",
        "print(data)"
      ],
      "metadata": {
        "colab": {
          "base_uri": "https://localhost:8080/"
        },
        "id": "2VV9YqWo0Unj",
        "outputId": "4962ee44-de50-417b-d122-f5594d02b05e"
      },
      "execution_count": 9,
      "outputs": [
        {
          "output_type": "stream",
          "name": "stdout",
          "text": [
            "   a  b\n",
            "0  1  0\n",
            "1  1  0\n",
            "2  1  1\n",
            "3  2  0\n",
            "4  2  0\n"
          ]
        }
      ]
    },
    {
      "cell_type": "code",
      "source": [
        "print(data.value_counts()) # 기본은 내림차순\n",
        "# (1, 0): 2개\n",
        "# (2, 0): 2개\n",
        "# (1, 1): 1개"
      ],
      "metadata": {
        "colab": {
          "base_uri": "https://localhost:8080/"
        },
        "id": "3B9OgF580WtJ",
        "outputId": "3b0f7826-2767-4f9d-8042-d2e020c5420f"
      },
      "execution_count": 10,
      "outputs": [
        {
          "output_type": "stream",
          "name": "stdout",
          "text": [
            "a  b\n",
            "1  0    2\n",
            "2  0    2\n",
            "1  1    1\n",
            "Name: count, dtype: int64\n"
          ]
        }
      ]
    }
  ]
}