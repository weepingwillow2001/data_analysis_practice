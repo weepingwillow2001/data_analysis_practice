{
  "nbformat": 4,
  "nbformat_minor": 0,
  "metadata": {
    "colab": {
      "provenance": [],
      "authorship_tag": "ABX9TyOX/BUVaxNCCLccG0FFLnHr",
      "include_colab_link": true
    },
    "kernelspec": {
      "name": "python3",
      "display_name": "Python 3"
    },
    "language_info": {
      "name": "python"
    }
  },
  "cells": [
    {
      "cell_type": "markdown",
      "metadata": {
        "id": "view-in-github",
        "colab_type": "text"
      },
      "source": [
        "<a href=\"https://colab.research.google.com/github/weepingwillow2001/data_analysis_practice/blob/main/7%EC%9E%A5/7_1_0.ipynb\" target=\"_parent\"><img src=\"https://colab.research.google.com/assets/colab-badge.svg\" alt=\"Open In Colab\"/></a>"
      ]
    },
    {
      "cell_type": "code",
      "execution_count": 1,
      "metadata": {
        "id": "SGxxHnQ7RWtx",
        "colab": {
          "base_uri": "https://localhost:8080/"
        },
        "outputId": "5c4efca8-e478-4514-db28-2091677704bc"
      },
      "outputs": [
        {
          "output_type": "stream",
          "name": "stdout",
          "text": [
            "0    1.2\n",
            "1   -3.5\n",
            "2    NaN\n",
            "3    0.0\n",
            "dtype: float64\n"
          ]
        }
      ],
      "source": [
        "import pandas as pd\n",
        "import numpy as np\n",
        "from pandas import Series, DataFrame\n",
        "\n",
        "# float64 dtype을 가지는 데이터의 경우 누락된 값은 NaN으로 표시됨\n",
        "float_data = pd.Series([1.2, -3.5, np.nan, 0])\n",
        "print(float_data)"
      ]
    },
    {
      "cell_type": "code",
      "source": [
        "# isna 메서드는 값이 null인 경우 True를 가지는 불리언 Series를 반환\n",
        "print(float_data.isna())"
      ],
      "metadata": {
        "id": "T02ZYfH-Rl3r",
        "colab": {
          "base_uri": "https://localhost:8080/"
        },
        "outputId": "635b322b-2d36-4f7a-aa54-8dfa7a818707"
      },
      "execution_count": 2,
      "outputs": [
        {
          "output_type": "stream",
          "name": "stdout",
          "text": [
            "0    False\n",
            "1    False\n",
            "2     True\n",
            "3    False\n",
            "dtype: bool\n"
          ]
        }
      ]
    },
    {
      "cell_type": "code",
      "source": [
        "# 문자열 데이터의 경우\n",
        "string_data = pd.Series([\"aardvark\", np.nan, None, \"avocado\"])   # dtype: object !!\n",
        "print(string_data)\n",
        "# 출력:\n",
        "# 0    aardvark\n",
        "# 1         NaN\n",
        "# 2        None\n",
        "# 3     avocado\n",
        "# dtype: object"
      ],
      "metadata": {
        "id": "OiKeHzlERnTb",
        "colab": {
          "base_uri": "https://localhost:8080/"
        },
        "outputId": "ae0e6928-71b9-4781-d22b-3bc627270295"
      },
      "execution_count": 3,
      "outputs": [
        {
          "output_type": "stream",
          "name": "stdout",
          "text": [
            "0    aardvark\n",
            "1         NaN\n",
            "2        None\n",
            "3     avocado\n",
            "dtype: object\n"
          ]
        }
      ]
    },
    {
      "cell_type": "code",
      "source": [
        "print(string_data.isna())\n",
        "# 출력:\n",
        "# 0    False\n",
        "# 1     True\n",
        "# 2     True !!!\n",
        "# 3    False\n",
        "# dtype: bool\n",
        "\n"
      ],
      "metadata": {
        "id": "PTuTZdIDRqGg",
        "colab": {
          "base_uri": "https://localhost:8080/"
        },
        "outputId": "2c84aa52-97d1-4405-fa93-ff53f6e8778b"
      },
      "execution_count": 4,
      "outputs": [
        {
          "output_type": "stream",
          "name": "stdout",
          "text": [
            "0    False\n",
            "1     True\n",
            "2     True\n",
            "3    False\n",
            "dtype: bool\n"
          ]
        }
      ]
    },
    {
      "cell_type": "code",
      "source": [
        "# float64 타입으로 \"명시\"적 지정: dtype=\n",
        "float_data = pd.Series([1, 2, None], dtype='float64')\n",
        "print(float_data)\n",
        "# 출력:\n",
        "# 0    1.0\n",
        "# 1    2.0\n",
        "# 2    NaN !!      # float64 dtype을 가지는 데이터의 경우 누락된 값은 NaN으로 표시됨\n",
        "# dtype: float64\n",
        "\n"
      ],
      "metadata": {
        "id": "nmvFZpjORrpE",
        "colab": {
          "base_uri": "https://localhost:8080/"
        },
        "outputId": "1cbd543b-aba7-4025-aaee-de69628d0b8f"
      },
      "execution_count": 5,
      "outputs": [
        {
          "output_type": "stream",
          "name": "stdout",
          "text": [
            "0    1.0\n",
            "1    2.0\n",
            "2    NaN\n",
            "dtype: float64\n"
          ]
        }
      ]
    },
    {
      "cell_type": "code",
      "source": [
        "print(float_data.isna())\n",
        "# 출력:\n",
        "# 0    False\n",
        "# 1    False\n",
        "# 2     True\n",
        "# dtype: bool"
      ],
      "metadata": {
        "id": "cEZuQ1lzRslq",
        "colab": {
          "base_uri": "https://localhost:8080/"
        },
        "outputId": "ebfb565a-ca43-4327-f3a2-d5767f0ef600"
      },
      "execution_count": 6,
      "outputs": [
        {
          "output_type": "stream",
          "name": "stdout",
          "text": [
            "0    False\n",
            "1    False\n",
            "2     True\n",
            "dtype: bool\n"
          ]
        }
      ]
    }
  ]
}