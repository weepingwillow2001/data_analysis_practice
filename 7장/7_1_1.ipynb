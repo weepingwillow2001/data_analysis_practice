{
  "nbformat": 4,
  "nbformat_minor": 0,
  "metadata": {
    "colab": {
      "provenance": [],
      "authorship_tag": "ABX9TyOW7YchDHuZrpoN5zOWWO5g",
      "include_colab_link": true
    },
    "kernelspec": {
      "name": "python3",
      "display_name": "Python 3"
    },
    "language_info": {
      "name": "python"
    }
  },
  "cells": [
    {
      "cell_type": "markdown",
      "metadata": {
        "id": "view-in-github",
        "colab_type": "text"
      },
      "source": [
        "<a href=\"https://colab.research.google.com/github/weepingwillow2001/data_analysis_practice/blob/main/7%EC%9E%A5/7_1_1.ipynb\" target=\"_parent\"><img src=\"https://colab.research.google.com/assets/colab-badge.svg\" alt=\"Open In Colab\"/></a>"
      ]
    },
    {
      "cell_type": "code",
      "execution_count": 1,
      "metadata": {
        "id": "AdBSf5sdRVfg",
        "colab": {
          "base_uri": "https://localhost:8080/"
        },
        "outputId": "0ab43a4e-bce6-4505-ef92-de97d9cf9472"
      },
      "outputs": [
        {
          "output_type": "stream",
          "name": "stdout",
          "text": [
            "0    1.0\n",
            "2    3.5\n",
            "4    7.0\n",
            "dtype: float64\n"
          ]
        }
      ],
      "source": [
        "import pandas as pd\n",
        "import numpy as np\n",
        "from pandas import Series, DataFrame\n",
        "\n",
        "# dropna() 메서드를 사용하여 \"누락\"된 데이터 \"제거\"\n",
        "data = pd.Series([1, np.nan, 3.5, np.nan, 7])\n",
        "print(data.dropna())\n",
        "# 출력:\n",
        "# 0    1.0\n",
        "# 2    3.5\n",
        "# 4    7.0\n",
        "# dtype: float64"
      ]
    },
    {
      "cell_type": "code",
      "source": [
        "# notna()를 사용하여 같은 결과 얻기(누락 데이터 제외)\n",
        "print(data[data.notna()]) # notna는 isna와 마찬가지로 기본적으로 불리언 배열 반환!\n",
        "# 출력:\n",
        "# 0    1.0\n",
        "# 2    3.5\n",
        "# 4    7.0\n",
        "# dtype: float64\n",
        "\n",
        "# data[]를 추가하여 위와 같은 결과를 얻음!"
      ],
      "metadata": {
        "id": "EhdReu_gRu36",
        "colab": {
          "base_uri": "https://localhost:8080/"
        },
        "outputId": "2cd926e9-a3a6-4793-994d-71990567989e"
      },
      "execution_count": 3,
      "outputs": [
        {
          "output_type": "stream",
          "name": "stdout",
          "text": [
            "0    1.0\n",
            "2    3.5\n",
            "4    7.0\n",
            "dtype: float64\n"
          ]
        }
      ]
    },
    {
      "cell_type": "code",
      "source": [
        "# DataFrame에서 dropna() 사용하기\n",
        "data = pd.DataFrame([[1.0, 6.5, 3.], [1.0, np.nan, np.nan],\n",
        "                      [np.nan, np.nan, np.nan], [np.nan, 6.5, 3.0]])\n",
        "print(data)"
      ],
      "metadata": {
        "id": "KKyXvyE7RxQB",
        "colab": {
          "base_uri": "https://localhost:8080/"
        },
        "outputId": "f3143282-db2f-4b0a-c6a6-5fe27ff7ea50"
      },
      "execution_count": 4,
      "outputs": [
        {
          "output_type": "stream",
          "name": "stdout",
          "text": [
            "     0    1    2\n",
            "0  1.0  6.5  3.0\n",
            "1  1.0  NaN  NaN\n",
            "2  NaN  NaN  NaN\n",
            "3  NaN  6.5  3.0\n"
          ]
        }
      ]
    },
    {
      "cell_type": "code",
      "source": [
        "# 기본적으로 NA 값이 \"하나라도\" 있는 \"행\"!을 제거: dropna\n",
        "print(data.dropna())"
      ],
      "metadata": {
        "id": "Gz5huWt1R0Ku",
        "colab": {
          "base_uri": "https://localhost:8080/"
        },
        "outputId": "079aa9c2-ed92-4415-d865-407c1ac0ce1e"
      },
      "execution_count": 5,
      "outputs": [
        {
          "output_type": "stream",
          "name": "stdout",
          "text": [
            "     0    1    2\n",
            "0  1.0  6.5  3.0\n"
          ]
        }
      ]
    },
    {
      "cell_type": "code",
      "source": [
        "# how='all' 옵션: \"모든\" 값이 NA인 \"행\"만 제거\n",
        "print(data.dropna(how='all'))\n"
      ],
      "metadata": {
        "id": "hpGF-Vk-R3BF",
        "colab": {
          "base_uri": "https://localhost:8080/"
        },
        "outputId": "cacafaf0-68f0-4d1e-9eea-7e575b1e6b3b"
      },
      "execution_count": 6,
      "outputs": [
        {
          "output_type": "stream",
          "name": "stdout",
          "text": [
            "     0    1    2\n",
            "0  1.0  6.5  3.0\n",
            "1  1.0  NaN  NaN\n",
            "3  NaN  6.5  3.0\n"
          ]
        }
      ]
    },
    {
      "cell_type": "code",
      "source": [
        "data[4] = np.nan\n",
        "print(data)\n",
        "# 출력:\n",
        "#      0    1    2   4\n",
        "# 0  1.0  6.5  3.0 NaN\n",
        "# 1  1.0  NaN  NaN NaN\n",
        "# 2  NaN  NaN  NaN NaN\n",
        "# 3  NaN  6.5  3.0 NaN\n",
        "\n"
      ],
      "metadata": {
        "id": "vLeslNmkR4i8",
        "colab": {
          "base_uri": "https://localhost:8080/"
        },
        "outputId": "37b37a13-07fa-48b9-9f0d-d64375b88fe0"
      },
      "execution_count": 7,
      "outputs": [
        {
          "output_type": "stream",
          "name": "stdout",
          "text": [
            "     0    1    2   4\n",
            "0  1.0  6.5  3.0 NaN\n",
            "1  1.0  NaN  NaN NaN\n",
            "2  NaN  NaN  NaN NaN\n",
            "3  NaN  6.5  3.0 NaN\n"
          ]
        }
      ]
    },
    {
      "cell_type": "code",
      "source": [
        "# 열을 기준으로 제거하기 (axis='columns')\n",
        "print(data.dropna(axis='columns', how='all'))"
      ],
      "metadata": {
        "id": "89s5FCq6R6Er",
        "colab": {
          "base_uri": "https://localhost:8080/"
        },
        "outputId": "53ffad4b-75fc-4d1f-f481-b0154dc8c419"
      },
      "execution_count": 8,
      "outputs": [
        {
          "output_type": "stream",
          "name": "stdout",
          "text": [
            "     0    1    2\n",
            "0  1.0  6.5  3.0\n",
            "1  1.0  NaN  NaN\n",
            "2  NaN  NaN  NaN\n",
            "3  NaN  6.5  3.0\n"
          ]
        }
      ]
    },
    {
      "cell_type": "code",
      "source": [
        "df = pd.DataFrame(np.random.standard_normal((7, 3)))\n",
        "df.iloc[:4, 1] = np.nan\n",
        "df.iloc[:2, 2] = np.nan\n",
        "print(df)"
      ],
      "metadata": {
        "id": "gHp_xKukR7ye",
        "colab": {
          "base_uri": "https://localhost:8080/"
        },
        "outputId": "fa166f32-cdda-4bae-8564-1bf4b49d8574"
      },
      "execution_count": 9,
      "outputs": [
        {
          "output_type": "stream",
          "name": "stdout",
          "text": [
            "          0         1         2\n",
            "0 -0.912388       NaN       NaN\n",
            "1  0.355632       NaN       NaN\n",
            "2  0.118080       NaN -0.132784\n",
            "3  0.437640       NaN  1.244979\n",
            "4 -2.088015 -0.597290 -0.710771\n",
            "5 -0.077707 -0.184536  0.820044\n",
            "6 -1.010419  0.777812  1.157007\n"
          ]
        }
      ]
    },
    {
      "cell_type": "code",
      "source": [
        "print(df.dropna()) # \"하나라도\""
      ],
      "metadata": {
        "id": "o9XwdbBlR9-L",
        "colab": {
          "base_uri": "https://localhost:8080/"
        },
        "outputId": "de9f09c9-fa0b-43e7-ade1-d841eedf62f4"
      },
      "execution_count": 10,
      "outputs": [
        {
          "output_type": "stream",
          "name": "stdout",
          "text": [
            "          0         1         2\n",
            "4 -2.088015 -0.597290 -0.710771\n",
            "5 -0.077707 -0.184536  0.820044\n",
            "6 -1.010419  0.777812  1.157007\n"
          ]
        }
      ]
    },
    {
      "cell_type": "code",
      "source": [
        "# thresh 매개변수: \"최소\" 유효(NA 아닌 값) \"개수\"만큼 데이터가 있는 \"행\"만 남김(threshold)\n",
        "print(df.dropna(thresh=2))\n",
        "# 최소한 2개 이상의 유효한 값이 있는 행만 유지하고, 나머지는 제거"
      ],
      "metadata": {
        "id": "x13EU-AlR-6L",
        "colab": {
          "base_uri": "https://localhost:8080/"
        },
        "outputId": "e6abdd08-fa87-43ea-b050-9d18f7ac9a81"
      },
      "execution_count": 11,
      "outputs": [
        {
          "output_type": "stream",
          "name": "stdout",
          "text": [
            "          0         1         2\n",
            "2  0.118080       NaN -0.132784\n",
            "3  0.437640       NaN  1.244979\n",
            "4 -2.088015 -0.597290 -0.710771\n",
            "5 -0.077707 -0.184536  0.820044\n",
            "6 -1.010419  0.777812  1.157007\n"
          ]
        }
      ]
    }
  ]
}