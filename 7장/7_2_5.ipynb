{
  "nbformat": 4,
  "nbformat_minor": 0,
  "metadata": {
    "colab": {
      "provenance": [],
      "authorship_tag": "ABX9TyMbEqp1Nnsj5AWxbPIOyuQN",
      "include_colab_link": true
    },
    "kernelspec": {
      "name": "python3",
      "display_name": "Python 3"
    },
    "language_info": {
      "name": "python"
    }
  },
  "cells": [
    {
      "cell_type": "markdown",
      "metadata": {
        "id": "view-in-github",
        "colab_type": "text"
      },
      "source": [
        "<a href=\"https://colab.research.google.com/github/weepingwillow2001/data_analysis_practice/blob/main/7%EC%9E%A5/7_2_5.ipynb\" target=\"_parent\"><img src=\"https://colab.research.google.com/assets/colab-badge.svg\" alt=\"Open In Colab\"/></a>"
      ]
    },
    {
      "cell_type": "code",
      "execution_count": 10,
      "metadata": {
        "colab": {
          "base_uri": "https://localhost:8080/"
        },
        "id": "pfbsqIHOtx81",
        "outputId": "5e0b0d05-207c-415a-c886-09d3ae6ab33c"
      },
      "outputs": [
        {
          "output_type": "stream",
          "name": "stdout",
          "text": [
            "[(18, 25], (18, 25], (18, 25], (25, 35], (18, 25], ..., (25, 35], (60, 100], (35, 60], (35, 60], (25, 35]]\n",
            "Length: 12\n",
            "Categories (4, interval[int64, right]): [(18, 25] < (25, 35] < (35, 60] < (60, 100]]\n"
          ]
        }
      ],
      "source": [
        "import pandas as pd\n",
        "import numpy as np\n",
        "\n",
        "ages = np.array([20, 22, 25, 27, 21, 23, 37, 31, 61, 45, 41, 32])\n",
        "\n",
        "# 나이를 다양한 그룹으로 나누기\n",
        "bins = [18, 25, 35, 60, 100]\n",
        "age_categories = pd.cut(ages, bins)\n",
        "# pd.cut() 함수에서 구간은 기본적으로 \"초과-이하\"\n",
        "\n",
        "# right=True (기본값): 구간은 (a, b]\n",
        "# right=False: 구간은 [a, b) 형태\n",
        "\n",
        "# 첫 번째 구간: (18, 25] → 18 초과 25 \"이하\"\n",
        "# 두 번째 구간: (25, 35] → 25 초과 35 \"이하\"\n",
        "# 세 번째 구간: (35, 60] → 35 초과 60 \"이하\"\n",
        "# 네 번째 구간: (60, 100] → 60 초과 100 \"이하\"\n",
        "\n",
        "print(age_categories)"
      ]
    },
    {
      "cell_type": "code",
      "source": [
        "# 카테고리 코드와 인터벌 확인\n",
        "print(\"\\n카테고리 코드:\")\n",
        "print(age_categories.codes)\n",
        "\n",
        "print(\"\\n카테고리 인터벌:\")\n",
        "print(age_categories.categories)\n",
        "\n",
        "print(\"\\n첫 번째 카테고리:\")\n",
        "print(age_categories.categories[0])"
      ],
      "metadata": {
        "colab": {
          "base_uri": "https://localhost:8080/"
        },
        "id": "uqCLSE49vB14",
        "outputId": "030714fc-1b62-4610-cfa8-9506310f4c57"
      },
      "execution_count": 11,
      "outputs": [
        {
          "output_type": "stream",
          "name": "stdout",
          "text": [
            "\n",
            "카테고리 코드:\n",
            "[0 0 0 1 0 0 2 1 3 2 2 1]\n",
            "\n",
            "카테고리 인터벌:\n",
            "IntervalIndex([(18, 25], (25, 35], (35, 60], (60, 100]], dtype='interval[int64, right]')\n",
            "\n",
            "첫 번째 카테고리:\n",
            "(18, 25]\n"
          ]
        }
      ]
    },
    {
      "cell_type": "code",
      "source": [
        "# 각 카테고리별 빈도수 계산\n",
        "print(\"\\n빈도수 계산:\")\n",
        "print(pd.value_counts(age_categories))"
      ],
      "metadata": {
        "colab": {
          "base_uri": "https://localhost:8080/"
        },
        "id": "GOJD3lDqvErK",
        "outputId": "737b21cf-dd3b-4ee5-8365-6931f8691e9f"
      },
      "execution_count": 3,
      "outputs": [
        {
          "output_type": "stream",
          "name": "stdout",
          "text": [
            "\n",
            "빈도수 계산:\n",
            "(18, 25]     5\n",
            "(25, 35]     3\n",
            "(35, 60]     3\n",
            "(60, 100]    1\n",
            "Name: count, dtype: int64\n"
          ]
        },
        {
          "output_type": "stream",
          "name": "stderr",
          "text": [
            "<ipython-input-3-f03562de0be5>:3: FutureWarning: pandas.value_counts is deprecated and will be removed in a future version. Use pd.Series(obj).value_counts() instead.\n",
            "  print(pd.value_counts(age_categories))\n"
          ]
        }
      ]
    },
    {
      "cell_type": "code",
      "source": [
        "# right=False 옵션 사용 (구간의 오른쪽 경계가 열린 구간)\n",
        "print(\"\\nright=False 옵션 사용:\")\n",
        "print(pd.cut(ages, bins, right=False))"
      ],
      "metadata": {
        "colab": {
          "base_uri": "https://localhost:8080/"
        },
        "id": "9jknChf8vIgk",
        "outputId": "926f52ba-08b7-4cb2-b804-8234da16665d"
      },
      "execution_count": 4,
      "outputs": [
        {
          "output_type": "stream",
          "name": "stdout",
          "text": [
            "\n",
            "right=False 옵션 사용:\n",
            "[[18, 25), [18, 25), [25, 35), [25, 35), [18, 25), ..., [25, 35), [60, 100), [35, 60), [35, 60), [25, 35)]\n",
            "Length: 12\n",
            "Categories (4, interval[int64, left]): [[18, 25) < [25, 35) < [35, 60) < [60, 100)]\n"
          ]
        }
      ]
    },
    {
      "cell_type": "code",
      "source": [
        "# 사용자 지정 라벨 사용: labels\n",
        "group_names = [\"Youth\", \"YoungAdult\", \"MiddleAged\", \"Senior\"]\n",
        "\n",
        "labeled_age_categories = pd.cut(ages, bins, labels=group_names)\n",
        "\n",
        "print(\"\\n사용자 지정 라벨 사용:\")\n",
        "print(labeled_age_categories)"
      ],
      "metadata": {
        "colab": {
          "base_uri": "https://localhost:8080/"
        },
        "id": "boSdUFkyvLRK",
        "outputId": "f870ac58-6b4b-4c18-9d3d-28f40b61e6b8"
      },
      "execution_count": 5,
      "outputs": [
        {
          "output_type": "stream",
          "name": "stdout",
          "text": [
            "\n",
            "사용자 지정 라벨 사용:\n",
            "['Youth', 'Youth', 'Youth', 'YoungAdult', 'Youth', ..., 'YoungAdult', 'Senior', 'MiddleAged', 'MiddleAged', 'YoungAdult']\n",
            "Length: 12\n",
            "Categories (4, object): ['Youth' < 'YoungAdult' < 'MiddleAged' < 'Senior']\n"
          ]
        }
      ]
    },
    {
      "cell_type": "code",
      "source": [
        "# 균일 분포 데이터로 실습: uniform\n",
        "\n",
        "data = np.random.uniform(size=20)\n",
        "print(pd.cut(data, 4, precision=2))\n",
        "\n",
        "# 4는 데이터를 나눌 구간(bin)의 수를 의미합니다. 데이터를 4개의 동일한 크기 구간으로 나누라는 의미입니다.\n",
        "# bins 매개변수에 정수를 넣으면 pandas는 데이터의 최소값부터 최대값까지 해당 개수의 균등한 간격의 구간을 자동으로 생성합니다.\n",
        "\n",
        "# precision=2는 출력되는 구간의 경계값의 소수점 자릿수를 지정하는 매개변수입니다. 여기서 2는 소수점 이하 두 자리까지 표시하라는 의미입니다."
      ],
      "metadata": {
        "colab": {
          "base_uri": "https://localhost:8080/"
        },
        "id": "akVOqEcovNHE",
        "outputId": "8cf0f070-dc35-4cc0-d1f6-03e97c4eadf5"
      },
      "execution_count": 6,
      "outputs": [
        {
          "output_type": "stream",
          "name": "stdout",
          "text": [
            "[(0.5, 0.75], (0.0076, 0.26], (0.26, 0.5], (0.5, 0.75], (0.0076, 0.26], ..., (0.26, 0.5], (0.0076, 0.26], (0.5, 0.75], (0.5, 0.75], (0.26, 0.5]]\n",
            "Length: 20\n",
            "Categories (4, interval[float64, right]): [(0.0076, 0.26] < (0.26, 0.5] < (0.5, 0.75] < (0.75, 0.99]]\n"
          ]
        }
      ]
    },
    {
      "cell_type": "code",
      "source": [
        "# 표준 정규 분포 데이터로 실습\n",
        "\n",
        "data = np.random.standard_normal(1000)\n",
        "quartiles = pd.cut(data, 4, precision=2)\n",
        "print(quartiles)"
      ],
      "metadata": {
        "colab": {
          "base_uri": "https://localhost:8080/"
        },
        "id": "mvRnywNxvRYB",
        "outputId": "cbeebc59-65a2-4ab3-fdeb-b700d3e3201d"
      },
      "execution_count": 7,
      "outputs": [
        {
          "output_type": "stream",
          "name": "stdout",
          "text": [
            "[(-0.17, 1.33], (-0.17, 1.33], (-0.17, 1.33], (-3.18, -1.67], (-1.67, -0.17], ..., (-0.17, 1.33], (-0.17, 1.33], (-3.18, -1.67], (-0.17, 1.33], (-0.17, 1.33]]\n",
            "Length: 1000\n",
            "Categories (4, interval[float64, right]): [(-3.18, -1.67] < (-1.67, -0.17] < (-0.17, 1.33] <\n",
            "                                           (1.33, 2.83]]\n"
          ]
        }
      ]
    },
    {
      "cell_type": "code",
      "source": [
        "print(\"\\n사분위수 빈도수:\")\n",
        "print(pd.value_counts(quartiles))"
      ],
      "metadata": {
        "colab": {
          "base_uri": "https://localhost:8080/"
        },
        "id": "-GhJIuzvvTnl",
        "outputId": "8bb0e5f7-216f-459b-ef2b-7e8ecf013888"
      },
      "execution_count": 8,
      "outputs": [
        {
          "output_type": "stream",
          "name": "stdout",
          "text": [
            "\n",
            "사분위수 빈도수:\n",
            "(-0.17, 1.33]     459\n",
            "(-1.67, -0.17]    404\n",
            "(1.33, 2.83]       89\n",
            "(-3.18, -1.67]     48\n",
            "Name: count, dtype: int64\n"
          ]
        },
        {
          "output_type": "stream",
          "name": "stderr",
          "text": [
            "<ipython-input-8-a7debecb9e75>:2: FutureWarning: pandas.value_counts is deprecated and will be removed in a future version. Use pd.Series(obj).value_counts() instead.\n",
            "  print(pd.value_counts(quartiles))\n"
          ]
        }
      ]
    },
    {
      "cell_type": "code",
      "source": [
        "# 사용자 지정 구간 나누기: qcut(quantile: 분위수)\n",
        "print(\"\\n사용자 지정 구간 나누기:\")\n",
        "print(pd.qcut(data, [0, 0.1, 0.5, 0.9, 1.]).value_counts())\n",
        "\n",
        "\n",
        "# pd.cut()과 pd.qcut()의 차이를 분위수 관점에서 보면:\n",
        "\n",
        "# pd.cut():\n",
        "\n",
        "# 값(value) 기반 분할\n",
        "# 구간의 너비가 균등함\n",
        "# 분포를 고려하지 않고 단순히 값의 범위를 동일한 크기로 나눔\n",
        "\n",
        "\n",
        "# pd.qcut():\n",
        "\n",
        "# 분위수(quantile) 기반 분할\n",
        "# 각 구간에 속하는 데이터 개수가 균등함\n",
        "# 데이터 분포를 고려하여 구간 경계를 자동으로 조정\n",
        "\n",
        "\n",
        "\n",
        "# 금융 데이터 분석에서 예를 들면:\n",
        "\n",
        "# pd.cut()은 수익률을 \"0-5%\", \"5-10%\", \"10-15%\"와 같이 균등한 범위로 나눌 때 사용\n",
        "# pd.qcut()은 투자자들을 \"하위 25%\", \"25%-50%\", \"50%-75%\", \"상위 25%\"와 같이 동일한 인원수로 나눌 때 사용"
      ],
      "metadata": {
        "colab": {
          "base_uri": "https://localhost:8080/"
        },
        "id": "Whj8I0u-vb3D",
        "outputId": "02e5dedc-0b8b-4cdf-bdd5-8531216da0ed"
      },
      "execution_count": 9,
      "outputs": [
        {
          "output_type": "stream",
          "name": "stdout",
          "text": [
            "\n",
            "사용자 지정 구간 나누기:\n",
            "(-3.175, -1.276]     100\n",
            "(-1.276, -0.0727]    400\n",
            "(-0.0727, 1.268]     400\n",
            "(1.268, 2.832]       100\n",
            "Name: count, dtype: int64\n"
          ]
        }
      ]
    }
  ]
}