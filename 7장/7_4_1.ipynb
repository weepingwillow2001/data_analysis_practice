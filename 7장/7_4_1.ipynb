{
  "nbformat": 4,
  "nbformat_minor": 0,
  "metadata": {
    "colab": {
      "provenance": [],
      "authorship_tag": "ABX9TyM2arLUJ6G7T3aCd8AgrLya",
      "include_colab_link": true
    },
    "kernelspec": {
      "name": "python3",
      "display_name": "Python 3"
    },
    "language_info": {
      "name": "python"
    }
  },
  "cells": [
    {
      "cell_type": "markdown",
      "metadata": {
        "id": "view-in-github",
        "colab_type": "text"
      },
      "source": [
        "<a href=\"https://colab.research.google.com/github/weepingwillow2001/data_analysis_practice/blob/main/7%EC%9E%A5/7_4_1.ipynb\" target=\"_parent\"><img src=\"https://colab.research.google.com/assets/colab-badge.svg\" alt=\"Open In Colab\"/></a>"
      ]
    },
    {
      "cell_type": "code",
      "execution_count": null,
      "metadata": {
        "id": "4PxB1MRWPAZW"
      },
      "outputs": [],
      "source": [
        "# 7.4 문자열 다루기"
      ]
    },
    {
      "cell_type": "code",
      "source": [
        "# 7.4.1 \"파이썬 내장\" 문자열 객체 메서드\n",
        "\n",
        "# 문자열을 특정 \"구분자로 나누기\": split\n",
        "val = \"a,b, guido\"\n",
        "print(val.split(\",\"))  # ['a', 'b', ' guido']"
      ],
      "metadata": {
        "colab": {
          "base_uri": "https://localhost:8080/"
        },
        "id": "K-N-Vggl5_GK",
        "outputId": "2474232e-e6ed-4e96-bee2-f5936a7715a7"
      },
      "execution_count": null,
      "outputs": [
        {
          "output_type": "stream",
          "name": "stdout",
          "text": [
            "['a', 'b', ' guido']\n"
          ]
        }
      ]
    },
    {
      "cell_type": "code",
      "source": [
        "# split 메서드는 종종 공백 문자(개행 문자 포함)를 제거하는 strip 메서드와 조합해서 사용하기도 합니다.\n",
        "pieces = [x.strip() for x in val.split(\",\")]\n",
        "print(pieces)  # ['a', 'b', 'guido']"
      ],
      "metadata": {
        "colab": {
          "base_uri": "https://localhost:8080/"
        },
        "id": "Oh_OG3v86PaA",
        "outputId": "dc838b39-28e0-4167-91db-8eee97172b4e"
      },
      "execution_count": null,
      "outputs": [
        {
          "output_type": "stream",
          "name": "stdout",
          "text": [
            "['a', 'b', 'guido']\n"
          ]
        }
      ]
    },
    {
      "cell_type": "code",
      "source": [
        "# 이렇게 분리된 문자열은 다하기 연산을 사용해서 :: 문자열과 합칠 수도 있습니다.\n",
        "first, second, third = pieces\n",
        "print(first + \"::\" + second + \"::\" + third)  # 'a::b::guido'"
      ],
      "metadata": {
        "colab": {
          "base_uri": "https://localhost:8080/"
        },
        "id": "TwJxgfgm6R6b",
        "outputId": "2a8fa77e-47c0-474e-b8a5-85441cf87cae"
      },
      "execution_count": null,
      "outputs": [
        {
          "output_type": "stream",
          "name": "stdout",
          "text": [
            "a::b::guido\n"
          ]
        }
      ]
    },
    {
      "cell_type": "code",
      "source": [
        "# 하지만 이 방법은 사용하기가 번거롭습니다. 다음과 같이 :: 문자열의 join 메서드에 리스트나 튜플을 전달하는 방법이 더 낫고 파이썬스럽습니다.\n",
        "print(\"::\".join(pieces))  # 'a::b::guido'"
      ],
      "metadata": {
        "colab": {
          "base_uri": "https://localhost:8080/"
        },
        "id": "UtyEcVdL6TJi",
        "outputId": "c74299d6-1c4e-4df9-a587-37778cca9653"
      },
      "execution_count": null,
      "outputs": [
        {
          "output_type": "stream",
          "name": "stdout",
          "text": [
            "a::b::guido\n"
          ]
        }
      ]
    },
    {
      "cell_type": "code",
      "source": [
        "# 문자열에 \"특정\" 내용이 있는지 \"확인\"하는 메서드: in\n",
        "print(\"guido\" in val)  # True"
      ],
      "metadata": {
        "colab": {
          "base_uri": "https://localhost:8080/"
        },
        "id": "GyBTb6np6VdU",
        "outputId": "98442014-ac61-459a-ae12-132d293d62c5"
      },
      "execution_count": null,
      "outputs": [
        {
          "output_type": "stream",
          "name": "stdout",
          "text": [
            "True\n"
          ]
        }
      ]
    },
    {
      "cell_type": "code",
      "source": [
        "# index나 find를 사용할 수 있지만 파이썬의 in 연산자를 사용하면 더 쉽게 찾을 수 있음\n",
        "print(val.index(\",\"))  # 1 (true - 존재함)\n",
        "print(val.find(\":\"))   # -1 (찾지 못하면 -1 반환)"
      ],
      "metadata": {
        "id": "BKybcOt56-k_"
      },
      "execution_count": null,
      "outputs": []
    },
    {
      "cell_type": "code",
      "source": [
        "# find와 index의 차이점은 \"index\"는 찾으려는 문자열이 없을 때 \"예외가 발생\"한다는 것입니다(find는 -1을 반환).\n",
        "try:\n",
        "    val.index(\":\")\n",
        "except ValueError as e:\n",
        "    print(f\"ValueError: {e}\")  # ValueError: substring not found"
      ],
      "metadata": {
        "colab": {
          "base_uri": "https://localhost:8080/"
        },
        "id": "TOHM7AFM6Wmy",
        "outputId": "54c4ef9f-3193-41cd-9289-200c3085e4d4"
      },
      "execution_count": null,
      "outputs": [
        {
          "output_type": "stream",
          "name": "stdout",
          "text": [
            "ValueError: substring not found\n"
          ]
        }
      ]
    },
    {
      "cell_type": "code",
      "source": [
        "# 특정 부분 문자열이 \"몇 번 발견\"되었는지를 반환: count\n",
        "print(val.count(\",\"))  # 2"
      ],
      "metadata": {
        "colab": {
          "base_uri": "https://localhost:8080/"
        },
        "id": "liRMBv-n6Xk6",
        "outputId": "77c695a6-65d5-4aae-cb7c-167fedea59ca"
      },
      "execution_count": null,
      "outputs": [
        {
          "output_type": "stream",
          "name": "stdout",
          "text": [
            "2\n"
          ]
        }
      ]
    },
    {
      "cell_type": "code",
      "source": [
        "# 찾아낸 패턴을 다른 문자열로 치환: replace\n",
        "\n",
        "print(val.replace(\",\", \"::\"))  # 'a::b:: guido'\n",
        "print(val.replace(\",\", \"\"))    # 'ab guido'"
      ],
      "metadata": {
        "colab": {
          "base_uri": "https://localhost:8080/"
        },
        "id": "JEZFkghb6Yp8",
        "outputId": "230e0275-77aa-4ba4-a6fd-d664fdf77071"
      },
      "execution_count": null,
      "outputs": [
        {
          "output_type": "stream",
          "name": "stdout",
          "text": [
            "a::b:: guido\n",
            "ab guido\n"
          ]
        }
      ]
    }
  ]
}