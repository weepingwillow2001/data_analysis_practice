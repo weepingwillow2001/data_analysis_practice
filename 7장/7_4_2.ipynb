{
  "nbformat": 4,
  "nbformat_minor": 0,
  "metadata": {
    "colab": {
      "provenance": [],
      "authorship_tag": "ABX9TyNXkE1eYLNpUn34ynpYm+6x",
      "include_colab_link": true
    },
    "kernelspec": {
      "name": "python3",
      "display_name": "Python 3"
    },
    "language_info": {
      "name": "python"
    }
  },
  "cells": [
    {
      "cell_type": "markdown",
      "metadata": {
        "id": "view-in-github",
        "colab_type": "text"
      },
      "source": [
        "<a href=\"https://colab.research.google.com/github/weepingwillow2001/data_analysis_practice/blob/main/7%EC%9E%A5/7_4_2.ipynb\" target=\"_parent\"><img src=\"https://colab.research.google.com/assets/colab-badge.svg\" alt=\"Open In Colab\"/></a>"
      ]
    },
    {
      "cell_type": "code",
      "execution_count": null,
      "metadata": {
        "id": "IbfSaVjnRp9W"
      },
      "outputs": [],
      "source": [
        "# 7.4.2 정규 표현식: regular expression\n",
        "# 정규 표현식은 텍스트에서 문자열 패턴을 찾는 유연한 방법을 제공합니다.\n",
        "\n",
        "import re\n",
        "# re 모듈 함수는 패턴 매칭, 치환, 분리 세 가지로 나눌 수 있습니다."
      ]
    },
    {
      "cell_type": "code",
      "source": [
        "# 여러 가지 공백 문자(탭, 스페이스, 개행 문자(\\t))가 포함된 문자열을 나눌 때(split): \\s+ 사용 !!\n",
        "\n",
        "text = \"foo   bar\\t baz  \\tqux\"\n",
        "print(re.split(r\"\\s+\", text))  # ['foo', 'bar', 'baz', 'qux']"
      ],
      "metadata": {
        "colab": {
          "base_uri": "https://localhost:8080/"
        },
        "id": "dlb3hKWo-X3Y",
        "outputId": "a4baf892-6577-4f20-a347-76aa270b5cb0"
      },
      "execution_count": null,
      "outputs": [
        {
          "output_type": "stream",
          "name": "stdout",
          "text": [
            "['foo', 'bar', 'baz', 'qux']\n"
          ]
        }
      ]
    },
    {
      "cell_type": "code",
      "source": [
        "# re.split(r\"\\s+\", text)를 사용하면 정규 표현식이 컴파일되고 그다음에 split 메서드가 실행됩니다.\n",
        "# \"re.compile\"을 통해 직접 정규 표현식을 \"컴파일(compile)\"하고 그렇게 얻은 정규 표현식 객체를 재사용할 수도 있습니다.\n",
        "\n",
        "regex = re.compile(r\"\\s+\")\n",
        "print(regex.split(text))  # ['foo', 'bar', 'baz', 'qux']"
      ],
      "metadata": {
        "colab": {
          "base_uri": "https://localhost:8080/"
        },
        "id": "BQYdUxvv-afE",
        "outputId": "956a6e24-6e7e-4dc9-ce58-0731b0d35a3e"
      },
      "execution_count": null,
      "outputs": [
        {
          "output_type": "stream",
          "name": "stdout",
          "text": [
            "['foo', 'bar', 'baz', 'qux']\n"
          ]
        }
      ]
    },
    {
      "cell_type": "code",
      "source": [
        "# 정규 표현식에 매칭되는 모든 패턴의 목록을 얻고 싶다면 findall 메서드를 사용합니다.\n",
        "print(regex.findall(text))  # ['   ', '\\t ', '  \\t']"
      ],
      "metadata": {
        "colab": {
          "base_uri": "https://localhost:8080/"
        },
        "id": "5iFyXk0v-db-",
        "outputId": "a2411dfa-9393-46f4-d684-b3e7a15e8cc5"
      },
      "execution_count": null,
      "outputs": [
        {
          "output_type": "stream",
          "name": "stdout",
          "text": [
            "['   ', '\\t ', '  \\t']\n"
          ]
        }
      ]
    },
    {
      "cell_type": "code",
      "source": [
        "# 주의: 정규 표현식 안에서 \\ 문자가 이스케이프되는 문제를 피하려면 raw 문자열 표기법을 사용합니다.\n",
        "# r\"C:\\x\"는 \"C:\\\\x\"와 동일합니다.\n",
        "\n",
        "# 동일한 정규 표현식을 다른 문자열에도 적용해야 한다면 re.compile을 이용해 정규 표현식 객체를 만들어서 사용하는 방법을 추천합니다.\n",
        "# 이렇게 하면 CPU 사용량을 아낄 수 있습니다.\n",
        "\n",
        "# match와 search는 findall 메서드와 밀접하게 관련됩니다.\n",
        "# findall은 문자열에서 일치하는 모든 부분 문자열을 찾지만\n",
        "# search 메서드는 패턴과 일치하는 첫 번째 항목을 반환합니다.\n",
        "# match 메서드는 문자열의 시작 부분부터 일치하는 것만 찾습니다."
      ],
      "metadata": {
        "id": "6iFiGS24_qkt"
      },
      "execution_count": null,
      "outputs": []
    },
    {
      "cell_type": "code",
      "source": [
        "# 실제 활용 예제: 이메일 주소를 검사하는 정규 표현식을 살펴봅시다.\n",
        "\n",
        "text = \"\"\"Dave dave@google.com\n",
        "Steve steve@gmail.com\n",
        "Rob rob@gmail.com\n",
        "Ryan ryan@yahoo.com\"\"\"\n",
        "\n",
        "pattern = r\"[A-Za-z0-9._%+-]+@[A-Za-z0-9.-]+\\.[A-Za-z]{2,4}\""
      ],
      "metadata": {
        "id": "_eZSPF8X-kYZ"
      },
      "execution_count": null,
      "outputs": []
    },
    {
      "cell_type": "code",
      "source": [
        "regex = re.compile(pattern, flags=re.IGNORECASE)\n",
        "# re.IGNORECASE: 정규 표현식의 대소문자를 구분하지 않도록 함"
      ],
      "metadata": {
        "id": "h-qji-rh-n3h"
      },
      "execution_count": null,
      "outputs": []
    },
    {
      "cell_type": "code",
      "source": [
        "# findall 메서드를 사용해서 이메일 주소 리스트를 생성합니다.\n",
        "print(regex.findall(text)) # pattern 에 맞는 것을 finall\n",
        "# ['dave@google.com', 'steve@gmail.com', 'rob@gmail.com', 'ryan@yahoo.com']"
      ],
      "metadata": {
        "colab": {
          "base_uri": "https://localhost:8080/"
        },
        "id": "EVpcgNUE-qHx",
        "outputId": "5a1bb811-3b51-4222-f425-f897a7e18683"
      },
      "execution_count": null,
      "outputs": [
        {
          "output_type": "stream",
          "name": "stdout",
          "text": [
            "['dave@google.com', 'steve@gmail.com', 'rob@gmail.com', 'ryan@yahoo.com']\n"
          ]
        }
      ]
    },
    {
      "cell_type": "code",
      "source": [
        "# \"search\"는 텍스트에서 \"첫\" 번째 이메일 주소만 찾습니다.\n",
        "# 이전 정규 표현식에 대한 match 객체는 문자열에서 패턴이 일치하는 시작점과 끝점만 알려줍니다.\n",
        "m = regex.search(text)\n",
        "print(m)  # <re.Match object; span=(5, 20), match='dave@google.com'>  -> \"첫\"번째 이메일 주소"
      ],
      "metadata": {
        "colab": {
          "base_uri": "https://localhost:8080/"
        },
        "id": "Gnxqw22e-rQi",
        "outputId": "a7830929-5fad-472f-bd76-8f44b3363500"
      },
      "execution_count": null,
      "outputs": [
        {
          "output_type": "stream",
          "name": "stdout",
          "text": [
            "<re.Match object; span=(5, 20), match='dave@google.com'>\n"
          ]
        }
      ]
    },
    {
      "cell_type": "code",
      "source": [
        "print(text[m.start():m.end()])  # 'dave@google.com'"
      ],
      "metadata": {
        "colab": {
          "base_uri": "https://localhost:8080/"
        },
        "id": "Kayw1Qc3D8Q3",
        "outputId": "a71337f2-5455-462a-c49c-363993348d99"
      },
      "execution_count": null,
      "outputs": [
        {
          "output_type": "stream",
          "name": "stdout",
          "text": [
            "dave@google.com\n"
          ]
        }
      ]
    },
    {
      "cell_type": "code",
      "source": [
        "# regex.match는 문자열의 \"시작점\"에서부터 패턴이 일치하는지 검사하므로 None을 반환합니다.\n",
        "print(regex.match(text))  # None\n",
        "\n",
        "# 시작은 Dave 이므로 pattern에 일치하지 않음!!"
      ],
      "metadata": {
        "colab": {
          "base_uri": "https://localhost:8080/"
        },
        "id": "mkquAyKa-sel",
        "outputId": "0e75a7c9-314b-4fb3-d33f-c689437d39a3"
      },
      "execution_count": null,
      "outputs": [
        {
          "output_type": "stream",
          "name": "stdout",
          "text": [
            "None\n"
          ]
        }
      ]
    },
    {
      "cell_type": "code",
      "source": [
        "# sub 메서드는 찾은 패턴을 주어진 문자열로 치환(substitute)하고 새로운 문자열을 반환합니다.\n",
        "print(regex.sub(\"REDACTED\", text))\n",
        "# pattern 에 일치하는 부분을 REDACTED로 치환!!"
      ],
      "metadata": {
        "colab": {
          "base_uri": "https://localhost:8080/"
        },
        "id": "BFUkz-Wb-tuK",
        "outputId": "9eddd82d-4fa7-41fb-d3cd-7bdafd389705"
      },
      "execution_count": null,
      "outputs": [
        {
          "output_type": "stream",
          "name": "stdout",
          "text": [
            "Dave REDACTED\n",
            "Steve REDACTED\n",
            "Rob REDACTED\n",
            "Ryan REDACTED\n"
          ]
        }
      ]
    },
    {
      "cell_type": "code",
      "source": [
        "# 이메일 주소를 찾는 동시에 각 이메일 주소를 (사용자 이름), (도메인 이름), (도메인 접미사) 세 가지 컴포넌트로 \"나누어야\" 한다면\n",
        "# 각 패턴을 (괄호)로 묶어야 합니다.\n",
        "pattern = r\"([A-Za-z0-9._%+-]+)@([A-Za-z0-9.-]+)\\.([A-Za-z]{2,4})\"\n",
        "regex = re.compile(pattern, flags=re.IGNORECASE)"
      ],
      "metadata": {
        "id": "l8osRXIY-uuQ"
      },
      "execution_count": null,
      "outputs": []
    },
    {
      "cell_type": "code",
      "source": [
        "# 이렇게 만든 match 객체를 이용하면 \"groups\" 메서드로 각 \"패턴 컴포넌트\"의 \"튜플\"을 얻을 수 있습니다.\n",
        "m = regex.match(\"wesm@bright.net\")\n",
        "print(m.groups())  # ('wesm', 'bright', 'net')"
      ],
      "metadata": {
        "colab": {
          "base_uri": "https://localhost:8080/"
        },
        "id": "_p0cj3ra-vrj",
        "outputId": "5bc609e4-7419-44bb-f57a-5636970861d5"
      },
      "execution_count": null,
      "outputs": [
        {
          "output_type": "stream",
          "name": "stdout",
          "text": [
            "('wesm', 'bright', 'net')\n"
          ]
        }
      ]
    },
    {
      "cell_type": "code",
      "source": [
        "# 패턴에 \"그룹\"이 존재한다면 findall 메서드는 \"튜플의 목록\"을 반환합니다.\n",
        "print(regex.findall(text))"
      ],
      "metadata": {
        "colab": {
          "base_uri": "https://localhost:8080/"
        },
        "id": "Ok_p_TPs-xC_",
        "outputId": "919b0579-dacb-4b2f-c302-74421c4a1512"
      },
      "execution_count": null,
      "outputs": [
        {
          "output_type": "stream",
          "name": "stdout",
          "text": [
            "[('dave', 'google', 'com'), ('steve', 'gmail', 'com'), ('rob', 'gmail', 'com'), ('ryan', 'yahoo', 'com')]\n"
          ]
        }
      ]
    },
    {
      "cell_type": "code",
      "source": [
        "# sub 역시 바꿔치지는 \\1, \\2 같은 특수한 기호를 사용해서 \"각 패턴 그룹\"에 접근할 수 있습니다.\n",
        "# \\1은 첫 번째로 찾은 \"그룹\", \\2는 두 번째로 찾은 \"그룹\"을 의미합니다.\n",
        "print(regex.sub(r\"Username: \\1, Domain: \\2, Suffix: \\3\", text))"
      ],
      "metadata": {
        "colab": {
          "base_uri": "https://localhost:8080/"
        },
        "id": "b55bk5zY-yPZ",
        "outputId": "4b295afb-be42-45ca-ff0c-57171b78c017"
      },
      "execution_count": null,
      "outputs": [
        {
          "output_type": "stream",
          "name": "stdout",
          "text": [
            "Dave Username: dave, Domain: google, Suffix: com\n",
            "Steve Username: steve, Domain: gmail, Suffix: com\n",
            "Rob Username: rob, Domain: gmail, Suffix: com\n",
            "Ryan Username: ryan, Domain: yahoo, Suffix: com\n"
          ]
        }
      ]
    }
  ]
}