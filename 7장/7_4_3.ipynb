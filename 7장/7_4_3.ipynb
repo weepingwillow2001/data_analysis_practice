{
  "nbformat": 4,
  "nbformat_minor": 0,
  "metadata": {
    "colab": {
      "provenance": [],
      "authorship_tag": "ABX9TyP+S/XxZmb+aGvNyevZki/5",
      "include_colab_link": true
    },
    "kernelspec": {
      "name": "python3",
      "display_name": "Python 3"
    },
    "language_info": {
      "name": "python"
    }
  },
  "cells": [
    {
      "cell_type": "markdown",
      "metadata": {
        "id": "view-in-github",
        "colab_type": "text"
      },
      "source": [
        "<a href=\"https://colab.research.google.com/github/weepingwillow2001/data_analysis_practice/blob/main/7%EC%9E%A5/7_4_3.ipynb\" target=\"_parent\"><img src=\"https://colab.research.google.com/assets/colab-badge.svg\" alt=\"Open In Colab\"/></a>"
      ]
    },
    {
      "cell_type": "code",
      "execution_count": null,
      "metadata": {
        "id": "12uA9rDzn9ym"
      },
      "outputs": [],
      "source": [
        "import pandas as pd\n",
        "import numpy as np\n",
        "import re"
      ]
    },
    {
      "cell_type": "code",
      "source": [
        "# 1. 판다스의 문자열 함수 사용하기\n",
        "\n",
        "# 사전형 데이터 생성\n",
        "data = {\"Dave\": \"dave@google.com\", \"Steve\": \"steve@gmail.com\",\n",
        "        \"Rob\": \"rob@gmail.com\", \"Wes\": np.nan}\n",
        "\n",
        "# Series 객체로 변환\n",
        "data = pd.Series(data)\n",
        "print(data)\n"
      ],
      "metadata": {
        "id": "O_Rv-pnkoBTQ",
        "colab": {
          "base_uri": "https://localhost:8080/"
        },
        "outputId": "35e5109a-8c0b-4409-f6b7-39fcf30eb26d"
      },
      "execution_count": null,
      "outputs": [
        {
          "output_type": "stream",
          "name": "stdout",
          "text": [
            "Dave     dave@google.com\n",
            "Steve    steve@gmail.com\n",
            "Rob        rob@gmail.com\n",
            "Wes                  NaN\n",
            "dtype: object\n"
          ]
        }
      ]
    },
    {
      "cell_type": "code",
      "source": [
        "# isna() 메서드를 사용하여 NaN 값 확인\n",
        "print(data.isna())"
      ],
      "metadata": {
        "colab": {
          "base_uri": "https://localhost:8080/"
        },
        "id": "oMm6EbMG66nW",
        "outputId": "6bdaea3d-5246-4af0-f3bf-fef81e9894e7"
      },
      "execution_count": null,
      "outputs": [
        {
          "output_type": "stream",
          "name": "stdout",
          "text": [
            "Dave     False\n",
            "Steve    False\n",
            "Rob      False\n",
            "Wes       True\n",
            "dtype: bool\n"
          ]
        }
      ]
    },
    {
      "cell_type": "code",
      "source": [
        "# 2. 문자열(str) 내 패턴 검색 (contains)\n",
        "\n",
        "# 'gmail'이 포함된 이메일 찾기\n",
        "print(data.str.contains('gmail'))\n"
      ],
      "metadata": {
        "id": "ZrsxS4lRoCfb",
        "colab": {
          "base_uri": "https://localhost:8080/",
          "height": 127
        },
        "outputId": "afed7d9b-e3f1-486f-ec86-1fcae5e55343"
      },
      "execution_count": null,
      "outputs": [
        {
          "output_type": "stream",
          "name": "stdout",
          "text": [
            "Dave     False\n",
            "Steve     True\n",
            "Rob       True\n",
            "Wes        NaN\n",
            "dtype: object\n"
          ]
        },
        {
          "output_type": "execute_result",
          "data": {
            "text/plain": [
              "'\\nDave     False\\nSteve     True\\nRob       True\\nWes       NaN\\ndtype: object\\n'"
            ],
            "application/vnd.google.colaboratory.intrinsic+json": {
              "type": "string"
            }
          },
          "metadata": {},
          "execution_count": 5
        }
      ]
    },
    {
      "cell_type": "code",
      "source": [
        "# 3. 데이터 타입 변환 (astype)\n",
        "\n",
        "# 문자열 타입으로 변환\n",
        "data_as_string_ext = data.astype('string')\n",
        "print(data_as_string_ext)\n"
      ],
      "metadata": {
        "id": "9EdIj_scoD94",
        "colab": {
          "base_uri": "https://localhost:8080/"
        },
        "outputId": "a31f979a-2435-428e-d088-cbde4054662f"
      },
      "execution_count": null,
      "outputs": [
        {
          "output_type": "stream",
          "name": "stdout",
          "text": [
            "Dave     dave@google.com\n",
            "Steve    steve@gmail.com\n",
            "Rob        rob@gmail.com\n",
            "Wes                 <NA>\n",
            "dtype: string\n"
          ]
        }
      ]
    },
    {
      "cell_type": "code",
      "source": [
        "# 문자열 타입으로 변환 후 contains 메서드 사용\n",
        "print(data_as_string_ext.str.contains('gmail'))\n"
      ],
      "metadata": {
        "colab": {
          "base_uri": "https://localhost:8080/",
          "height": 127
        },
        "id": "RchvJ7Ab7KZy",
        "outputId": "29535b96-1a3e-4a42-a62a-d9ac4b479bae"
      },
      "execution_count": null,
      "outputs": [
        {
          "output_type": "stream",
          "name": "stdout",
          "text": [
            "Dave     False\n",
            "Steve     True\n",
            "Rob       True\n",
            "Wes       <NA>\n",
            "dtype: boolean\n"
          ]
        },
        {
          "output_type": "execute_result",
          "data": {
            "text/plain": [
              "'\\nDave     False\\nSteve     True\\nRob       True\\nWes       <NA>\\ndtype: boolean\\n'"
            ],
            "application/vnd.google.colaboratory.intrinsic+json": {
              "type": "string"
            }
          },
          "metadata": {},
          "execution_count": 7
        }
      ]
    },
    {
      "cell_type": "code",
      "source": [
        "# 4. 정규식을 사용한 패턴 검색 (findall)\n",
        "\n",
        "# 이메일 주소 패턴을 정규식으로 정의\n",
        "pattern = r\"([A-Z0-9._%+-]+)@([A-Z0-9.-]+)\\.([A-Z]{2,4})\"\n",
        "\n",
        "# 문자열 한정, 정규식 패턴으로 찾기 (대소문자 구분 없이)\n",
        "print(data.str.findall(pattern, flags=re.IGNORECASE))\n"
      ],
      "metadata": {
        "id": "xRbfpFpmoGFA",
        "colab": {
          "base_uri": "https://localhost:8080/",
          "height": 127
        },
        "outputId": "95fd8833-9ad8-455f-800c-58e2ff47023a"
      },
      "execution_count": null,
      "outputs": [
        {
          "output_type": "stream",
          "name": "stdout",
          "text": [
            "Dave     [(dave, google, com)]\n",
            "Steve    [(steve, gmail, com)]\n",
            "Rob        [(rob, gmail, com)]\n",
            "Wes                        NaN\n",
            "dtype: object\n"
          ]
        },
        {
          "output_type": "execute_result",
          "data": {
            "text/plain": [
              "'\\nDave    [(dave, google, com)]\\nSteve    [(steve, gmail, com)]\\nRob       [(rob, gmail, com)]\\nWes                      NaN\\ndtype: object\\n'"
            ],
            "application/vnd.google.colaboratory.intrinsic+json": {
              "type": "string"
            }
          },
          "metadata": {},
          "execution_count": 8
        }
      ]
    },
    {
      "cell_type": "code",
      "source": [
        "# 5. 매칭된 결과 추출하기\n",
        "data1 = {\n",
        "    \"Dave\": \"dave@google.com\",\n",
        "    \"Steve\": \"steve@gmail.com\",\n",
        "    \"Rob\": \"rob@gmail.com\",\n",
        "    \"Wes\": np.nan,\n",
        "    # \"여러 매치\"가 있는 새로운 데이터 추가\n",
        "    \"Alice\": \"Contact alice@yahoo.com or alice.work@gmail.com for info\",\n",
        "    \"John\": \"Primary: john@outlook.com, Secondary: john.doe@company.com, Personal: jdoe@gmail.com\"\n",
        "}\n",
        "\n",
        "data1 = pd.Series(data1)\n",
        "print(data1)\n",
        "\n",
        "pattern = r\"([A-Z0-9._%+-]+)@([A-Z0-9.-]+)\\.([A-Z]{2,4})\""
      ],
      "metadata": {
        "id": "a_5obJ3coHq1",
        "colab": {
          "base_uri": "https://localhost:8080/"
        },
        "outputId": "c82bb910-a9c6-41d0-81bd-9c0812bbdaa3"
      },
      "execution_count": null,
      "outputs": [
        {
          "output_type": "stream",
          "name": "stdout",
          "text": [
            "Dave                                       dave@google.com\n",
            "Steve                                      steve@gmail.com\n",
            "Rob                                          rob@gmail.com\n",
            "Wes                                                    NaN\n",
            "Alice    Contact alice@yahoo.com or alice.work@gmail.co...\n",
            "John     Primary: john@outlook.com, Secondary: john.doe...\n",
            "dtype: object\n"
          ]
        }
      ]
    },
    {
      "cell_type": "code",
      "source": [
        "# 매칭된 결과에서 \"첫 번째 매치된 '패턴'\"만 가져오기: .str[]\n",
        "matches = data1.str.findall(pattern, flags=re.IGNORECASE).str[0]\n",
        "print(matches)\n",
        "\n",
        "# 두 번째 이메일인 \"alice.work@gmail.com\"은 무시됩니다.\n",
        "# 마찬가지로 John의 경우도 뒤에 나오는 나머지 이메일들은 무시됩니다."
      ],
      "metadata": {
        "colab": {
          "base_uri": "https://localhost:8080/"
        },
        "id": "JJsZ6FrKEng7",
        "outputId": "6b9fc2cd-b5b6-4c91-9c5e-5da0316931a2"
      },
      "execution_count": null,
      "outputs": [
        {
          "output_type": "stream",
          "name": "stdout",
          "text": [
            "Dave      (dave, google, com)\n",
            "Steve     (steve, gmail, com)\n",
            "Rob         (rob, gmail, com)\n",
            "Wes                       NaN\n",
            "Alice     (alice, yahoo, com)\n",
            "John     (john, outlook, com)\n",
            "dtype: object\n"
          ]
        }
      ]
    },
    {
      "cell_type": "code",
      "source": [
        "# 매칭된 결과에서 두 번째 항목(도메인) 가져오기: get\n",
        "print(matches.str.get(1))\n"
      ],
      "metadata": {
        "colab": {
          "base_uri": "https://localhost:8080/"
        },
        "id": "MWbadYXcClhO",
        "outputId": "33eaea45-f1e2-449f-c02c-be74327c7d9f"
      },
      "execution_count": null,
      "outputs": [
        {
          "output_type": "stream",
          "name": "stdout",
          "text": [
            "Dave      google\n",
            "Steve      gmail\n",
            "Rob        gmail\n",
            "Wes          NaN\n",
            "Alice      yahoo\n",
            "John     outlook\n",
            "dtype: object\n"
          ]
        }
      ]
    },
    {
      "cell_type": "code",
      "source": [
        "# 6. 문자열 슬라이싱과 추출\n",
        "\n",
        "# 문자열의 첫 5글자 가져오기\n",
        "print(data.str[:5])\n"
      ],
      "metadata": {
        "id": "Ja8YtUJFoIlF",
        "colab": {
          "base_uri": "https://localhost:8080/"
        },
        "outputId": "af9e91d0-4898-482e-9041-500ab2382d09"
      },
      "execution_count": null,
      "outputs": [
        {
          "output_type": "stream",
          "name": "stdout",
          "text": [
            "Dave     dave@\n",
            "Steve    steve\n",
            "Rob      rob@g\n",
            "Wes        NaN\n",
            "dtype: object\n"
          ]
        }
      ]
    },
    {
      "cell_type": "code",
      "source": [
        "# extract 메서드를 사용하여 정규식 \"그룹\" 결과를 \"DataFrame\"으로 변환\n",
        "print(data.str.extract(pattern, flags=re.IGNORECASE))\n"
      ],
      "metadata": {
        "colab": {
          "base_uri": "https://localhost:8080/",
          "height": 127
        },
        "id": "AkJhy3RrCx5E",
        "outputId": "ffd5c8d7-7ab3-4ce7-db13-c27ef15e0c34"
      },
      "execution_count": null,
      "outputs": [
        {
          "output_type": "stream",
          "name": "stdout",
          "text": [
            "           0       1    2\n",
            "Dave    dave  google  com\n",
            "Steve  steve   gmail  com\n",
            "Rob      rob   gmail  com\n",
            "Wes      NaN     NaN  NaN\n"
          ]
        },
        {
          "output_type": "execute_result",
          "data": {
            "text/plain": [
              "'\\n        0      1    2\\nDave  dave  google  com\\nSteve steve  gmail  com\\nRob    rob  gmail  com\\nWes    NaN    NaN  NaN\\n'"
            ],
            "application/vnd.google.colaboratory.intrinsic+json": {
              "type": "string"
            }
          },
          "metadata": {},
          "execution_count": 12
        }
      ]
    }
  ]
}