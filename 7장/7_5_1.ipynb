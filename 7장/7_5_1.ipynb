{
  "nbformat": 4,
  "nbformat_minor": 0,
  "metadata": {
    "colab": {
      "provenance": [],
      "authorship_tag": "ABX9TyPhbGi6FEOhh1q1aXXQE1qm",
      "include_colab_link": true
    },
    "kernelspec": {
      "name": "python3",
      "display_name": "Python 3"
    },
    "language_info": {
      "name": "python"
    }
  },
  "cells": [
    {
      "cell_type": "markdown",
      "metadata": {
        "id": "view-in-github",
        "colab_type": "text"
      },
      "source": [
        "<a href=\"https://colab.research.google.com/github/weepingwillow2001/data_analysis_practice/blob/main/7%EC%9E%A5/7_5_1.ipynb\" target=\"_parent\"><img src=\"https://colab.research.google.com/assets/colab-badge.svg\" alt=\"Open In Colab\"/></a>"
      ]
    },
    {
      "cell_type": "code",
      "execution_count": 1,
      "metadata": {
        "id": "16O967kfNhR9",
        "colab": {
          "base_uri": "https://localhost:8080/"
        },
        "outputId": "67cf320f-f2c3-4bf9-d653-0f5c6235df20"
      },
      "outputs": [
        {
          "output_type": "stream",
          "name": "stdout",
          "text": [
            "0     apple\n",
            "1    orange\n",
            "2     apple\n",
            "3     apple\n",
            "4     apple\n",
            "5    orange\n",
            "6     apple\n",
            "7     apple\n",
            "dtype: object\n"
          ]
        }
      ],
      "source": [
        "import pandas as pd\n",
        "import numpy as np\n",
        "\n",
        "# 범주형 데이터(반복 값)로 Series 생성\n",
        "# 'apple'이 6번, 'orange'가 2번 나타나는 8개 요소의 Series 생성\n",
        "values = pd.Series(['apple', 'orange', 'apple', 'apple'] * 2)\n",
        "print(values)\n"
      ]
    },
    {
      "cell_type": "code",
      "source": [
        "# pd.unique()는 Series에서 고유 값을 추출\n",
        "# 반복 없이 고유한 값만 반환\n",
        "unique_values = pd.unique(values)\n",
        "print(unique_values)\n"
      ],
      "metadata": {
        "id": "oQYt8Z9WNoEs",
        "colab": {
          "base_uri": "https://localhost:8080/"
        },
        "outputId": "ccf6ddc3-56db-4ea0-820d-6fb015486236"
      },
      "execution_count": 2,
      "outputs": [
        {
          "output_type": "stream",
          "name": "stdout",
          "text": [
            "['apple' 'orange']\n"
          ]
        }
      ]
    },
    {
      "cell_type": "code",
      "source": [
        "# pd.value_counts()는 각 고유 값의 발생 횟수를 계산\n",
        "# Series에서 각 값이 몇 번 나타나는지 보여줌\n",
        "value_counts = pd.value_counts(values)\n",
        "print(value_counts)\n"
      ],
      "metadata": {
        "id": "CsOcHjsANpm4",
        "colab": {
          "base_uri": "https://localhost:8080/"
        },
        "outputId": "e0c1e419-94a9-4d4d-e34b-744bd77bb9f4"
      },
      "execution_count": 3,
      "outputs": [
        {
          "output_type": "stream",
          "name": "stdout",
          "text": [
            "apple     6\n",
            "orange    2\n",
            "Name: count, dtype: int64\n"
          ]
        },
        {
          "output_type": "stream",
          "name": "stderr",
          "text": [
            "<ipython-input-3-d6b2ceb69958>:3: FutureWarning: pandas.value_counts is deprecated and will be removed in a future version. Use pd.Series(obj).value_counts() instead.\n",
            "  value_counts = pd.value_counts(values)\n"
          ]
        }
      ]
    },
    {
      "cell_type": "code",
      "source": [
        "# 범주형으로 해석될 수 있는 숫자 Series 생성\n",
        "values_numeric = pd.Series([0, 1, 0] * 2)\n",
        "print(values_numeric)\n"
      ],
      "metadata": {
        "id": "nkXdR3v2Nq3Z",
        "colab": {
          "base_uri": "https://localhost:8080/"
        },
        "outputId": "d5c172f7-99fe-4ece-8b16-bcedea5b1940"
      },
      "execution_count": 4,
      "outputs": [
        {
          "output_type": "stream",
          "name": "stdout",
          "text": [
            "0    0\n",
            "1    1\n",
            "2    0\n",
            "3    0\n",
            "4    1\n",
            "5    0\n",
            "dtype: int64\n"
          ]
        }
      ]
    },
    {
      "cell_type": "code",
      "source": [
        "# 차원 이름으로 사용될 문자열 값으로 Series 생성\n",
        "dim = pd.Series(['apple', 'orange'])\n",
        "print(dim)\n"
      ],
      "metadata": {
        "id": "owje91zCNr4j",
        "colab": {
          "base_uri": "https://localhost:8080/"
        },
        "outputId": "7ea3afe5-3fc9-4411-c24f-1ce8102021bd"
      },
      "execution_count": 5,
      "outputs": [
        {
          "output_type": "stream",
          "name": "stdout",
          "text": [
            "0     apple\n",
            "1    orange\n",
            "dtype: object\n"
          ]
        }
      ]
    },
    {
      "cell_type": "code",
      "source": [
        "# take(): \"인덱스로\" 가져옴\n",
        "# values_numeric을 \"인덱스로\" 가져와 매핑\n",
        "result = dim.take(values_numeric)\n",
        "print(result)\n"
      ],
      "metadata": {
        "id": "fvcDAIUXNssW",
        "colab": {
          "base_uri": "https://localhost:8080/"
        },
        "outputId": "76785a39-7fc6-431f-d6ef-f6312679fdd8"
      },
      "execution_count": 6,
      "outputs": [
        {
          "output_type": "stream",
          "name": "stdout",
          "text": [
            "0     apple\n",
            "1    orange\n",
            "0     apple\n",
            "0     apple\n",
            "1    orange\n",
            "0     apple\n",
            "dtype: object\n"
          ]
        }
      ]
    }
  ]
}