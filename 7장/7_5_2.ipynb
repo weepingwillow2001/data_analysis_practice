{
  "nbformat": 4,
  "nbformat_minor": 0,
  "metadata": {
    "colab": {
      "provenance": [],
      "authorship_tag": "ABX9TyOPphtTNfR3p69g7x0NEdYv",
      "include_colab_link": true
    },
    "kernelspec": {
      "name": "python3",
      "display_name": "Python 3"
    },
    "language_info": {
      "name": "python"
    }
  },
  "cells": [
    {
      "cell_type": "markdown",
      "metadata": {
        "id": "view-in-github",
        "colab_type": "text"
      },
      "source": [
        "<a href=\"https://colab.research.google.com/github/weepingwillow2001/data_analysis_practice/blob/main/7%EC%9E%A5/7_5_2.ipynb\" target=\"_parent\"><img src=\"https://colab.research.google.com/assets/colab-badge.svg\" alt=\"Open In Colab\"/></a>"
      ]
    },
    {
      "cell_type": "code",
      "execution_count": 1,
      "metadata": {
        "id": "g3H5b3kAySxz"
      },
      "outputs": [],
      "source": [
        "import pandas as pd\n",
        "import numpy as np"
      ]
    },
    {
      "cell_type": "code",
      "source": [
        "fruits = ['apple', 'orange', 'apple', 'apple'] * 2\n",
        "N = len(fruits)\n",
        "rng = np.random.default_rng(seed=12345)\n",
        "df = pd.DataFrame({'fruit': fruits,\n",
        "                   'basket_id': np.arange(N),\n",
        "                   'count': rng.integers(3, 15, size=N),\n",
        "                   'weight': rng.uniform(0, 4, size=N)},\n",
        "                  columns=['basket_id', 'fruit', 'count', 'weight'])\n",
        "df"
      ],
      "metadata": {
        "id": "HjSlbMdfyaKc",
        "colab": {
          "base_uri": "https://localhost:8080/",
          "height": 300
        },
        "outputId": "a5cff92f-80ee-4564-e033-19bfc4f59c6e"
      },
      "execution_count": 2,
      "outputs": [
        {
          "output_type": "execute_result",
          "data": {
            "text/plain": [
              "   basket_id   fruit  count    weight\n",
              "0          0   apple     11  1.564438\n",
              "1          1  orange      5  1.331256\n",
              "2          2   apple     12  2.393235\n",
              "3          3   apple      6  0.746937\n",
              "4          4   apple      5  2.691024\n",
              "5          5  orange     12  3.767211\n",
              "6          6   apple     10  0.992983\n",
              "7          7   apple     11  3.795525"
            ],
            "text/html": [
              "\n",
              "  <div id=\"df-6a599121-22b5-4d21-978d-7b4e10f92dcc\" class=\"colab-df-container\">\n",
              "    <div>\n",
              "<style scoped>\n",
              "    .dataframe tbody tr th:only-of-type {\n",
              "        vertical-align: middle;\n",
              "    }\n",
              "\n",
              "    .dataframe tbody tr th {\n",
              "        vertical-align: top;\n",
              "    }\n",
              "\n",
              "    .dataframe thead th {\n",
              "        text-align: right;\n",
              "    }\n",
              "</style>\n",
              "<table border=\"1\" class=\"dataframe\">\n",
              "  <thead>\n",
              "    <tr style=\"text-align: right;\">\n",
              "      <th></th>\n",
              "      <th>basket_id</th>\n",
              "      <th>fruit</th>\n",
              "      <th>count</th>\n",
              "      <th>weight</th>\n",
              "    </tr>\n",
              "  </thead>\n",
              "  <tbody>\n",
              "    <tr>\n",
              "      <th>0</th>\n",
              "      <td>0</td>\n",
              "      <td>apple</td>\n",
              "      <td>11</td>\n",
              "      <td>1.564438</td>\n",
              "    </tr>\n",
              "    <tr>\n",
              "      <th>1</th>\n",
              "      <td>1</td>\n",
              "      <td>orange</td>\n",
              "      <td>5</td>\n",
              "      <td>1.331256</td>\n",
              "    </tr>\n",
              "    <tr>\n",
              "      <th>2</th>\n",
              "      <td>2</td>\n",
              "      <td>apple</td>\n",
              "      <td>12</td>\n",
              "      <td>2.393235</td>\n",
              "    </tr>\n",
              "    <tr>\n",
              "      <th>3</th>\n",
              "      <td>3</td>\n",
              "      <td>apple</td>\n",
              "      <td>6</td>\n",
              "      <td>0.746937</td>\n",
              "    </tr>\n",
              "    <tr>\n",
              "      <th>4</th>\n",
              "      <td>4</td>\n",
              "      <td>apple</td>\n",
              "      <td>5</td>\n",
              "      <td>2.691024</td>\n",
              "    </tr>\n",
              "    <tr>\n",
              "      <th>5</th>\n",
              "      <td>5</td>\n",
              "      <td>orange</td>\n",
              "      <td>12</td>\n",
              "      <td>3.767211</td>\n",
              "    </tr>\n",
              "    <tr>\n",
              "      <th>6</th>\n",
              "      <td>6</td>\n",
              "      <td>apple</td>\n",
              "      <td>10</td>\n",
              "      <td>0.992983</td>\n",
              "    </tr>\n",
              "    <tr>\n",
              "      <th>7</th>\n",
              "      <td>7</td>\n",
              "      <td>apple</td>\n",
              "      <td>11</td>\n",
              "      <td>3.795525</td>\n",
              "    </tr>\n",
              "  </tbody>\n",
              "</table>\n",
              "</div>\n",
              "    <div class=\"colab-df-buttons\">\n",
              "\n",
              "  <div class=\"colab-df-container\">\n",
              "    <button class=\"colab-df-convert\" onclick=\"convertToInteractive('df-6a599121-22b5-4d21-978d-7b4e10f92dcc')\"\n",
              "            title=\"Convert this dataframe to an interactive table.\"\n",
              "            style=\"display:none;\">\n",
              "\n",
              "  <svg xmlns=\"http://www.w3.org/2000/svg\" height=\"24px\" viewBox=\"0 -960 960 960\">\n",
              "    <path d=\"M120-120v-720h720v720H120Zm60-500h600v-160H180v160Zm220 220h160v-160H400v160Zm0 220h160v-160H400v160ZM180-400h160v-160H180v160Zm440 0h160v-160H620v160ZM180-180h160v-160H180v160Zm440 0h160v-160H620v160Z\"/>\n",
              "  </svg>\n",
              "    </button>\n",
              "\n",
              "  <style>\n",
              "    .colab-df-container {\n",
              "      display:flex;\n",
              "      gap: 12px;\n",
              "    }\n",
              "\n",
              "    .colab-df-convert {\n",
              "      background-color: #E8F0FE;\n",
              "      border: none;\n",
              "      border-radius: 50%;\n",
              "      cursor: pointer;\n",
              "      display: none;\n",
              "      fill: #1967D2;\n",
              "      height: 32px;\n",
              "      padding: 0 0 0 0;\n",
              "      width: 32px;\n",
              "    }\n",
              "\n",
              "    .colab-df-convert:hover {\n",
              "      background-color: #E2EBFA;\n",
              "      box-shadow: 0px 1px 2px rgba(60, 64, 67, 0.3), 0px 1px 3px 1px rgba(60, 64, 67, 0.15);\n",
              "      fill: #174EA6;\n",
              "    }\n",
              "\n",
              "    .colab-df-buttons div {\n",
              "      margin-bottom: 4px;\n",
              "    }\n",
              "\n",
              "    [theme=dark] .colab-df-convert {\n",
              "      background-color: #3B4455;\n",
              "      fill: #D2E3FC;\n",
              "    }\n",
              "\n",
              "    [theme=dark] .colab-df-convert:hover {\n",
              "      background-color: #434B5C;\n",
              "      box-shadow: 0px 1px 3px 1px rgba(0, 0, 0, 0.15);\n",
              "      filter: drop-shadow(0px 1px 2px rgba(0, 0, 0, 0.3));\n",
              "      fill: #FFFFFF;\n",
              "    }\n",
              "  </style>\n",
              "\n",
              "    <script>\n",
              "      const buttonEl =\n",
              "        document.querySelector('#df-6a599121-22b5-4d21-978d-7b4e10f92dcc button.colab-df-convert');\n",
              "      buttonEl.style.display =\n",
              "        google.colab.kernel.accessAllowed ? 'block' : 'none';\n",
              "\n",
              "      async function convertToInteractive(key) {\n",
              "        const element = document.querySelector('#df-6a599121-22b5-4d21-978d-7b4e10f92dcc');\n",
              "        const dataTable =\n",
              "          await google.colab.kernel.invokeFunction('convertToInteractive',\n",
              "                                                    [key], {});\n",
              "        if (!dataTable) return;\n",
              "\n",
              "        const docLinkHtml = 'Like what you see? Visit the ' +\n",
              "          '<a target=\"_blank\" href=https://colab.research.google.com/notebooks/data_table.ipynb>data table notebook</a>'\n",
              "          + ' to learn more about interactive tables.';\n",
              "        element.innerHTML = '';\n",
              "        dataTable['output_type'] = 'display_data';\n",
              "        await google.colab.output.renderOutput(dataTable, element);\n",
              "        const docLink = document.createElement('div');\n",
              "        docLink.innerHTML = docLinkHtml;\n",
              "        element.appendChild(docLink);\n",
              "      }\n",
              "    </script>\n",
              "  </div>\n",
              "\n",
              "\n",
              "<div id=\"df-94c3bd0a-c681-4491-afa9-74124ea37a8d\">\n",
              "  <button class=\"colab-df-quickchart\" onclick=\"quickchart('df-94c3bd0a-c681-4491-afa9-74124ea37a8d')\"\n",
              "            title=\"Suggest charts\"\n",
              "            style=\"display:none;\">\n",
              "\n",
              "<svg xmlns=\"http://www.w3.org/2000/svg\" height=\"24px\"viewBox=\"0 0 24 24\"\n",
              "     width=\"24px\">\n",
              "    <g>\n",
              "        <path d=\"M19 3H5c-1.1 0-2 .9-2 2v14c0 1.1.9 2 2 2h14c1.1 0 2-.9 2-2V5c0-1.1-.9-2-2-2zM9 17H7v-7h2v7zm4 0h-2V7h2v10zm4 0h-2v-4h2v4z\"/>\n",
              "    </g>\n",
              "</svg>\n",
              "  </button>\n",
              "\n",
              "<style>\n",
              "  .colab-df-quickchart {\n",
              "      --bg-color: #E8F0FE;\n",
              "      --fill-color: #1967D2;\n",
              "      --hover-bg-color: #E2EBFA;\n",
              "      --hover-fill-color: #174EA6;\n",
              "      --disabled-fill-color: #AAA;\n",
              "      --disabled-bg-color: #DDD;\n",
              "  }\n",
              "\n",
              "  [theme=dark] .colab-df-quickchart {\n",
              "      --bg-color: #3B4455;\n",
              "      --fill-color: #D2E3FC;\n",
              "      --hover-bg-color: #434B5C;\n",
              "      --hover-fill-color: #FFFFFF;\n",
              "      --disabled-bg-color: #3B4455;\n",
              "      --disabled-fill-color: #666;\n",
              "  }\n",
              "\n",
              "  .colab-df-quickchart {\n",
              "    background-color: var(--bg-color);\n",
              "    border: none;\n",
              "    border-radius: 50%;\n",
              "    cursor: pointer;\n",
              "    display: none;\n",
              "    fill: var(--fill-color);\n",
              "    height: 32px;\n",
              "    padding: 0;\n",
              "    width: 32px;\n",
              "  }\n",
              "\n",
              "  .colab-df-quickchart:hover {\n",
              "    background-color: var(--hover-bg-color);\n",
              "    box-shadow: 0 1px 2px rgba(60, 64, 67, 0.3), 0 1px 3px 1px rgba(60, 64, 67, 0.15);\n",
              "    fill: var(--button-hover-fill-color);\n",
              "  }\n",
              "\n",
              "  .colab-df-quickchart-complete:disabled,\n",
              "  .colab-df-quickchart-complete:disabled:hover {\n",
              "    background-color: var(--disabled-bg-color);\n",
              "    fill: var(--disabled-fill-color);\n",
              "    box-shadow: none;\n",
              "  }\n",
              "\n",
              "  .colab-df-spinner {\n",
              "    border: 2px solid var(--fill-color);\n",
              "    border-color: transparent;\n",
              "    border-bottom-color: var(--fill-color);\n",
              "    animation:\n",
              "      spin 1s steps(1) infinite;\n",
              "  }\n",
              "\n",
              "  @keyframes spin {\n",
              "    0% {\n",
              "      border-color: transparent;\n",
              "      border-bottom-color: var(--fill-color);\n",
              "      border-left-color: var(--fill-color);\n",
              "    }\n",
              "    20% {\n",
              "      border-color: transparent;\n",
              "      border-left-color: var(--fill-color);\n",
              "      border-top-color: var(--fill-color);\n",
              "    }\n",
              "    30% {\n",
              "      border-color: transparent;\n",
              "      border-left-color: var(--fill-color);\n",
              "      border-top-color: var(--fill-color);\n",
              "      border-right-color: var(--fill-color);\n",
              "    }\n",
              "    40% {\n",
              "      border-color: transparent;\n",
              "      border-right-color: var(--fill-color);\n",
              "      border-top-color: var(--fill-color);\n",
              "    }\n",
              "    60% {\n",
              "      border-color: transparent;\n",
              "      border-right-color: var(--fill-color);\n",
              "    }\n",
              "    80% {\n",
              "      border-color: transparent;\n",
              "      border-right-color: var(--fill-color);\n",
              "      border-bottom-color: var(--fill-color);\n",
              "    }\n",
              "    90% {\n",
              "      border-color: transparent;\n",
              "      border-bottom-color: var(--fill-color);\n",
              "    }\n",
              "  }\n",
              "</style>\n",
              "\n",
              "  <script>\n",
              "    async function quickchart(key) {\n",
              "      const quickchartButtonEl =\n",
              "        document.querySelector('#' + key + ' button');\n",
              "      quickchartButtonEl.disabled = true;  // To prevent multiple clicks.\n",
              "      quickchartButtonEl.classList.add('colab-df-spinner');\n",
              "      try {\n",
              "        const charts = await google.colab.kernel.invokeFunction(\n",
              "            'suggestCharts', [key], {});\n",
              "      } catch (error) {\n",
              "        console.error('Error during call to suggestCharts:', error);\n",
              "      }\n",
              "      quickchartButtonEl.classList.remove('colab-df-spinner');\n",
              "      quickchartButtonEl.classList.add('colab-df-quickchart-complete');\n",
              "    }\n",
              "    (() => {\n",
              "      let quickchartButtonEl =\n",
              "        document.querySelector('#df-94c3bd0a-c681-4491-afa9-74124ea37a8d button');\n",
              "      quickchartButtonEl.style.display =\n",
              "        google.colab.kernel.accessAllowed ? 'block' : 'none';\n",
              "    })();\n",
              "  </script>\n",
              "</div>\n",
              "\n",
              "  <div id=\"id_b7470911-8fb1-4d41-938f-a65442fa6470\">\n",
              "    <style>\n",
              "      .colab-df-generate {\n",
              "        background-color: #E8F0FE;\n",
              "        border: none;\n",
              "        border-radius: 50%;\n",
              "        cursor: pointer;\n",
              "        display: none;\n",
              "        fill: #1967D2;\n",
              "        height: 32px;\n",
              "        padding: 0 0 0 0;\n",
              "        width: 32px;\n",
              "      }\n",
              "\n",
              "      .colab-df-generate:hover {\n",
              "        background-color: #E2EBFA;\n",
              "        box-shadow: 0px 1px 2px rgba(60, 64, 67, 0.3), 0px 1px 3px 1px rgba(60, 64, 67, 0.15);\n",
              "        fill: #174EA6;\n",
              "      }\n",
              "\n",
              "      [theme=dark] .colab-df-generate {\n",
              "        background-color: #3B4455;\n",
              "        fill: #D2E3FC;\n",
              "      }\n",
              "\n",
              "      [theme=dark] .colab-df-generate:hover {\n",
              "        background-color: #434B5C;\n",
              "        box-shadow: 0px 1px 3px 1px rgba(0, 0, 0, 0.15);\n",
              "        filter: drop-shadow(0px 1px 2px rgba(0, 0, 0, 0.3));\n",
              "        fill: #FFFFFF;\n",
              "      }\n",
              "    </style>\n",
              "    <button class=\"colab-df-generate\" onclick=\"generateWithVariable('df')\"\n",
              "            title=\"Generate code using this dataframe.\"\n",
              "            style=\"display:none;\">\n",
              "\n",
              "  <svg xmlns=\"http://www.w3.org/2000/svg\" height=\"24px\"viewBox=\"0 0 24 24\"\n",
              "       width=\"24px\">\n",
              "    <path d=\"M7,19H8.4L18.45,9,17,7.55,7,17.6ZM5,21V16.75L18.45,3.32a2,2,0,0,1,2.83,0l1.4,1.43a1.91,1.91,0,0,1,.58,1.4,1.91,1.91,0,0,1-.58,1.4L9.25,21ZM18.45,9,17,7.55Zm-12,3A5.31,5.31,0,0,0,4.9,8.1,5.31,5.31,0,0,0,1,6.5,5.31,5.31,0,0,0,4.9,4.9,5.31,5.31,0,0,0,6.5,1,5.31,5.31,0,0,0,8.1,4.9,5.31,5.31,0,0,0,12,6.5,5.46,5.46,0,0,0,6.5,12Z\"/>\n",
              "  </svg>\n",
              "    </button>\n",
              "    <script>\n",
              "      (() => {\n",
              "      const buttonEl =\n",
              "        document.querySelector('#id_b7470911-8fb1-4d41-938f-a65442fa6470 button.colab-df-generate');\n",
              "      buttonEl.style.display =\n",
              "        google.colab.kernel.accessAllowed ? 'block' : 'none';\n",
              "\n",
              "      buttonEl.onclick = () => {\n",
              "        google.colab.notebook.generateWithVariable('df');\n",
              "      }\n",
              "      })();\n",
              "    </script>\n",
              "  </div>\n",
              "\n",
              "    </div>\n",
              "  </div>\n"
            ],
            "application/vnd.google.colaboratory.intrinsic+json": {
              "type": "dataframe",
              "variable_name": "df",
              "summary": "{\n  \"name\": \"df\",\n  \"rows\": 8,\n  \"fields\": [\n    {\n      \"column\": \"basket_id\",\n      \"properties\": {\n        \"dtype\": \"number\",\n        \"std\": 2,\n        \"min\": 0,\n        \"max\": 7,\n        \"num_unique_values\": 8,\n        \"samples\": [\n          1,\n          5,\n          0\n        ],\n        \"semantic_type\": \"\",\n        \"description\": \"\"\n      }\n    },\n    {\n      \"column\": \"fruit\",\n      \"properties\": {\n        \"dtype\": \"category\",\n        \"num_unique_values\": 2,\n        \"samples\": [\n          \"orange\",\n          \"apple\"\n        ],\n        \"semantic_type\": \"\",\n        \"description\": \"\"\n      }\n    },\n    {\n      \"column\": \"count\",\n      \"properties\": {\n        \"dtype\": \"number\",\n        \"std\": 3,\n        \"min\": 5,\n        \"max\": 12,\n        \"num_unique_values\": 5,\n        \"samples\": [\n          5,\n          10\n        ],\n        \"semantic_type\": \"\",\n        \"description\": \"\"\n      }\n    },\n    {\n      \"column\": \"weight\",\n      \"properties\": {\n        \"dtype\": \"number\",\n        \"std\": 1.1949083376418685,\n        \"min\": 0.7469367424148534,\n        \"max\": 3.795524607333273,\n        \"num_unique_values\": 8,\n        \"samples\": [\n          1.3312557114655381,\n          3.7672114610797487\n        ],\n        \"semantic_type\": \"\",\n        \"description\": \"\"\n      }\n    }\n  ]\n}"
            }
          },
          "metadata": {},
          "execution_count": 2
        }
      ]
    },
    {
      "cell_type": "code",
      "source": [
        "fruit_cat = df['fruit'].astype('category')  # 범주형 데이터로 변환\n",
        "fruit_cat"
      ],
      "metadata": {
        "id": "oztoHCuUyeLq",
        "colab": {
          "base_uri": "https://localhost:8080/",
          "height": 335
        },
        "outputId": "ba68ac09-fe7e-48c6-895f-c76af9a2287f"
      },
      "execution_count": 3,
      "outputs": [
        {
          "output_type": "execute_result",
          "data": {
            "text/plain": [
              "0     apple\n",
              "1    orange\n",
              "2     apple\n",
              "3     apple\n",
              "4     apple\n",
              "5    orange\n",
              "6     apple\n",
              "7     apple\n",
              "Name: fruit, dtype: category\n",
              "Categories (2, object): ['apple', 'orange']"
            ],
            "text/html": [
              "<div>\n",
              "<style scoped>\n",
              "    .dataframe tbody tr th:only-of-type {\n",
              "        vertical-align: middle;\n",
              "    }\n",
              "\n",
              "    .dataframe tbody tr th {\n",
              "        vertical-align: top;\n",
              "    }\n",
              "\n",
              "    .dataframe thead th {\n",
              "        text-align: right;\n",
              "    }\n",
              "</style>\n",
              "<table border=\"1\" class=\"dataframe\">\n",
              "  <thead>\n",
              "    <tr style=\"text-align: right;\">\n",
              "      <th></th>\n",
              "      <th>fruit</th>\n",
              "    </tr>\n",
              "  </thead>\n",
              "  <tbody>\n",
              "    <tr>\n",
              "      <th>0</th>\n",
              "      <td>apple</td>\n",
              "    </tr>\n",
              "    <tr>\n",
              "      <th>1</th>\n",
              "      <td>orange</td>\n",
              "    </tr>\n",
              "    <tr>\n",
              "      <th>2</th>\n",
              "      <td>apple</td>\n",
              "    </tr>\n",
              "    <tr>\n",
              "      <th>3</th>\n",
              "      <td>apple</td>\n",
              "    </tr>\n",
              "    <tr>\n",
              "      <th>4</th>\n",
              "      <td>apple</td>\n",
              "    </tr>\n",
              "    <tr>\n",
              "      <th>5</th>\n",
              "      <td>orange</td>\n",
              "    </tr>\n",
              "    <tr>\n",
              "      <th>6</th>\n",
              "      <td>apple</td>\n",
              "    </tr>\n",
              "    <tr>\n",
              "      <th>7</th>\n",
              "      <td>apple</td>\n",
              "    </tr>\n",
              "  </tbody>\n",
              "</table>\n",
              "</div><br><label><b>dtype:</b> category</label>"
            ]
          },
          "metadata": {},
          "execution_count": 3
        }
      ]
    },
    {
      "cell_type": "code",
      "source": [
        "c = fruit_cat.array\n",
        "type(c)  # pandas.core.arrays.categorical.Categorical"
      ],
      "metadata": {
        "id": "_4LUo7q5yfBc",
        "colab": {
          "base_uri": "https://localhost:8080/",
          "height": 204
        },
        "outputId": "3f380b83-62a2-4f31-8a11-fcc624d6d6f1"
      },
      "execution_count": 4,
      "outputs": [
        {
          "output_type": "execute_result",
          "data": {
            "text/plain": [
              "pandas.core.arrays.categorical.Categorical"
            ],
            "text/html": [
              "<div style=\"max-width:800px; border: 1px solid var(--colab-border-color);\"><style>\n",
              "      pre.function-repr-contents {\n",
              "        overflow-x: auto;\n",
              "        padding: 8px 12px;\n",
              "        max-height: 500px;\n",
              "      }\n",
              "\n",
              "      pre.function-repr-contents.function-repr-contents-collapsed {\n",
              "        cursor: pointer;\n",
              "        max-height: 100px;\n",
              "      }\n",
              "    </style>\n",
              "    <pre style=\"white-space: initial; background:\n",
              "         var(--colab-secondary-surface-color); padding: 8px 12px;\n",
              "         border-bottom: 1px solid var(--colab-border-color);\"><b>pandas.core.arrays.categorical.Categorical</b><br/>def __init__(values, categories=None, ordered=None, dtype: Dtype | None=None, fastpath: bool | lib.NoDefault=lib.no_default, copy: bool=True) -&gt; None</pre><pre class=\"function-repr-contents function-repr-contents-collapsed\" style=\"\"><a class=\"filepath\" style=\"display:none\" href=\"#\">/usr/local/lib/python3.11/dist-packages/pandas/core/arrays/categorical.py</a>Represent a categorical variable in classic R / S-plus fashion.\n",
              "\n",
              "`Categoricals` can only take on a limited, and usually fixed, number\n",
              "of possible values (`categories`). In contrast to statistical categorical\n",
              "variables, a `Categorical` might have an order, but numerical operations\n",
              "(additions, divisions, ...) are not possible.\n",
              "\n",
              "All values of the `Categorical` are either in `categories` or `np.nan`.\n",
              "Assigning values outside of `categories` will raise a `ValueError`. Order\n",
              "is defined by the order of the `categories`, not lexical order of the\n",
              "values.\n",
              "\n",
              "Parameters\n",
              "----------\n",
              "values : list-like\n",
              "    The values of the categorical. If categories are given, values not in\n",
              "    categories will be replaced with NaN.\n",
              "categories : Index-like (unique), optional\n",
              "    The unique categories for this categorical. If not given, the\n",
              "    categories are assumed to be the unique values of `values` (sorted, if\n",
              "    possible, otherwise in the order in which they appear).\n",
              "ordered : bool, default False\n",
              "    Whether or not this categorical is treated as a ordered categorical.\n",
              "    If True, the resulting categorical will be ordered.\n",
              "    An ordered categorical respects, when sorted, the order of its\n",
              "    `categories` attribute (which in turn is the `categories` argument, if\n",
              "    provided).\n",
              "dtype : CategoricalDtype\n",
              "    An instance of ``CategoricalDtype`` to use for this categorical.\n",
              "\n",
              "Attributes\n",
              "----------\n",
              "categories : Index\n",
              "    The categories of this categorical.\n",
              "codes : ndarray\n",
              "    The codes (integer positions, which point to the categories) of this\n",
              "    categorical, read only.\n",
              "ordered : bool\n",
              "    Whether or not this Categorical is ordered.\n",
              "dtype : CategoricalDtype\n",
              "    The instance of ``CategoricalDtype`` storing the ``categories``\n",
              "    and ``ordered``.\n",
              "\n",
              "Methods\n",
              "-------\n",
              "from_codes\n",
              "__array__\n",
              "\n",
              "Raises\n",
              "------\n",
              "ValueError\n",
              "    If the categories do not validate.\n",
              "TypeError\n",
              "    If an explicit ``ordered=True`` is given but no `categories` and the\n",
              "    `values` are not sortable.\n",
              "\n",
              "See Also\n",
              "--------\n",
              "CategoricalDtype : Type for categorical data.\n",
              "CategoricalIndex : An Index with an underlying ``Categorical``.\n",
              "\n",
              "Notes\n",
              "-----\n",
              "See the `user guide\n",
              "&lt;https://pandas.pydata.org/pandas-docs/stable/user_guide/categorical.html&gt;`__\n",
              "for more.\n",
              "\n",
              "Examples\n",
              "--------\n",
              "&gt;&gt;&gt; pd.Categorical([1, 2, 3, 1, 2, 3])\n",
              "[1, 2, 3, 1, 2, 3]\n",
              "Categories (3, int64): [1, 2, 3]\n",
              "\n",
              "&gt;&gt;&gt; pd.Categorical([&#x27;a&#x27;, &#x27;b&#x27;, &#x27;c&#x27;, &#x27;a&#x27;, &#x27;b&#x27;, &#x27;c&#x27;])\n",
              "[&#x27;a&#x27;, &#x27;b&#x27;, &#x27;c&#x27;, &#x27;a&#x27;, &#x27;b&#x27;, &#x27;c&#x27;]\n",
              "Categories (3, object): [&#x27;a&#x27;, &#x27;b&#x27;, &#x27;c&#x27;]\n",
              "\n",
              "Missing values are not included as a category.\n",
              "\n",
              "&gt;&gt;&gt; c = pd.Categorical([1, 2, 3, 1, 2, 3, np.nan])\n",
              "&gt;&gt;&gt; c\n",
              "[1, 2, 3, 1, 2, 3, NaN]\n",
              "Categories (3, int64): [1, 2, 3]\n",
              "\n",
              "However, their presence is indicated in the `codes` attribute\n",
              "by code `-1`.\n",
              "\n",
              "&gt;&gt;&gt; c.codes\n",
              "array([ 0,  1,  2,  0,  1,  2, -1], dtype=int8)\n",
              "\n",
              "Ordered `Categoricals` can be sorted according to the custom order\n",
              "of the categories and can have a min and max value.\n",
              "\n",
              "&gt;&gt;&gt; c = pd.Categorical([&#x27;a&#x27;, &#x27;b&#x27;, &#x27;c&#x27;, &#x27;a&#x27;, &#x27;b&#x27;, &#x27;c&#x27;], ordered=True,\n",
              "...                    categories=[&#x27;c&#x27;, &#x27;b&#x27;, &#x27;a&#x27;])\n",
              "&gt;&gt;&gt; c\n",
              "[&#x27;a&#x27;, &#x27;b&#x27;, &#x27;c&#x27;, &#x27;a&#x27;, &#x27;b&#x27;, &#x27;c&#x27;]\n",
              "Categories (3, object): [&#x27;c&#x27; &lt; &#x27;b&#x27; &lt; &#x27;a&#x27;]\n",
              "&gt;&gt;&gt; c.min()\n",
              "&#x27;c&#x27;</pre>\n",
              "      <script>\n",
              "      if (google.colab.kernel.accessAllowed && google.colab.files && google.colab.files.view) {\n",
              "        for (const element of document.querySelectorAll('.filepath')) {\n",
              "          element.style.display = 'block'\n",
              "          element.onclick = (event) => {\n",
              "            event.preventDefault();\n",
              "            event.stopPropagation();\n",
              "            google.colab.files.view(element.textContent, 246);\n",
              "          };\n",
              "        }\n",
              "      }\n",
              "      for (const element of document.querySelectorAll('.function-repr-contents')) {\n",
              "        element.onclick = (event) => {\n",
              "          event.preventDefault();\n",
              "          event.stopPropagation();\n",
              "          element.classList.toggle('function-repr-contents-collapsed');\n",
              "        };\n",
              "      }\n",
              "      </script>\n",
              "      </div>"
            ]
          },
          "metadata": {},
          "execution_count": 4
        }
      ]
    },
    {
      "cell_type": "code",
      "source": [
        "c.categories  # Index(['apple', 'orange'], dtype='object')"
      ],
      "metadata": {
        "id": "88wEcsAEyf-Y",
        "colab": {
          "base_uri": "https://localhost:8080/"
        },
        "outputId": "32ef63ba-00e2-4109-fe1c-14e3ac661101"
      },
      "execution_count": 8,
      "outputs": [
        {
          "output_type": "execute_result",
          "data": {
            "text/plain": [
              "Index(['apple', 'orange'], dtype='object')"
            ]
          },
          "metadata": {},
          "execution_count": 8
        }
      ]
    },
    {
      "cell_type": "code",
      "source": [
        "# codes: 각 데이터가 어떤 \"카테고리\"에 속하는지를 \"정수\"로 나타낸 배열\n",
        "\n",
        "c.codes  # array([0, 1, 0, 0, 0, 1, 0, 0], dtype=int8)\n",
        "\n",
        "# 첫 번째 값은 'apple'이므로 codes[0]은 0입니다 (categories[0] = 'apple')\n",
        "# 두 번째 값은 'orange'이므로 codes[1]은 1입니다 (categories[1] = 'orange')\n",
        "# 세 번째/네 번째도 'apple'이므로 codes[2]와 codes[3]은 0입니다"
      ],
      "metadata": {
        "colab": {
          "base_uri": "https://localhost:8080/"
        },
        "id": "Vzaw4LHptnmJ",
        "outputId": "dc303372-8beb-40c5-83f9-ea0ab3ff6a68"
      },
      "execution_count": 7,
      "outputs": [
        {
          "output_type": "execute_result",
          "data": {
            "text/plain": [
              "array([0, 1, 0, 0, 0, 1, 0, 0], dtype=int8)"
            ]
          },
          "metadata": {},
          "execution_count": 7
        }
      ]
    },
    {
      "cell_type": "code",
      "source": [
        "dict(enumerate(c.categories))  # {0: 'apple', 1: 'orange'}\n",
        "\n",
        "# enumerate(): 반복 가능한(iterable) 객체를 입력으로 받아 각 요소에 인덱스를 붙여 (인덱스, 요소) 쌍의 형태로 반환"
      ],
      "metadata": {
        "id": "ZYRuBwqMyg6-",
        "colab": {
          "base_uri": "https://localhost:8080/"
        },
        "outputId": "9eeea2b2-bcb8-418f-a92b-8508e66e24dc"
      },
      "execution_count": 9,
      "outputs": [
        {
          "output_type": "execute_result",
          "data": {
            "text/plain": [
              "{0: 'apple', 1: 'orange'}"
            ]
          },
          "metadata": {},
          "execution_count": 9
        }
      ]
    },
    {
      "cell_type": "code",
      "source": [
        "df['fruit'] = df['fruit'].astype('category')\n",
        "df['fruit']"
      ],
      "metadata": {
        "id": "-ysSM4nUyihi",
        "colab": {
          "base_uri": "https://localhost:8080/",
          "height": 335
        },
        "outputId": "6078676f-442e-4a36-cec0-9a33a4a3c5ce"
      },
      "execution_count": 10,
      "outputs": [
        {
          "output_type": "execute_result",
          "data": {
            "text/plain": [
              "0     apple\n",
              "1    orange\n",
              "2     apple\n",
              "3     apple\n",
              "4     apple\n",
              "5    orange\n",
              "6     apple\n",
              "7     apple\n",
              "Name: fruit, dtype: category\n",
              "Categories (2, object): ['apple', 'orange']"
            ],
            "text/html": [
              "<div>\n",
              "<style scoped>\n",
              "    .dataframe tbody tr th:only-of-type {\n",
              "        vertical-align: middle;\n",
              "    }\n",
              "\n",
              "    .dataframe tbody tr th {\n",
              "        vertical-align: top;\n",
              "    }\n",
              "\n",
              "    .dataframe thead th {\n",
              "        text-align: right;\n",
              "    }\n",
              "</style>\n",
              "<table border=\"1\" class=\"dataframe\">\n",
              "  <thead>\n",
              "    <tr style=\"text-align: right;\">\n",
              "      <th></th>\n",
              "      <th>fruit</th>\n",
              "    </tr>\n",
              "  </thead>\n",
              "  <tbody>\n",
              "    <tr>\n",
              "      <th>0</th>\n",
              "      <td>apple</td>\n",
              "    </tr>\n",
              "    <tr>\n",
              "      <th>1</th>\n",
              "      <td>orange</td>\n",
              "    </tr>\n",
              "    <tr>\n",
              "      <th>2</th>\n",
              "      <td>apple</td>\n",
              "    </tr>\n",
              "    <tr>\n",
              "      <th>3</th>\n",
              "      <td>apple</td>\n",
              "    </tr>\n",
              "    <tr>\n",
              "      <th>4</th>\n",
              "      <td>apple</td>\n",
              "    </tr>\n",
              "    <tr>\n",
              "      <th>5</th>\n",
              "      <td>orange</td>\n",
              "    </tr>\n",
              "    <tr>\n",
              "      <th>6</th>\n",
              "      <td>apple</td>\n",
              "    </tr>\n",
              "    <tr>\n",
              "      <th>7</th>\n",
              "      <td>apple</td>\n",
              "    </tr>\n",
              "  </tbody>\n",
              "</table>\n",
              "</div><br><label><b>dtype:</b> category</label>"
            ]
          },
          "metadata": {},
          "execution_count": 10
        }
      ]
    },
    {
      "cell_type": "code",
      "source": [
        "my_categories = pd.Categorical(['foo', 'bar', 'baz', 'foo', 'bar'])\n",
        "my_categories"
      ],
      "metadata": {
        "id": "cv2ybSaGyjQv",
        "colab": {
          "base_uri": "https://localhost:8080/"
        },
        "outputId": "7d66553f-f2b2-4f32-d851-869b5ccdd66c"
      },
      "execution_count": 11,
      "outputs": [
        {
          "output_type": "execute_result",
          "data": {
            "text/plain": [
              "['foo', 'bar', 'baz', 'foo', 'bar']\n",
              "Categories (3, object): ['bar', 'baz', 'foo']"
            ]
          },
          "metadata": {},
          "execution_count": 11
        }
      ]
    },
    {
      "cell_type": "code",
      "source": [
        "categories = ['foo', 'bar', 'baz']\n",
        "codes = [0, 1, 2, 0, 0, 1]\n",
        "my_cats_2 = pd.Categorical.from_codes(codes, categories)\n",
        "my_cats_2"
      ],
      "metadata": {
        "id": "zjJReM3lykAN",
        "colab": {
          "base_uri": "https://localhost:8080/"
        },
        "outputId": "c2f3272e-bd82-4d5e-ed14-0b9d0835c5f8"
      },
      "execution_count": 12,
      "outputs": [
        {
          "output_type": "execute_result",
          "data": {
            "text/plain": [
              "['foo', 'bar', 'baz', 'foo', 'foo', 'bar']\n",
              "Categories (3, object): ['foo', 'bar', 'baz']"
            ]
          },
          "metadata": {},
          "execution_count": 12
        }
      ]
    },
    {
      "cell_type": "code",
      "source": [
        "ordered_cat = pd.Categorical.from_codes(codes, categories, ordered=True)\n",
        "# 기본적으로 Categorical 데이터는 ordered=False로 생성되며, 이는 범주들 사이에 순서가 없음을 의미합니다. 즉, 범주들은 단순히 서로 다른 그룹일 뿐!\n",
        "\n",
        "# 그러나 ordered=True로 설정하면:\n",
        "# 범주들 사이에 명시적인 순서가 존재함을 나타냅니다\n",
        "# 비교 연산(<, >, <=, >=)이 가능해집니다\n",
        "# \"크기 비교\"가 카테고리 목록에 \"지정된 순서\"에 따라 결정\n",
        "# min(), max() 같은 연산에서 범주의 순서가 고려됩니다\n",
        "ordered_cat\n",
        "\n",
        "# ['foo' < 'bar' < 'baz']"
      ],
      "metadata": {
        "id": "KXQLeVkvylOu",
        "colab": {
          "base_uri": "https://localhost:8080/"
        },
        "outputId": "1cc17c01-bb9e-4629-9af3-44053822351c"
      },
      "execution_count": 13,
      "outputs": [
        {
          "output_type": "execute_result",
          "data": {
            "text/plain": [
              "['foo', 'bar', 'baz', 'foo', 'foo', 'bar']\n",
              "Categories (3, object): ['foo' < 'bar' < 'baz']"
            ]
          },
          "metadata": {},
          "execution_count": 13
        }
      ]
    },
    {
      "cell_type": "code",
      "source": [
        "my_cats_2.as_ordered()  # 위와 같은 결과"
      ],
      "metadata": {
        "id": "YIg6fgI9ymkL",
        "colab": {
          "base_uri": "https://localhost:8080/"
        },
        "outputId": "8480494f-b6e1-4304-a1d9-c829d9e390a6"
      },
      "execution_count": 14,
      "outputs": [
        {
          "output_type": "execute_result",
          "data": {
            "text/plain": [
              "['foo', 'bar', 'baz', 'foo', 'foo', 'bar']\n",
              "Categories (3, object): ['foo' < 'bar' < 'baz']"
            ]
          },
          "metadata": {},
          "execution_count": 14
        }
      ]
    }
  ]
}