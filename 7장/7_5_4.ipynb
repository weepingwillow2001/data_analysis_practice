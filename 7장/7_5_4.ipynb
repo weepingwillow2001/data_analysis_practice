{
  "nbformat": 4,
  "nbformat_minor": 0,
  "metadata": {
    "colab": {
      "provenance": [],
      "authorship_tag": "ABX9TyNqgfCCRE5GH2i2CtA6wyrR",
      "include_colab_link": true
    },
    "kernelspec": {
      "name": "python3",
      "display_name": "Python 3"
    },
    "language_info": {
      "name": "python"
    }
  },
  "cells": [
    {
      "cell_type": "markdown",
      "metadata": {
        "id": "view-in-github",
        "colab_type": "text"
      },
      "source": [
        "<a href=\"https://colab.research.google.com/github/weepingwillow2001/data_analysis_practice/blob/main/7%EC%9E%A5/7_5_4.ipynb\" target=\"_parent\"><img src=\"https://colab.research.google.com/assets/colab-badge.svg\" alt=\"Open In Colab\"/></a>"
      ]
    },
    {
      "cell_type": "code",
      "execution_count": 1,
      "metadata": {
        "id": "OiND4TMEw-GQ"
      },
      "outputs": [],
      "source": [
        "# 필요한 모듈 불러오기\n",
        "import pandas as pd\n",
        "import numpy as np"
      ]
    },
    {
      "cell_type": "code",
      "source": [
        "# 카테고리형 데이터 생성\n",
        "s = pd.Series(['a', 'b', 'c', 'd'] * 2)  # 문자열 시리즈 생성\n",
        "cat_s = s.astype('category')  # 카테고리 타입으로 변환"
      ],
      "metadata": {
        "id": "Wc_s91UDxVGB"
      },
      "execution_count": 2,
      "outputs": []
    },
    {
      "cell_type": "code",
      "source": [
        "# 카테고리형 데이터 확인\n",
        "print(cat_s)\n"
      ],
      "metadata": {
        "colab": {
          "base_uri": "https://localhost:8080/"
        },
        "id": "fze9BxASxWo6",
        "outputId": "72a0a2d5-f404-401f-e486-03823f0ac4c0"
      },
      "execution_count": 3,
      "outputs": [
        {
          "output_type": "stream",
          "name": "stdout",
          "text": [
            "0    a\n",
            "1    b\n",
            "2    c\n",
            "3    d\n",
            "4    a\n",
            "5    b\n",
            "6    c\n",
            "7    d\n",
            "dtype: category\n",
            "Categories (4, object): ['a', 'b', 'c', 'd']\n"
          ]
        }
      ]
    },
    {
      "cell_type": "code",
      "source": [
        "# .cat은 pandas에서 카테고리형(categorical) 데이터를 다룰 때 사용하는 \"접근자\"(accessor)입니다.\n",
        "\n",
        "# .cat.rename_categories(): 카테고리 이름 변경\n",
        "# .cat.reorder_categories(): 카테고리 순서 변경\n",
        "# .cat.add_categories(): 새 카테고리 추가"
      ],
      "metadata": {
        "id": "miRUsTFT4UE3"
      },
      "execution_count": null,
      "outputs": []
    },
    {
      "cell_type": "code",
      "source": [
        "# 카테고리 코드 확인\n",
        "print(cat_s.cat.codes)\n",
        "# a: 0, b: 1, c: 2, d: 3"
      ],
      "metadata": {
        "colab": {
          "base_uri": "https://localhost:8080/"
        },
        "id": "9zL5R7LmxYJt",
        "outputId": "ded48f3c-4da4-4fad-c73e-8beec78d0e20"
      },
      "execution_count": 4,
      "outputs": [
        {
          "output_type": "stream",
          "name": "stdout",
          "text": [
            "0    0\n",
            "1    1\n",
            "2    2\n",
            "3    3\n",
            "4    0\n",
            "5    1\n",
            "6    2\n",
            "7    3\n",
            "dtype: int8\n"
          ]
        }
      ]
    },
    {
      "cell_type": "code",
      "source": [
        "# 카테고리 목록 확인\n",
        "print(cat_s.cat.categories)\n"
      ],
      "metadata": {
        "colab": {
          "base_uri": "https://localhost:8080/"
        },
        "id": "zzQb22FrxZ7Y",
        "outputId": "abf6992d-7f2b-4d85-fd32-1bb9fc8f38ee"
      },
      "execution_count": 5,
      "outputs": [
        {
          "output_type": "stream",
          "name": "stdout",
          "text": [
            "Index(['a', 'b', 'c', 'd'], dtype='object')\n"
          ]
        }
      ]
    },
    {
      "cell_type": "code",
      "source": [
        "# 새로운 카테고리 목록 설정\n",
        "# 이 데이터의 실제 범주가 데이터에서 관측된 내 종류를 \"넘어서는 것\"을 의미하고 있다고 가정\n",
        "# 이 경우 \"set_categories\" 메서드를 이용해서 \"변경\"할 수 있다\n",
        "actual_categories = ['a', 'b', 'c', 'd', 'e']\n",
        "cat_s2 = cat_s.cat.set_categories(actual_categories)\n"
      ],
      "metadata": {
        "id": "T3-Ff8hXxbEp"
      },
      "execution_count": 8,
      "outputs": []
    },
    {
      "cell_type": "code",
      "source": [
        "# 변경된 카테고리 확인\n",
        "print(cat_s2)\n",
        "# 출력: 카테고리가 5개로 늘어남\n",
        "# Categories (5, object): ['a', 'b', 'c', 'd', 'e']"
      ],
      "metadata": {
        "colab": {
          "base_uri": "https://localhost:8080/"
        },
        "id": "6bktfYt2xcWF",
        "outputId": "e2625b2e-fcec-467e-efc7-c2b61105a486"
      },
      "execution_count": 9,
      "outputs": [
        {
          "output_type": "stream",
          "name": "stdout",
          "text": [
            "0    a\n",
            "1    b\n",
            "2    c\n",
            "3    d\n",
            "4    a\n",
            "5    b\n",
            "6    c\n",
            "7    d\n",
            "dtype: category\n",
            "Categories (5, object): ['a', 'b', 'c', 'd', 'e']\n"
          ]
        }
      ]
    },
    {
      "cell_type": "code",
      "source": [
        "# 데이터는 변하지 않았지만 새로운 범주가 추가되었다\n",
        "# value_counts를 호출하면 범주의 빈도를 각 확인할 수 있다\n",
        "print(cat_s.value_counts())\n"
      ],
      "metadata": {
        "colab": {
          "base_uri": "https://localhost:8080/"
        },
        "id": "76D0x2hhxeBi",
        "outputId": "ad461b08-ac56-4425-b6dd-ac8b978e0899"
      },
      "execution_count": 10,
      "outputs": [
        {
          "output_type": "stream",
          "name": "stdout",
          "text": [
            "a    2\n",
            "b    2\n",
            "c    2\n",
            "d    2\n",
            "Name: count, dtype: int64\n"
          ]
        }
      ]
    },
    {
      "cell_type": "code",
      "source": [
        "print(cat_s2.value_counts())\n",
        "# 출력: 각 카테고리 값의 빈도수. cat_s2에는 'e'가 0!!개로 표시됨"
      ],
      "metadata": {
        "colab": {
          "base_uri": "https://localhost:8080/"
        },
        "id": "hcYUmKJqzaWp",
        "outputId": "fca376f0-aea1-4b3c-fe24-40d511afad8b"
      },
      "execution_count": 11,
      "outputs": [
        {
          "output_type": "stream",
          "name": "stdout",
          "text": [
            "a    2\n",
            "b    2\n",
            "c    2\n",
            "d    2\n",
            "e    0\n",
            "Name: count, dtype: int64\n"
          ]
        }
      ]
    },
    {
      "cell_type": "code",
      "source": [
        "cat_s.isin(['a', 'b'])"
      ],
      "metadata": {
        "colab": {
          "base_uri": "https://localhost:8080/",
          "height": 335
        },
        "id": "Dchh31444jzM",
        "outputId": "988f78e1-e90d-4db6-9267-fbcf921960cb"
      },
      "execution_count": 15,
      "outputs": [
        {
          "output_type": "execute_result",
          "data": {
            "text/plain": [
              "0     True\n",
              "1     True\n",
              "2    False\n",
              "3    False\n",
              "4     True\n",
              "5     True\n",
              "6    False\n",
              "7    False\n",
              "dtype: bool"
            ],
            "text/html": [
              "<div>\n",
              "<style scoped>\n",
              "    .dataframe tbody tr th:only-of-type {\n",
              "        vertical-align: middle;\n",
              "    }\n",
              "\n",
              "    .dataframe tbody tr th {\n",
              "        vertical-align: top;\n",
              "    }\n",
              "\n",
              "    .dataframe thead th {\n",
              "        text-align: right;\n",
              "    }\n",
              "</style>\n",
              "<table border=\"1\" class=\"dataframe\">\n",
              "  <thead>\n",
              "    <tr style=\"text-align: right;\">\n",
              "      <th></th>\n",
              "      <th>0</th>\n",
              "    </tr>\n",
              "  </thead>\n",
              "  <tbody>\n",
              "    <tr>\n",
              "      <th>0</th>\n",
              "      <td>True</td>\n",
              "    </tr>\n",
              "    <tr>\n",
              "      <th>1</th>\n",
              "      <td>True</td>\n",
              "    </tr>\n",
              "    <tr>\n",
              "      <th>2</th>\n",
              "      <td>False</td>\n",
              "    </tr>\n",
              "    <tr>\n",
              "      <th>3</th>\n",
              "      <td>False</td>\n",
              "    </tr>\n",
              "    <tr>\n",
              "      <th>4</th>\n",
              "      <td>True</td>\n",
              "    </tr>\n",
              "    <tr>\n",
              "      <th>5</th>\n",
              "      <td>True</td>\n",
              "    </tr>\n",
              "    <tr>\n",
              "      <th>6</th>\n",
              "      <td>False</td>\n",
              "    </tr>\n",
              "    <tr>\n",
              "      <th>7</th>\n",
              "      <td>False</td>\n",
              "    </tr>\n",
              "  </tbody>\n",
              "</table>\n",
              "</div><br><label><b>dtype:</b> bool</label>"
            ]
          },
          "metadata": {},
          "execution_count": 15
        }
      ]
    },
    {
      "cell_type": "code",
      "source": [
        "# 특정 카테고리만 필터링\n",
        "cat_s3 = cat_s[cat_s.isin(['a', 'b'])]\n",
        "print(cat_s3)\n",
        "# 출력: 'a'와 'b' 값만 포함된 시리즈\n"
      ],
      "metadata": {
        "colab": {
          "base_uri": "https://localhost:8080/"
        },
        "id": "XPVbsT1uxfTO",
        "outputId": "d18ea7d7-0f04-41c8-ba78-48c21f3ee8e3"
      },
      "execution_count": 12,
      "outputs": [
        {
          "output_type": "stream",
          "name": "stdout",
          "text": [
            "0    a\n",
            "1    b\n",
            "4    a\n",
            "5    b\n",
            "dtype: category\n",
            "Categories (4, object): ['a', 'b', 'c', 'd']\n"
          ]
        }
      ]
    },
    {
      "cell_type": "code",
      "source": [
        "# 사용되지 않는 카테고리 제거: remove_unused_categories()\n",
        "print(cat_s3.cat.remove_unused_categories())\n",
        "# 출력: 사용되지 않는 'c'와 'd' 카테고리가 제거됨\n"
      ],
      "metadata": {
        "colab": {
          "base_uri": "https://localhost:8080/"
        },
        "id": "OktNf_4yxggs",
        "outputId": "a1a14c7a-e4c1-4ed7-ea48-701d890d015a"
      },
      "execution_count": 13,
      "outputs": [
        {
          "output_type": "stream",
          "name": "stdout",
          "text": [
            "0    a\n",
            "1    b\n",
            "4    a\n",
            "5    b\n",
            "dtype: category\n",
            "Categories (2, object): ['a', 'b']\n"
          ]
        }
      ]
    },
    {
      "cell_type": "code",
      "source": [
        "# 더미 변수 생성하기\n",
        "# 통계나 머신러닝 도구를 사용하다 보면 범주형 데이터를 원-핫 인코딩이라고 부르는\n",
        "# 더미 변수(가변수)로 변환해야 하는 경우가 있다\n",
        "cat_s = pd.Series(['a', 'b', 'c', 'd'] * 2, dtype='category')\n",
        "\n",
        "# pandas.get_dummies 함수는 1차원 범주형 데이터를 더미 변수를 가진 \"DataFrame으로 변환\"\n",
        "print(pd.get_dummies(cat_s, dtype=float))\n",
        "# 출력: 원-핫 인코딩된 데이터프레임"
      ],
      "metadata": {
        "colab": {
          "base_uri": "https://localhost:8080/"
        },
        "id": "EpldZ_ulxh1E",
        "outputId": "a98f42fc-a1e2-4c08-df7a-c850a2732a2e"
      },
      "execution_count": 14,
      "outputs": [
        {
          "output_type": "stream",
          "name": "stdout",
          "text": [
            "     a    b    c    d\n",
            "0  1.0  0.0  0.0  0.0\n",
            "1  0.0  1.0  0.0  0.0\n",
            "2  0.0  0.0  1.0  0.0\n",
            "3  0.0  0.0  0.0  1.0\n",
            "4  1.0  0.0  0.0  0.0\n",
            "5  0.0  1.0  0.0  0.0\n",
            "6  0.0  0.0  1.0  0.0\n",
            "7  0.0  0.0  0.0  1.0\n"
          ]
        }
      ]
    }
  ]
}